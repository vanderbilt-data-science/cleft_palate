{
  "cells": [
    {
      "cell_type": "markdown",
      "metadata": {
        "id": "CyB0fe7yF4Mh"
      },
      "source": [
        "# Add noise to data\n",
        "\n",
        "## Goal\n",
        "\n",
        "The goal is to add noise to data to test whether model works well."
      ]
    },
    {
      "cell_type": "markdown",
      "metadata": {
        "id": "k-jy3au5F4Mi"
      },
      "source": [
        "## Model\n",
        "\n",
        "We plan to use the Whisper embedings from OpenAI and train a classification model, either using Whisper with a sequence classification head or another classification LLM."
      ]
    },
    {
      "cell_type": "markdown",
      "metadata": {
        "id": "gZrXyRlPF4Mi"
      },
      "source": [
        "## Data\n",
        "\n",
        "The data in this notebook is publicly available voice recordings featuring hypernasality and control groups. In the future we hope to train our model on private patient data from Vanderbilt University Medical Center (VUMC)."
      ]
    },
    {
      "cell_type": "code",
      "source": [
        "!pip install torch\n",
        "!pip install datasets\n",
        "!pip install librosa\n",
        "!pip install transformers"
      ],
      "metadata": {
        "id": "KifWdFjsF-B6",
        "colab": {
          "base_uri": "https://localhost:8080/"
        },
        "outputId": "a8f09889-937f-4668-d9c3-c421735dbca4"
      },
      "execution_count": 5,
      "outputs": [
        {
          "output_type": "stream",
          "name": "stdout",
          "text": [
            "Requirement already satisfied: torch in /usr/local/lib/python3.10/dist-packages (2.1.0+cu121)\n",
            "Requirement already satisfied: filelock in /usr/local/lib/python3.10/dist-packages (from torch) (3.13.1)\n",
            "Requirement already satisfied: typing-extensions in /usr/local/lib/python3.10/dist-packages (from torch) (4.10.0)\n",
            "Requirement already satisfied: sympy in /usr/local/lib/python3.10/dist-packages (from torch) (1.12)\n",
            "Requirement already satisfied: networkx in /usr/local/lib/python3.10/dist-packages (from torch) (3.2.1)\n",
            "Requirement already satisfied: jinja2 in /usr/local/lib/python3.10/dist-packages (from torch) (3.1.3)\n",
            "Requirement already satisfied: fsspec in /usr/local/lib/python3.10/dist-packages (from torch) (2023.6.0)\n",
            "Requirement already satisfied: triton==2.1.0 in /usr/local/lib/python3.10/dist-packages (from torch) (2.1.0)\n",
            "Requirement already satisfied: MarkupSafe>=2.0 in /usr/local/lib/python3.10/dist-packages (from jinja2->torch) (2.1.5)\n",
            "Requirement already satisfied: mpmath>=0.19 in /usr/local/lib/python3.10/dist-packages (from sympy->torch) (1.3.0)\n",
            "Collecting datasets\n",
            "  Downloading datasets-2.17.1-py3-none-any.whl (536 kB)\n",
            "\u001b[2K     \u001b[90m━━━━━━━━━━━━━━━━━━━━━━━━━━━━━━━━━━━━━━━━\u001b[0m \u001b[32m536.7/536.7 kB\u001b[0m \u001b[31m12.3 MB/s\u001b[0m eta \u001b[36m0:00:00\u001b[0m\n",
            "\u001b[?25hRequirement already satisfied: filelock in /usr/local/lib/python3.10/dist-packages (from datasets) (3.13.1)\n",
            "Requirement already satisfied: numpy>=1.17 in /usr/local/lib/python3.10/dist-packages (from datasets) (1.25.2)\n",
            "Requirement already satisfied: pyarrow>=12.0.0 in /usr/local/lib/python3.10/dist-packages (from datasets) (14.0.2)\n",
            "Requirement already satisfied: pyarrow-hotfix in /usr/local/lib/python3.10/dist-packages (from datasets) (0.6)\n",
            "Collecting dill<0.3.9,>=0.3.0 (from datasets)\n",
            "  Downloading dill-0.3.8-py3-none-any.whl (116 kB)\n",
            "\u001b[2K     \u001b[90m━━━━━━━━━━━━━━━━━━━━━━━━━━━━━━━━━━━━━━━━\u001b[0m \u001b[32m116.3/116.3 kB\u001b[0m \u001b[31m21.1 MB/s\u001b[0m eta \u001b[36m0:00:00\u001b[0m\n",
            "\u001b[?25hRequirement already satisfied: pandas in /usr/local/lib/python3.10/dist-packages (from datasets) (1.5.3)\n",
            "Requirement already satisfied: requests>=2.19.0 in /usr/local/lib/python3.10/dist-packages (from datasets) (2.31.0)\n",
            "Requirement already satisfied: tqdm>=4.62.1 in /usr/local/lib/python3.10/dist-packages (from datasets) (4.66.2)\n",
            "Requirement already satisfied: xxhash in /usr/local/lib/python3.10/dist-packages (from datasets) (3.4.1)\n",
            "Collecting multiprocess (from datasets)\n",
            "  Downloading multiprocess-0.70.16-py310-none-any.whl (134 kB)\n",
            "\u001b[2K     \u001b[90m━━━━━━━━━━━━━━━━━━━━━━━━━━━━━━━━━━━━━━━━\u001b[0m \u001b[32m134.8/134.8 kB\u001b[0m \u001b[31m19.0 MB/s\u001b[0m eta \u001b[36m0:00:00\u001b[0m\n",
            "\u001b[?25hRequirement already satisfied: fsspec[http]<=2023.10.0,>=2023.1.0 in /usr/local/lib/python3.10/dist-packages (from datasets) (2023.6.0)\n",
            "Requirement already satisfied: aiohttp in /usr/local/lib/python3.10/dist-packages (from datasets) (3.9.3)\n",
            "Requirement already satisfied: huggingface-hub>=0.19.4 in /usr/local/lib/python3.10/dist-packages (from datasets) (0.20.3)\n",
            "Requirement already satisfied: packaging in /usr/local/lib/python3.10/dist-packages (from datasets) (23.2)\n",
            "Requirement already satisfied: pyyaml>=5.1 in /usr/local/lib/python3.10/dist-packages (from datasets) (6.0.1)\n",
            "Requirement already satisfied: aiosignal>=1.1.2 in /usr/local/lib/python3.10/dist-packages (from aiohttp->datasets) (1.3.1)\n",
            "Requirement already satisfied: attrs>=17.3.0 in /usr/local/lib/python3.10/dist-packages (from aiohttp->datasets) (23.2.0)\n",
            "Requirement already satisfied: frozenlist>=1.1.1 in /usr/local/lib/python3.10/dist-packages (from aiohttp->datasets) (1.4.1)\n",
            "Requirement already satisfied: multidict<7.0,>=4.5 in /usr/local/lib/python3.10/dist-packages (from aiohttp->datasets) (6.0.5)\n",
            "Requirement already satisfied: yarl<2.0,>=1.0 in /usr/local/lib/python3.10/dist-packages (from aiohttp->datasets) (1.9.4)\n",
            "Requirement already satisfied: async-timeout<5.0,>=4.0 in /usr/local/lib/python3.10/dist-packages (from aiohttp->datasets) (4.0.3)\n",
            "Requirement already satisfied: typing-extensions>=3.7.4.3 in /usr/local/lib/python3.10/dist-packages (from huggingface-hub>=0.19.4->datasets) (4.10.0)\n",
            "Requirement already satisfied: charset-normalizer<4,>=2 in /usr/local/lib/python3.10/dist-packages (from requests>=2.19.0->datasets) (3.3.2)\n",
            "Requirement already satisfied: idna<4,>=2.5 in /usr/local/lib/python3.10/dist-packages (from requests>=2.19.0->datasets) (3.6)\n",
            "Requirement already satisfied: urllib3<3,>=1.21.1 in /usr/local/lib/python3.10/dist-packages (from requests>=2.19.0->datasets) (2.0.7)\n",
            "Requirement already satisfied: certifi>=2017.4.17 in /usr/local/lib/python3.10/dist-packages (from requests>=2.19.0->datasets) (2024.2.2)\n",
            "Requirement already satisfied: python-dateutil>=2.8.1 in /usr/local/lib/python3.10/dist-packages (from pandas->datasets) (2.8.2)\n",
            "Requirement already satisfied: pytz>=2020.1 in /usr/local/lib/python3.10/dist-packages (from pandas->datasets) (2023.4)\n",
            "Requirement already satisfied: six>=1.5 in /usr/local/lib/python3.10/dist-packages (from python-dateutil>=2.8.1->pandas->datasets) (1.16.0)\n",
            "Installing collected packages: dill, multiprocess, datasets\n",
            "Successfully installed datasets-2.17.1 dill-0.3.8 multiprocess-0.70.16\n",
            "Requirement already satisfied: librosa in /usr/local/lib/python3.10/dist-packages (0.10.1)\n",
            "Requirement already satisfied: audioread>=2.1.9 in /usr/local/lib/python3.10/dist-packages (from librosa) (3.0.1)\n",
            "Requirement already satisfied: numpy!=1.22.0,!=1.22.1,!=1.22.2,>=1.20.3 in /usr/local/lib/python3.10/dist-packages (from librosa) (1.25.2)\n",
            "Requirement already satisfied: scipy>=1.2.0 in /usr/local/lib/python3.10/dist-packages (from librosa) (1.11.4)\n",
            "Requirement already satisfied: scikit-learn>=0.20.0 in /usr/local/lib/python3.10/dist-packages (from librosa) (1.2.2)\n",
            "Requirement already satisfied: joblib>=0.14 in /usr/local/lib/python3.10/dist-packages (from librosa) (1.3.2)\n",
            "Requirement already satisfied: decorator>=4.3.0 in /usr/local/lib/python3.10/dist-packages (from librosa) (4.4.2)\n",
            "Requirement already satisfied: numba>=0.51.0 in /usr/local/lib/python3.10/dist-packages (from librosa) (0.58.1)\n",
            "Requirement already satisfied: soundfile>=0.12.1 in /usr/local/lib/python3.10/dist-packages (from librosa) (0.12.1)\n",
            "Requirement already satisfied: pooch>=1.0 in /usr/local/lib/python3.10/dist-packages (from librosa) (1.8.1)\n",
            "Requirement already satisfied: soxr>=0.3.2 in /usr/local/lib/python3.10/dist-packages (from librosa) (0.3.7)\n",
            "Requirement already satisfied: typing-extensions>=4.1.1 in /usr/local/lib/python3.10/dist-packages (from librosa) (4.10.0)\n",
            "Requirement already satisfied: lazy-loader>=0.1 in /usr/local/lib/python3.10/dist-packages (from librosa) (0.3)\n",
            "Requirement already satisfied: msgpack>=1.0 in /usr/local/lib/python3.10/dist-packages (from librosa) (1.0.7)\n",
            "Requirement already satisfied: llvmlite<0.42,>=0.41.0dev0 in /usr/local/lib/python3.10/dist-packages (from numba>=0.51.0->librosa) (0.41.1)\n",
            "Requirement already satisfied: platformdirs>=2.5.0 in /usr/local/lib/python3.10/dist-packages (from pooch>=1.0->librosa) (4.2.0)\n",
            "Requirement already satisfied: packaging>=20.0 in /usr/local/lib/python3.10/dist-packages (from pooch>=1.0->librosa) (23.2)\n",
            "Requirement already satisfied: requests>=2.19.0 in /usr/local/lib/python3.10/dist-packages (from pooch>=1.0->librosa) (2.31.0)\n",
            "Requirement already satisfied: threadpoolctl>=2.0.0 in /usr/local/lib/python3.10/dist-packages (from scikit-learn>=0.20.0->librosa) (3.3.0)\n",
            "Requirement already satisfied: cffi>=1.0 in /usr/local/lib/python3.10/dist-packages (from soundfile>=0.12.1->librosa) (1.16.0)\n",
            "Requirement already satisfied: pycparser in /usr/local/lib/python3.10/dist-packages (from cffi>=1.0->soundfile>=0.12.1->librosa) (2.21)\n",
            "Requirement already satisfied: charset-normalizer<4,>=2 in /usr/local/lib/python3.10/dist-packages (from requests>=2.19.0->pooch>=1.0->librosa) (3.3.2)\n",
            "Requirement already satisfied: idna<4,>=2.5 in /usr/local/lib/python3.10/dist-packages (from requests>=2.19.0->pooch>=1.0->librosa) (3.6)\n",
            "Requirement already satisfied: urllib3<3,>=1.21.1 in /usr/local/lib/python3.10/dist-packages (from requests>=2.19.0->pooch>=1.0->librosa) (2.0.7)\n",
            "Requirement already satisfied: certifi>=2017.4.17 in /usr/local/lib/python3.10/dist-packages (from requests>=2.19.0->pooch>=1.0->librosa) (2024.2.2)\n",
            "Requirement already satisfied: transformers in /usr/local/lib/python3.10/dist-packages (4.38.1)\n",
            "Requirement already satisfied: filelock in /usr/local/lib/python3.10/dist-packages (from transformers) (3.13.1)\n",
            "Requirement already satisfied: huggingface-hub<1.0,>=0.19.3 in /usr/local/lib/python3.10/dist-packages (from transformers) (0.20.3)\n",
            "Requirement already satisfied: numpy>=1.17 in /usr/local/lib/python3.10/dist-packages (from transformers) (1.25.2)\n",
            "Requirement already satisfied: packaging>=20.0 in /usr/local/lib/python3.10/dist-packages (from transformers) (23.2)\n",
            "Requirement already satisfied: pyyaml>=5.1 in /usr/local/lib/python3.10/dist-packages (from transformers) (6.0.1)\n",
            "Requirement already satisfied: regex!=2019.12.17 in /usr/local/lib/python3.10/dist-packages (from transformers) (2023.12.25)\n",
            "Requirement already satisfied: requests in /usr/local/lib/python3.10/dist-packages (from transformers) (2.31.0)\n",
            "Requirement already satisfied: tokenizers<0.19,>=0.14 in /usr/local/lib/python3.10/dist-packages (from transformers) (0.15.2)\n",
            "Requirement already satisfied: safetensors>=0.4.1 in /usr/local/lib/python3.10/dist-packages (from transformers) (0.4.2)\n",
            "Requirement already satisfied: tqdm>=4.27 in /usr/local/lib/python3.10/dist-packages (from transformers) (4.66.2)\n",
            "Requirement already satisfied: fsspec>=2023.5.0 in /usr/local/lib/python3.10/dist-packages (from huggingface-hub<1.0,>=0.19.3->transformers) (2023.6.0)\n",
            "Requirement already satisfied: typing-extensions>=3.7.4.3 in /usr/local/lib/python3.10/dist-packages (from huggingface-hub<1.0,>=0.19.3->transformers) (4.10.0)\n",
            "Requirement already satisfied: charset-normalizer<4,>=2 in /usr/local/lib/python3.10/dist-packages (from requests->transformers) (3.3.2)\n",
            "Requirement already satisfied: idna<4,>=2.5 in /usr/local/lib/python3.10/dist-packages (from requests->transformers) (3.6)\n",
            "Requirement already satisfied: urllib3<3,>=1.21.1 in /usr/local/lib/python3.10/dist-packages (from requests->transformers) (2.0.7)\n",
            "Requirement already satisfied: certifi>=2017.4.17 in /usr/local/lib/python3.10/dist-packages (from requests->transformers) (2024.2.2)\n"
          ]
        }
      ]
    },
    {
      "cell_type": "code",
      "execution_count": 18,
      "metadata": {
        "id": "0frbPwrsF4Mj"
      },
      "outputs": [],
      "source": [
        "# import libraries\n",
        "import datasets\n",
        "from datasets import load_dataset, DatasetDict,  Audio\n",
        "import pandas as pd\n",
        "import os\n",
        "import glob\n",
        "import librosa\n",
        "import io\n",
        "import numpy as np\n",
        "from sklearn.model_selection import train_test_split\n",
        "from sklearn.metrics import f1_score, classification_report, accuracy_score\n",
        "from transformers import WhisperModel, WhisperFeatureExtractor, AdamW\n",
        "import torch\n",
        "import torch.nn as nn\n",
        "import torch.utils.data\n",
        "from torch.utils.data import Dataset, DataLoader\n",
        "from datasets import load_dataset\n",
        "from sklearn.metrics import f1_score, classification_report, accuracy_score"
      ]
    },
    {
      "cell_type": "markdown",
      "source": [
        "## Practice"
      ],
      "metadata": {
        "id": "aA2-AZ3Dpz08"
      }
    },
    {
      "cell_type": "markdown",
      "source": [
        "### Preperation"
      ],
      "metadata": {
        "id": "fGdwcbtQ-WU2"
      }
    },
    {
      "cell_type": "code",
      "source": [
        "# prompt: mount google drive\n",
        "\n",
        "from google.colab import drive\n",
        "drive.mount('/content/drive')\n"
      ],
      "metadata": {
        "colab": {
          "base_uri": "https://localhost:8080/"
        },
        "id": "7_KbJHQxHJyp",
        "outputId": "289a6e3a-b095-4d0f-f7a7-8b39e7c5ea78"
      },
      "execution_count": 19,
      "outputs": [
        {
          "output_type": "stream",
          "name": "stdout",
          "text": [
            "Drive already mounted at /content/drive; to attempt to forcibly remount, call drive.mount(\"/content/drive\", force_remount=True).\n"
          ]
        }
      ]
    },
    {
      "cell_type": "code",
      "source": [
        "folder_path = \"/content/drive/My Drive/vandy 24spring/SLP project/data/Public data/updated_data\" #set a path for the files\n",
        "files = os.listdir(folder_path)\n",
        "print(files)\n",
        "\n",
        "train_catalog = \"/content/drive/My Drive/vandy 24spring/SLP project/data/Public data/updated_data/train.csv\"\n",
        "test_catalog = \"/content/drive/My Drive/vandy 24spring/SLP project/data/Public data/updated_data/test.csv\""
      ],
      "metadata": {
        "id": "_UNczqVkMCGU",
        "colab": {
          "base_uri": "https://localhost:8080/"
        },
        "outputId": "28315158-af82-41e8-f7f2-39e50423e348"
      },
      "execution_count": 20,
      "outputs": [
        {
          "output_type": "stream",
          "name": "stdout",
          "text": [
            "['test.csv', 'train.csv']\n"
          ]
        }
      ]
    },
    {
      "cell_type": "code",
      "source": [
        "!pip install SoundFile\n",
        "import soundfile as sf"
      ],
      "metadata": {
        "id": "owTnaGiN-OXn"
      },
      "execution_count": null,
      "outputs": []
    },
    {
      "cell_type": "markdown",
      "source": [
        "### Define the function"
      ],
      "metadata": {
        "id": "IAYTEVzw-ZD6"
      }
    },
    {
      "cell_type": "code",
      "source": [
        "# Define the Noise-Adding Function\n",
        "def add_gaussian_noise(audio_path, noise_level):\n",
        "    # Load the audio file\n",
        "    signal, sr = librosa.load(audio_path, sr=None)\n",
        "\n",
        "    # Generate Gaussian noise\n",
        "    noise = np.random.normal(0, noise_level, signal.shape)\n",
        "\n",
        "    # Add the noise to the original signal\n",
        "    noisy_signal = signal + noise\n",
        "\n",
        "    return noisy_signal, sr"
      ],
      "metadata": {
        "id": "PhfBXCP1qCbW"
      },
      "execution_count": 80,
      "outputs": []
    },
    {
      "cell_type": "markdown",
      "source": [
        "### Add noise"
      ],
      "metadata": {
        "id": "TkAG3rKb-cY2"
      }
    },
    {
      "cell_type": "code",
      "source": [
        "# Define a directory to save the noisy audio files\n",
        "noisy_audio_dir = \"C:/Users/hhanl/Downloads/\"\n",
        "os.makedirs(noisy_audio_dir, exist_ok=True)\n",
        "\n",
        "# Specify the path to your MP3 file\n",
        "audio_path = '/content/drive/My Drive/vandy 24spring/SLP project/data/Public data/CASES/Video 6_7 (buy baby a bib).mp3'\n",
        "\n",
        "# Add Gaussian noise to the audio file\n",
        "noisy_signal, sr = add_gaussian_noise(audio_path, noise_level=0.1) # you can change the noise level\n",
        "\n",
        "# Construct a path for the noisy audio file\n",
        "noisy_file_path = os.path.join(noisy_audio_dir, 'noisy_' + os.path.basename(audio_path))\n",
        "\n",
        "# Save the noisy audio file\n",
        "sf.write(noisy_file_path, noisy_signal, sr)\n",
        "\n",
        "print(f\"Noisy audio file saved to: {noisy_file_path}\")"
      ],
      "metadata": {
        "colab": {
          "base_uri": "https://localhost:8080/"
        },
        "id": "ZL5f73QCoizU",
        "outputId": "3b46073b-8f9c-45e9-bd6e-b2cfeae1defa"
      },
      "execution_count": 91,
      "outputs": [
        {
          "output_type": "stream",
          "name": "stdout",
          "text": [
            "Noisy audio file saved to: C:/Users/hhanl/Downloads/noisy_Video 6_7 (buy baby a bib).mp3\n"
          ]
        }
      ]
    },
    {
      "cell_type": "markdown",
      "source": [
        "### Play the sound"
      ],
      "metadata": {
        "id": "TKbnvnWC-eS2"
      }
    },
    {
      "cell_type": "code",
      "source": [
        "from IPython.display import Audio\n",
        "\n",
        "audio_path = noisy_file_path\n",
        "Audio(audio_path)"
      ],
      "metadata": {
        "colab": {
          "base_uri": "https://localhost:8080/",
          "height": 75
        },
        "id": "8aKd4mRw8Ym9",
        "outputId": "ecbcfe9d-2bcf-424d-f0e5-64a1ebbdc40f"
      },
      "execution_count": 92,
      "outputs": [
        {
          "output_type": "execute_result",
          "data": {
            "text/plain": [
              "<IPython.lib.display.Audio object>"
            ],
            "text/html": [
              "\n",
              "                <audio  controls=\"controls\" >\n",
              "                    <source src=\"data:audio/mpeg;base64,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\" type=\"audio/mpeg\" />\n",
              "                    Your browser does not support the audio element.\n",
              "                </audio>\n",
              "              "
            ]
          },
          "metadata": {},
          "execution_count": 92
        }
      ]
    },
    {
      "cell_type": "markdown",
      "source": [
        "# Draft"
      ],
      "metadata": {
        "id": "48N4vhLHp4p4"
      }
    },
    {
      "cell_type": "markdown",
      "metadata": {
        "id": "TCbmzVnlF4Mi"
      },
      "source": [
        "### Split Data\n",
        "\n",
        "We need to split our data into train and test sets, then save those for further experiments."
      ]
    },
    {
      "cell_type": "code",
      "source": [
        "train_metadata = pd.read_csv(train_catalog)\n",
        "train_metadata"
      ],
      "metadata": {
        "colab": {
          "base_uri": "https://localhost:8080/",
          "height": 736
        },
        "id": "cK7hP1fMMnZB",
        "outputId": "d366afc4-51b4-4e2a-b5b8-11f72ebeccb1"
      },
      "execution_count": 29,
      "outputs": [
        {
          "output_type": "execute_result",
          "data": {
            "text/plain": [
              "                                             File_Name  Sampling_Rate_(Hz)  \\\n",
              "0             ACPA ted had a dog with white feet-3.mp3             44100.0   \n",
              "1                    cdc 4 (and then go to school).mp3             44100.0   \n",
              "2    Video 1_4 (and can I have some more material).mp3             44100.0   \n",
              "3                      NEW - video 2 (three times).mp3             44100.0   \n",
              "4            cdc 4 (and then he brushed his teeth).mp3             44100.0   \n",
              "..                                                 ...                 ...   \n",
              "142                          video 1 (pizza bundt).mp3             44100.0   \n",
              "143         ACPA most boys like to play football-3.mp3             48000.0   \n",
              "144                        Facebook  (take a tire).mp3             44100.0   \n",
              "145                               Video 5_1 (feet).mp3             44100.0   \n",
              "146                  Video 1_7 (here_s some pizza).mp3             44100.0   \n",
              "\n",
              "     Channels  Duration_(seconds)    folder  hypernasality  \\\n",
              "0         1.0                4.13     CASES            1.0   \n",
              "1         2.0                1.41  CONTROLS            0.0   \n",
              "2         2.0                3.60  CONTROLS            0.0   \n",
              "3         2.0                1.28  CONTROLS            0.0   \n",
              "4         2.0                1.52  CONTROLS            0.0   \n",
              "..        ...                 ...       ...            ...   \n",
              "142       2.0                1.80  CONTROLS            0.0   \n",
              "143       1.0                3.31     CASES            1.0   \n",
              "144       1.0                1.75     CASES            1.0   \n",
              "145       2.0                1.04     CASES            1.0   \n",
              "146       2.0                2.12  CONTROLS            0.0   \n",
              "\n",
              "                         original_text                  OPENAI_Whisper_text  \\\n",
              "0        ted had a dog with white feet      Ted and a dog with white feet.    \n",
              "1                and then go to school              and then go to school.    \n",
              "2    and can I have some more material  And can I have some more material?    \n",
              "3                          three times                        Three times.    \n",
              "4        and then he brushed his teeth      And then he brushed his teeth.    \n",
              "..                                 ...                                  ...   \n",
              "142                        pizza bundt                         Pizza Funt!    \n",
              "143    most boys like to play football    Most boys like to play football.    \n",
              "144                        take a tire                  See you next time!    \n",
              "145                               feet                              Peace.    \n",
              "146                  here's some pizza                  Here's your pizza.    \n",
              "\n",
              "                                          WAV_filename    WAV_folder  \n",
              "0             ACPA ted had a dog with white feet-3.wav     CASES_WAV  \n",
              "1                    cdc 4 (and then go to school).wav  CONTROLS_WAV  \n",
              "2    Video 1_4 (and can I have some more material).wav  CONTROLS_WAV  \n",
              "3                      NEW - video 2 (three times).wav  CONTROLS_WAV  \n",
              "4            cdc 4 (and then he brushed his teeth).wav  CONTROLS_WAV  \n",
              "..                                                 ...           ...  \n",
              "142                          video 1 (pizza bundt).wav  CONTROLS_WAV  \n",
              "143         ACPA most boys like to play football-3.wav     CASES_WAV  \n",
              "144                        Facebook  (take a tire).wav     CASES_WAV  \n",
              "145                               Video 5_1 (feet).wav     CASES_WAV  \n",
              "146                  Video 1_7 (here_s some pizza).wav  CONTROLS_WAV  \n",
              "\n",
              "[147 rows x 10 columns]"
            ],
            "text/html": [
              "\n",
              "  <div id=\"df-04478224-61ee-4bf1-bc97-87a475191cf5\" class=\"colab-df-container\">\n",
              "    <div>\n",
              "<style scoped>\n",
              "    .dataframe tbody tr th:only-of-type {\n",
              "        vertical-align: middle;\n",
              "    }\n",
              "\n",
              "    .dataframe tbody tr th {\n",
              "        vertical-align: top;\n",
              "    }\n",
              "\n",
              "    .dataframe thead th {\n",
              "        text-align: right;\n",
              "    }\n",
              "</style>\n",
              "<table border=\"1\" class=\"dataframe\">\n",
              "  <thead>\n",
              "    <tr style=\"text-align: right;\">\n",
              "      <th></th>\n",
              "      <th>File_Name</th>\n",
              "      <th>Sampling_Rate_(Hz)</th>\n",
              "      <th>Channels</th>\n",
              "      <th>Duration_(seconds)</th>\n",
              "      <th>folder</th>\n",
              "      <th>hypernasality</th>\n",
              "      <th>original_text</th>\n",
              "      <th>OPENAI_Whisper_text</th>\n",
              "      <th>WAV_filename</th>\n",
              "      <th>WAV_folder</th>\n",
              "    </tr>\n",
              "  </thead>\n",
              "  <tbody>\n",
              "    <tr>\n",
              "      <th>0</th>\n",
              "      <td>ACPA ted had a dog with white feet-3.mp3</td>\n",
              "      <td>44100.0</td>\n",
              "      <td>1.0</td>\n",
              "      <td>4.13</td>\n",
              "      <td>CASES</td>\n",
              "      <td>1.0</td>\n",
              "      <td>ted had a dog with white feet</td>\n",
              "      <td>Ted and a dog with white feet.</td>\n",
              "      <td>ACPA ted had a dog with white feet-3.wav</td>\n",
              "      <td>CASES_WAV</td>\n",
              "    </tr>\n",
              "    <tr>\n",
              "      <th>1</th>\n",
              "      <td>cdc 4 (and then go to school).mp3</td>\n",
              "      <td>44100.0</td>\n",
              "      <td>2.0</td>\n",
              "      <td>1.41</td>\n",
              "      <td>CONTROLS</td>\n",
              "      <td>0.0</td>\n",
              "      <td>and then go to school</td>\n",
              "      <td>and then go to school.</td>\n",
              "      <td>cdc 4 (and then go to school).wav</td>\n",
              "      <td>CONTROLS_WAV</td>\n",
              "    </tr>\n",
              "    <tr>\n",
              "      <th>2</th>\n",
              "      <td>Video 1_4 (and can I have some more material).mp3</td>\n",
              "      <td>44100.0</td>\n",
              "      <td>2.0</td>\n",
              "      <td>3.60</td>\n",
              "      <td>CONTROLS</td>\n",
              "      <td>0.0</td>\n",
              "      <td>and can I have some more material</td>\n",
              "      <td>And can I have some more material?</td>\n",
              "      <td>Video 1_4 (and can I have some more material).wav</td>\n",
              "      <td>CONTROLS_WAV</td>\n",
              "    </tr>\n",
              "    <tr>\n",
              "      <th>3</th>\n",
              "      <td>NEW - video 2 (three times).mp3</td>\n",
              "      <td>44100.0</td>\n",
              "      <td>2.0</td>\n",
              "      <td>1.28</td>\n",
              "      <td>CONTROLS</td>\n",
              "      <td>0.0</td>\n",
              "      <td>three times</td>\n",
              "      <td>Three times.</td>\n",
              "      <td>NEW - video 2 (three times).wav</td>\n",
              "      <td>CONTROLS_WAV</td>\n",
              "    </tr>\n",
              "    <tr>\n",
              "      <th>4</th>\n",
              "      <td>cdc 4 (and then he brushed his teeth).mp3</td>\n",
              "      <td>44100.0</td>\n",
              "      <td>2.0</td>\n",
              "      <td>1.52</td>\n",
              "      <td>CONTROLS</td>\n",
              "      <td>0.0</td>\n",
              "      <td>and then he brushed his teeth</td>\n",
              "      <td>And then he brushed his teeth.</td>\n",
              "      <td>cdc 4 (and then he brushed his teeth).wav</td>\n",
              "      <td>CONTROLS_WAV</td>\n",
              "    </tr>\n",
              "    <tr>\n",
              "      <th>...</th>\n",
              "      <td>...</td>\n",
              "      <td>...</td>\n",
              "      <td>...</td>\n",
              "      <td>...</td>\n",
              "      <td>...</td>\n",
              "      <td>...</td>\n",
              "      <td>...</td>\n",
              "      <td>...</td>\n",
              "      <td>...</td>\n",
              "      <td>...</td>\n",
              "    </tr>\n",
              "    <tr>\n",
              "      <th>142</th>\n",
              "      <td>video 1 (pizza bundt).mp3</td>\n",
              "      <td>44100.0</td>\n",
              "      <td>2.0</td>\n",
              "      <td>1.80</td>\n",
              "      <td>CONTROLS</td>\n",
              "      <td>0.0</td>\n",
              "      <td>pizza bundt</td>\n",
              "      <td>Pizza Funt!</td>\n",
              "      <td>video 1 (pizza bundt).wav</td>\n",
              "      <td>CONTROLS_WAV</td>\n",
              "    </tr>\n",
              "    <tr>\n",
              "      <th>143</th>\n",
              "      <td>ACPA most boys like to play football-3.mp3</td>\n",
              "      <td>48000.0</td>\n",
              "      <td>1.0</td>\n",
              "      <td>3.31</td>\n",
              "      <td>CASES</td>\n",
              "      <td>1.0</td>\n",
              "      <td>most boys like to play football</td>\n",
              "      <td>Most boys like to play football.</td>\n",
              "      <td>ACPA most boys like to play football-3.wav</td>\n",
              "      <td>CASES_WAV</td>\n",
              "    </tr>\n",
              "    <tr>\n",
              "      <th>144</th>\n",
              "      <td>Facebook  (take a tire).mp3</td>\n",
              "      <td>44100.0</td>\n",
              "      <td>1.0</td>\n",
              "      <td>1.75</td>\n",
              "      <td>CASES</td>\n",
              "      <td>1.0</td>\n",
              "      <td>take a tire</td>\n",
              "      <td>See you next time!</td>\n",
              "      <td>Facebook  (take a tire).wav</td>\n",
              "      <td>CASES_WAV</td>\n",
              "    </tr>\n",
              "    <tr>\n",
              "      <th>145</th>\n",
              "      <td>Video 5_1 (feet).mp3</td>\n",
              "      <td>44100.0</td>\n",
              "      <td>2.0</td>\n",
              "      <td>1.04</td>\n",
              "      <td>CASES</td>\n",
              "      <td>1.0</td>\n",
              "      <td>feet</td>\n",
              "      <td>Peace.</td>\n",
              "      <td>Video 5_1 (feet).wav</td>\n",
              "      <td>CASES_WAV</td>\n",
              "    </tr>\n",
              "    <tr>\n",
              "      <th>146</th>\n",
              "      <td>Video 1_7 (here_s some pizza).mp3</td>\n",
              "      <td>44100.0</td>\n",
              "      <td>2.0</td>\n",
              "      <td>2.12</td>\n",
              "      <td>CONTROLS</td>\n",
              "      <td>0.0</td>\n",
              "      <td>here's some pizza</td>\n",
              "      <td>Here's your pizza.</td>\n",
              "      <td>Video 1_7 (here_s some pizza).wav</td>\n",
              "      <td>CONTROLS_WAV</td>\n",
              "    </tr>\n",
              "  </tbody>\n",
              "</table>\n",
              "<p>147 rows × 10 columns</p>\n",
              "</div>\n",
              "    <div class=\"colab-df-buttons\">\n",
              "\n",
              "  <div class=\"colab-df-container\">\n",
              "    <button class=\"colab-df-convert\" onclick=\"convertToInteractive('df-04478224-61ee-4bf1-bc97-87a475191cf5')\"\n",
              "            title=\"Convert this dataframe to an interactive table.\"\n",
              "            style=\"display:none;\">\n",
              "\n",
              "  <svg xmlns=\"http://www.w3.org/2000/svg\" height=\"24px\" viewBox=\"0 -960 960 960\">\n",
              "    <path d=\"M120-120v-720h720v720H120Zm60-500h600v-160H180v160Zm220 220h160v-160H400v160Zm0 220h160v-160H400v160ZM180-400h160v-160H180v160Zm440 0h160v-160H620v160ZM180-180h160v-160H180v160Zm440 0h160v-160H620v160Z\"/>\n",
              "  </svg>\n",
              "    </button>\n",
              "\n",
              "  <style>\n",
              "    .colab-df-container {\n",
              "      display:flex;\n",
              "      gap: 12px;\n",
              "    }\n",
              "\n",
              "    .colab-df-convert {\n",
              "      background-color: #E8F0FE;\n",
              "      border: none;\n",
              "      border-radius: 50%;\n",
              "      cursor: pointer;\n",
              "      display: none;\n",
              "      fill: #1967D2;\n",
              "      height: 32px;\n",
              "      padding: 0 0 0 0;\n",
              "      width: 32px;\n",
              "    }\n",
              "\n",
              "    .colab-df-convert:hover {\n",
              "      background-color: #E2EBFA;\n",
              "      box-shadow: 0px 1px 2px rgba(60, 64, 67, 0.3), 0px 1px 3px 1px rgba(60, 64, 67, 0.15);\n",
              "      fill: #174EA6;\n",
              "    }\n",
              "\n",
              "    .colab-df-buttons div {\n",
              "      margin-bottom: 4px;\n",
              "    }\n",
              "\n",
              "    [theme=dark] .colab-df-convert {\n",
              "      background-color: #3B4455;\n",
              "      fill: #D2E3FC;\n",
              "    }\n",
              "\n",
              "    [theme=dark] .colab-df-convert:hover {\n",
              "      background-color: #434B5C;\n",
              "      box-shadow: 0px 1px 3px 1px rgba(0, 0, 0, 0.15);\n",
              "      filter: drop-shadow(0px 1px 2px rgba(0, 0, 0, 0.3));\n",
              "      fill: #FFFFFF;\n",
              "    }\n",
              "  </style>\n",
              "\n",
              "    <script>\n",
              "      const buttonEl =\n",
              "        document.querySelector('#df-04478224-61ee-4bf1-bc97-87a475191cf5 button.colab-df-convert');\n",
              "      buttonEl.style.display =\n",
              "        google.colab.kernel.accessAllowed ? 'block' : 'none';\n",
              "\n",
              "      async function convertToInteractive(key) {\n",
              "        const element = document.querySelector('#df-04478224-61ee-4bf1-bc97-87a475191cf5');\n",
              "        const dataTable =\n",
              "          await google.colab.kernel.invokeFunction('convertToInteractive',\n",
              "                                                    [key], {});\n",
              "        if (!dataTable) return;\n",
              "\n",
              "        const docLinkHtml = 'Like what you see? Visit the ' +\n",
              "          '<a target=\"_blank\" href=https://colab.research.google.com/notebooks/data_table.ipynb>data table notebook</a>'\n",
              "          + ' to learn more about interactive tables.';\n",
              "        element.innerHTML = '';\n",
              "        dataTable['output_type'] = 'display_data';\n",
              "        await google.colab.output.renderOutput(dataTable, element);\n",
              "        const docLink = document.createElement('div');\n",
              "        docLink.innerHTML = docLinkHtml;\n",
              "        element.appendChild(docLink);\n",
              "      }\n",
              "    </script>\n",
              "  </div>\n",
              "\n",
              "\n",
              "<div id=\"df-c6bcfe1c-a25f-48c8-8002-75264e6647c0\">\n",
              "  <button class=\"colab-df-quickchart\" onclick=\"quickchart('df-c6bcfe1c-a25f-48c8-8002-75264e6647c0')\"\n",
              "            title=\"Suggest charts\"\n",
              "            style=\"display:none;\">\n",
              "\n",
              "<svg xmlns=\"http://www.w3.org/2000/svg\" height=\"24px\"viewBox=\"0 0 24 24\"\n",
              "     width=\"24px\">\n",
              "    <g>\n",
              "        <path d=\"M19 3H5c-1.1 0-2 .9-2 2v14c0 1.1.9 2 2 2h14c1.1 0 2-.9 2-2V5c0-1.1-.9-2-2-2zM9 17H7v-7h2v7zm4 0h-2V7h2v10zm4 0h-2v-4h2v4z\"/>\n",
              "    </g>\n",
              "</svg>\n",
              "  </button>\n",
              "\n",
              "<style>\n",
              "  .colab-df-quickchart {\n",
              "      --bg-color: #E8F0FE;\n",
              "      --fill-color: #1967D2;\n",
              "      --hover-bg-color: #E2EBFA;\n",
              "      --hover-fill-color: #174EA6;\n",
              "      --disabled-fill-color: #AAA;\n",
              "      --disabled-bg-color: #DDD;\n",
              "  }\n",
              "\n",
              "  [theme=dark] .colab-df-quickchart {\n",
              "      --bg-color: #3B4455;\n",
              "      --fill-color: #D2E3FC;\n",
              "      --hover-bg-color: #434B5C;\n",
              "      --hover-fill-color: #FFFFFF;\n",
              "      --disabled-bg-color: #3B4455;\n",
              "      --disabled-fill-color: #666;\n",
              "  }\n",
              "\n",
              "  .colab-df-quickchart {\n",
              "    background-color: var(--bg-color);\n",
              "    border: none;\n",
              "    border-radius: 50%;\n",
              "    cursor: pointer;\n",
              "    display: none;\n",
              "    fill: var(--fill-color);\n",
              "    height: 32px;\n",
              "    padding: 0;\n",
              "    width: 32px;\n",
              "  }\n",
              "\n",
              "  .colab-df-quickchart:hover {\n",
              "    background-color: var(--hover-bg-color);\n",
              "    box-shadow: 0 1px 2px rgba(60, 64, 67, 0.3), 0 1px 3px 1px rgba(60, 64, 67, 0.15);\n",
              "    fill: var(--button-hover-fill-color);\n",
              "  }\n",
              "\n",
              "  .colab-df-quickchart-complete:disabled,\n",
              "  .colab-df-quickchart-complete:disabled:hover {\n",
              "    background-color: var(--disabled-bg-color);\n",
              "    fill: var(--disabled-fill-color);\n",
              "    box-shadow: none;\n",
              "  }\n",
              "\n",
              "  .colab-df-spinner {\n",
              "    border: 2px solid var(--fill-color);\n",
              "    border-color: transparent;\n",
              "    border-bottom-color: var(--fill-color);\n",
              "    animation:\n",
              "      spin 1s steps(1) infinite;\n",
              "  }\n",
              "\n",
              "  @keyframes spin {\n",
              "    0% {\n",
              "      border-color: transparent;\n",
              "      border-bottom-color: var(--fill-color);\n",
              "      border-left-color: var(--fill-color);\n",
              "    }\n",
              "    20% {\n",
              "      border-color: transparent;\n",
              "      border-left-color: var(--fill-color);\n",
              "      border-top-color: var(--fill-color);\n",
              "    }\n",
              "    30% {\n",
              "      border-color: transparent;\n",
              "      border-left-color: var(--fill-color);\n",
              "      border-top-color: var(--fill-color);\n",
              "      border-right-color: var(--fill-color);\n",
              "    }\n",
              "    40% {\n",
              "      border-color: transparent;\n",
              "      border-right-color: var(--fill-color);\n",
              "      border-top-color: var(--fill-color);\n",
              "    }\n",
              "    60% {\n",
              "      border-color: transparent;\n",
              "      border-right-color: var(--fill-color);\n",
              "    }\n",
              "    80% {\n",
              "      border-color: transparent;\n",
              "      border-right-color: var(--fill-color);\n",
              "      border-bottom-color: var(--fill-color);\n",
              "    }\n",
              "    90% {\n",
              "      border-color: transparent;\n",
              "      border-bottom-color: var(--fill-color);\n",
              "    }\n",
              "  }\n",
              "</style>\n",
              "\n",
              "  <script>\n",
              "    async function quickchart(key) {\n",
              "      const quickchartButtonEl =\n",
              "        document.querySelector('#' + key + ' button');\n",
              "      quickchartButtonEl.disabled = true;  // To prevent multiple clicks.\n",
              "      quickchartButtonEl.classList.add('colab-df-spinner');\n",
              "      try {\n",
              "        const charts = await google.colab.kernel.invokeFunction(\n",
              "            'suggestCharts', [key], {});\n",
              "      } catch (error) {\n",
              "        console.error('Error during call to suggestCharts:', error);\n",
              "      }\n",
              "      quickchartButtonEl.classList.remove('colab-df-spinner');\n",
              "      quickchartButtonEl.classList.add('colab-df-quickchart-complete');\n",
              "    }\n",
              "    (() => {\n",
              "      let quickchartButtonEl =\n",
              "        document.querySelector('#df-c6bcfe1c-a25f-48c8-8002-75264e6647c0 button');\n",
              "      quickchartButtonEl.style.display =\n",
              "        google.colab.kernel.accessAllowed ? 'block' : 'none';\n",
              "    })();\n",
              "  </script>\n",
              "</div>\n",
              "\n",
              "  <div id=\"id_ab843e29-9232-4383-883e-076622ebf34e\">\n",
              "    <style>\n",
              "      .colab-df-generate {\n",
              "        background-color: #E8F0FE;\n",
              "        border: none;\n",
              "        border-radius: 50%;\n",
              "        cursor: pointer;\n",
              "        display: none;\n",
              "        fill: #1967D2;\n",
              "        height: 32px;\n",
              "        padding: 0 0 0 0;\n",
              "        width: 32px;\n",
              "      }\n",
              "\n",
              "      .colab-df-generate:hover {\n",
              "        background-color: #E2EBFA;\n",
              "        box-shadow: 0px 1px 2px rgba(60, 64, 67, 0.3), 0px 1px 3px 1px rgba(60, 64, 67, 0.15);\n",
              "        fill: #174EA6;\n",
              "      }\n",
              "\n",
              "      [theme=dark] .colab-df-generate {\n",
              "        background-color: #3B4455;\n",
              "        fill: #D2E3FC;\n",
              "      }\n",
              "\n",
              "      [theme=dark] .colab-df-generate:hover {\n",
              "        background-color: #434B5C;\n",
              "        box-shadow: 0px 1px 3px 1px rgba(0, 0, 0, 0.15);\n",
              "        filter: drop-shadow(0px 1px 2px rgba(0, 0, 0, 0.3));\n",
              "        fill: #FFFFFF;\n",
              "      }\n",
              "    </style>\n",
              "    <button class=\"colab-df-generate\" onclick=\"generateWithVariable('train_metadata')\"\n",
              "            title=\"Generate code using this dataframe.\"\n",
              "            style=\"display:none;\">\n",
              "\n",
              "  <svg xmlns=\"http://www.w3.org/2000/svg\" height=\"24px\"viewBox=\"0 0 24 24\"\n",
              "       width=\"24px\">\n",
              "    <path d=\"M7,19H8.4L18.45,9,17,7.55,7,17.6ZM5,21V16.75L18.45,3.32a2,2,0,0,1,2.83,0l1.4,1.43a1.91,1.91,0,0,1,.58,1.4,1.91,1.91,0,0,1-.58,1.4L9.25,21ZM18.45,9,17,7.55Zm-12,3A5.31,5.31,0,0,0,4.9,8.1,5.31,5.31,0,0,0,1,6.5,5.31,5.31,0,0,0,4.9,4.9,5.31,5.31,0,0,0,6.5,1,5.31,5.31,0,0,0,8.1,4.9,5.31,5.31,0,0,0,12,6.5,5.46,5.46,0,0,0,6.5,12Z\"/>\n",
              "  </svg>\n",
              "    </button>\n",
              "    <script>\n",
              "      (() => {\n",
              "      const buttonEl =\n",
              "        document.querySelector('#id_ab843e29-9232-4383-883e-076622ebf34e button.colab-df-generate');\n",
              "      buttonEl.style.display =\n",
              "        google.colab.kernel.accessAllowed ? 'block' : 'none';\n",
              "\n",
              "      buttonEl.onclick = () => {\n",
              "        google.colab.notebook.generateWithVariable('train_metadata');\n",
              "      }\n",
              "      })();\n",
              "    </script>\n",
              "  </div>\n",
              "\n",
              "    </div>\n",
              "  </div>\n"
            ],
            "application/vnd.google.colaboratory.intrinsic+json": {
              "type": "dataframe",
              "variable_name": "train_metadata",
              "summary": "{\n  \"name\": \"train_metadata\",\n  \"rows\": 147,\n  \"fields\": [\n    {\n      \"column\": \"File_Name\",\n      \"properties\": {\n        \"dtype\": \"string\",\n        \"num_unique_values\": 147,\n        \"samples\": [\n          \"ACPA and I started out on the switch board and two phones.mp3\",\n          \"ACPA they feed seeds to birds-2.mp3\",\n          \"Video 3_1 (told).mp3\"\n        ],\n        \"semantic_type\": \"\",\n        \"description\": \"\"\n      }\n    },\n    {\n      \"column\": \"Sampling_Rate_(Hz)\",\n      \"properties\": {\n        \"dtype\": \"number\",\n        \"std\": 1148.7336684784207,\n        \"min\": 44100.0,\n        \"max\": 48000.0,\n        \"num_unique_values\": 2,\n        \"samples\": [\n          48000.0,\n          44100.0\n        ],\n        \"semantic_type\": \"\",\n        \"description\": \"\"\n      }\n    },\n    {\n      \"column\": \"Channels\",\n      \"properties\": {\n        \"dtype\": \"number\",\n        \"std\": 0.4855569370242271,\n        \"min\": 1.0,\n        \"max\": 2.0,\n        \"num_unique_values\": 2,\n        \"samples\": [\n          2.0,\n          1.0\n        ],\n        \"semantic_type\": \"\",\n        \"description\": \"\"\n      }\n    },\n    {\n      \"column\": \"Duration_(seconds)\",\n      \"properties\": {\n        \"dtype\": \"number\",\n        \"std\": 1.3039081310151013,\n        \"min\": 0.44,\n        \"max\": 9.35,\n        \"num_unique_values\": 99,\n        \"samples\": [\n          0.55,\n          1.46\n        ],\n        \"semantic_type\": \"\",\n        \"description\": \"\"\n      }\n    },\n    {\n      \"column\": \"folder\",\n      \"properties\": {\n        \"dtype\": \"category\",\n        \"num_unique_values\": 2,\n        \"samples\": [\n          \"CONTROLS\",\n          \"CASES\"\n        ],\n        \"semantic_type\": \"\",\n        \"description\": \"\"\n      }\n    },\n    {\n      \"column\": \"hypernasality\",\n      \"properties\": {\n        \"dtype\": \"number\",\n        \"std\": 0.5011402523360258,\n        \"min\": 0.0,\n        \"max\": 1.0,\n        \"num_unique_values\": 2,\n        \"samples\": [\n          0.0,\n          1.0\n        ],\n        \"semantic_type\": \"\",\n        \"description\": \"\"\n      }\n    },\n    {\n      \"column\": \"original_text\",\n      \"properties\": {\n        \"dtype\": \"string\",\n        \"num_unique_values\": 131,\n        \"samples\": [\n          \"puppy will pull a rope\",\n          \"can I have your phone\"\n        ],\n        \"semantic_type\": \"\",\n        \"description\": \"\"\n      }\n    },\n    {\n      \"column\": \"OPENAI_Whisper_text\",\n      \"properties\": {\n        \"dtype\": \"string\",\n        \"num_unique_values\": 140,\n        \"samples\": [\n          \"T-R-E-A-T-O-N-A \",\n          \"Hej d\\u00e5, mamma! \"\n        ],\n        \"semantic_type\": \"\",\n        \"description\": \"\"\n      }\n    },\n    {\n      \"column\": \"WAV_filename\",\n      \"properties\": {\n        \"dtype\": \"string\",\n        \"num_unique_values\": 147,\n        \"samples\": [\n          \"ACPA and I started out on the switch board and two phones.wav\",\n          \"ACPA they feed seeds to birds-2.wav\"\n        ],\n        \"semantic_type\": \"\",\n        \"description\": \"\"\n      }\n    },\n    {\n      \"column\": \"WAV_folder\",\n      \"properties\": {\n        \"dtype\": \"category\",\n        \"num_unique_values\": 2,\n        \"samples\": [\n          \"CONTROLS_WAV\",\n          \"CASES_WAV\"\n        ],\n        \"semantic_type\": \"\",\n        \"description\": \"\"\n      }\n    }\n  ]\n}"
            }
          },
          "metadata": {},
          "execution_count": 29
        }
      ]
    },
    {
      "cell_type": "markdown",
      "source": [
        "# References"
      ],
      "metadata": {
        "id": "VclK8jr0ojV_"
      }
    },
    {
      "cell_type": "code",
      "source": [
        "# add cols for wav data\n",
        "\n",
        "# Replace \".mp3\" with \".wav\" in the \"Filename\" column\n",
        "train_metadata['WAV_filename'] = train_metadata['File_Name'].str.replace('.mp3', '.wav')\n",
        "\n",
        "# Create \"WAV_folder\" column by concatenating \"_WAV\" to the \"folder\" column\n",
        "train_metadata['WAV_folder'] = train_metadata['folder'] + \"_WAV\"\n",
        "\n",
        "train_metadata\n"
      ],
      "metadata": {
        "colab": {
          "base_uri": "https://localhost:8080/",
          "height": 771
        },
        "id": "vVOukRwcNAfZ",
        "outputId": "fb4b0ba0-a951-435f-92f4-6c3d87c10986"
      },
      "execution_count": 30,
      "outputs": [
        {
          "output_type": "stream",
          "name": "stderr",
          "text": [
            "<ipython-input-30-54011f6dbdc7>:4: FutureWarning: The default value of regex will change from True to False in a future version.\n",
            "  train_metadata['WAV_filename'] = train_metadata['File_Name'].str.replace('.mp3', '.wav')\n"
          ]
        },
        {
          "output_type": "execute_result",
          "data": {
            "text/plain": [
              "                                             File_Name  Sampling_Rate_(Hz)  \\\n",
              "0             ACPA ted had a dog with white feet-3.mp3             44100.0   \n",
              "1                    cdc 4 (and then go to school).mp3             44100.0   \n",
              "2    Video 1_4 (and can I have some more material).mp3             44100.0   \n",
              "3                      NEW - video 2 (three times).mp3             44100.0   \n",
              "4            cdc 4 (and then he brushed his teeth).mp3             44100.0   \n",
              "..                                                 ...                 ...   \n",
              "142                          video 1 (pizza bundt).mp3             44100.0   \n",
              "143         ACPA most boys like to play football-3.mp3             48000.0   \n",
              "144                        Facebook  (take a tire).mp3             44100.0   \n",
              "145                               Video 5_1 (feet).mp3             44100.0   \n",
              "146                  Video 1_7 (here_s some pizza).mp3             44100.0   \n",
              "\n",
              "     Channels  Duration_(seconds)    folder  hypernasality  \\\n",
              "0         1.0                4.13     CASES            1.0   \n",
              "1         2.0                1.41  CONTROLS            0.0   \n",
              "2         2.0                3.60  CONTROLS            0.0   \n",
              "3         2.0                1.28  CONTROLS            0.0   \n",
              "4         2.0                1.52  CONTROLS            0.0   \n",
              "..        ...                 ...       ...            ...   \n",
              "142       2.0                1.80  CONTROLS            0.0   \n",
              "143       1.0                3.31     CASES            1.0   \n",
              "144       1.0                1.75     CASES            1.0   \n",
              "145       2.0                1.04     CASES            1.0   \n",
              "146       2.0                2.12  CONTROLS            0.0   \n",
              "\n",
              "                         original_text                  OPENAI_Whisper_text  \\\n",
              "0        ted had a dog with white feet      Ted and a dog with white feet.    \n",
              "1                and then go to school              and then go to school.    \n",
              "2    and can I have some more material  And can I have some more material?    \n",
              "3                          three times                        Three times.    \n",
              "4        and then he brushed his teeth      And then he brushed his teeth.    \n",
              "..                                 ...                                  ...   \n",
              "142                        pizza bundt                         Pizza Funt!    \n",
              "143    most boys like to play football    Most boys like to play football.    \n",
              "144                        take a tire                  See you next time!    \n",
              "145                               feet                              Peace.    \n",
              "146                  here's some pizza                  Here's your pizza.    \n",
              "\n",
              "                                          WAV_filename    WAV_folder  \n",
              "0             ACPA ted had a dog with white feet-3.wav     CASES_WAV  \n",
              "1                    cdc 4 (and then go to school).wav  CONTROLS_WAV  \n",
              "2    Video 1_4 (and can I have some more material).wav  CONTROLS_WAV  \n",
              "3                      NEW - video 2 (three times).wav  CONTROLS_WAV  \n",
              "4            cdc 4 (and then he brushed his teeth).wav  CONTROLS_WAV  \n",
              "..                                                 ...           ...  \n",
              "142                          video 1 (pizza bundt).wav  CONTROLS_WAV  \n",
              "143         ACPA most boys like to play football-3.wav     CASES_WAV  \n",
              "144                        Facebook  (take a tire).wav     CASES_WAV  \n",
              "145                               Video 5_1 (feet).wav     CASES_WAV  \n",
              "146                  Video 1_7 (here_s some pizza).wav  CONTROLS_WAV  \n",
              "\n",
              "[147 rows x 10 columns]"
            ],
            "text/html": [
              "\n",
              "  <div id=\"df-b3c93cd5-62ea-4c02-b33a-dad45d72462e\" class=\"colab-df-container\">\n",
              "    <div>\n",
              "<style scoped>\n",
              "    .dataframe tbody tr th:only-of-type {\n",
              "        vertical-align: middle;\n",
              "    }\n",
              "\n",
              "    .dataframe tbody tr th {\n",
              "        vertical-align: top;\n",
              "    }\n",
              "\n",
              "    .dataframe thead th {\n",
              "        text-align: right;\n",
              "    }\n",
              "</style>\n",
              "<table border=\"1\" class=\"dataframe\">\n",
              "  <thead>\n",
              "    <tr style=\"text-align: right;\">\n",
              "      <th></th>\n",
              "      <th>File_Name</th>\n",
              "      <th>Sampling_Rate_(Hz)</th>\n",
              "      <th>Channels</th>\n",
              "      <th>Duration_(seconds)</th>\n",
              "      <th>folder</th>\n",
              "      <th>hypernasality</th>\n",
              "      <th>original_text</th>\n",
              "      <th>OPENAI_Whisper_text</th>\n",
              "      <th>WAV_filename</th>\n",
              "      <th>WAV_folder</th>\n",
              "    </tr>\n",
              "  </thead>\n",
              "  <tbody>\n",
              "    <tr>\n",
              "      <th>0</th>\n",
              "      <td>ACPA ted had a dog with white feet-3.mp3</td>\n",
              "      <td>44100.0</td>\n",
              "      <td>1.0</td>\n",
              "      <td>4.13</td>\n",
              "      <td>CASES</td>\n",
              "      <td>1.0</td>\n",
              "      <td>ted had a dog with white feet</td>\n",
              "      <td>Ted and a dog with white feet.</td>\n",
              "      <td>ACPA ted had a dog with white feet-3.wav</td>\n",
              "      <td>CASES_WAV</td>\n",
              "    </tr>\n",
              "    <tr>\n",
              "      <th>1</th>\n",
              "      <td>cdc 4 (and then go to school).mp3</td>\n",
              "      <td>44100.0</td>\n",
              "      <td>2.0</td>\n",
              "      <td>1.41</td>\n",
              "      <td>CONTROLS</td>\n",
              "      <td>0.0</td>\n",
              "      <td>and then go to school</td>\n",
              "      <td>and then go to school.</td>\n",
              "      <td>cdc 4 (and then go to school).wav</td>\n",
              "      <td>CONTROLS_WAV</td>\n",
              "    </tr>\n",
              "    <tr>\n",
              "      <th>2</th>\n",
              "      <td>Video 1_4 (and can I have some more material).mp3</td>\n",
              "      <td>44100.0</td>\n",
              "      <td>2.0</td>\n",
              "      <td>3.60</td>\n",
              "      <td>CONTROLS</td>\n",
              "      <td>0.0</td>\n",
              "      <td>and can I have some more material</td>\n",
              "      <td>And can I have some more material?</td>\n",
              "      <td>Video 1_4 (and can I have some more material).wav</td>\n",
              "      <td>CONTROLS_WAV</td>\n",
              "    </tr>\n",
              "    <tr>\n",
              "      <th>3</th>\n",
              "      <td>NEW - video 2 (three times).mp3</td>\n",
              "      <td>44100.0</td>\n",
              "      <td>2.0</td>\n",
              "      <td>1.28</td>\n",
              "      <td>CONTROLS</td>\n",
              "      <td>0.0</td>\n",
              "      <td>three times</td>\n",
              "      <td>Three times.</td>\n",
              "      <td>NEW - video 2 (three times).wav</td>\n",
              "      <td>CONTROLS_WAV</td>\n",
              "    </tr>\n",
              "    <tr>\n",
              "      <th>4</th>\n",
              "      <td>cdc 4 (and then he brushed his teeth).mp3</td>\n",
              "      <td>44100.0</td>\n",
              "      <td>2.0</td>\n",
              "      <td>1.52</td>\n",
              "      <td>CONTROLS</td>\n",
              "      <td>0.0</td>\n",
              "      <td>and then he brushed his teeth</td>\n",
              "      <td>And then he brushed his teeth.</td>\n",
              "      <td>cdc 4 (and then he brushed his teeth).wav</td>\n",
              "      <td>CONTROLS_WAV</td>\n",
              "    </tr>\n",
              "    <tr>\n",
              "      <th>...</th>\n",
              "      <td>...</td>\n",
              "      <td>...</td>\n",
              "      <td>...</td>\n",
              "      <td>...</td>\n",
              "      <td>...</td>\n",
              "      <td>...</td>\n",
              "      <td>...</td>\n",
              "      <td>...</td>\n",
              "      <td>...</td>\n",
              "      <td>...</td>\n",
              "    </tr>\n",
              "    <tr>\n",
              "      <th>142</th>\n",
              "      <td>video 1 (pizza bundt).mp3</td>\n",
              "      <td>44100.0</td>\n",
              "      <td>2.0</td>\n",
              "      <td>1.80</td>\n",
              "      <td>CONTROLS</td>\n",
              "      <td>0.0</td>\n",
              "      <td>pizza bundt</td>\n",
              "      <td>Pizza Funt!</td>\n",
              "      <td>video 1 (pizza bundt).wav</td>\n",
              "      <td>CONTROLS_WAV</td>\n",
              "    </tr>\n",
              "    <tr>\n",
              "      <th>143</th>\n",
              "      <td>ACPA most boys like to play football-3.mp3</td>\n",
              "      <td>48000.0</td>\n",
              "      <td>1.0</td>\n",
              "      <td>3.31</td>\n",
              "      <td>CASES</td>\n",
              "      <td>1.0</td>\n",
              "      <td>most boys like to play football</td>\n",
              "      <td>Most boys like to play football.</td>\n",
              "      <td>ACPA most boys like to play football-3.wav</td>\n",
              "      <td>CASES_WAV</td>\n",
              "    </tr>\n",
              "    <tr>\n",
              "      <th>144</th>\n",
              "      <td>Facebook  (take a tire).mp3</td>\n",
              "      <td>44100.0</td>\n",
              "      <td>1.0</td>\n",
              "      <td>1.75</td>\n",
              "      <td>CASES</td>\n",
              "      <td>1.0</td>\n",
              "      <td>take a tire</td>\n",
              "      <td>See you next time!</td>\n",
              "      <td>Facebook  (take a tire).wav</td>\n",
              "      <td>CASES_WAV</td>\n",
              "    </tr>\n",
              "    <tr>\n",
              "      <th>145</th>\n",
              "      <td>Video 5_1 (feet).mp3</td>\n",
              "      <td>44100.0</td>\n",
              "      <td>2.0</td>\n",
              "      <td>1.04</td>\n",
              "      <td>CASES</td>\n",
              "      <td>1.0</td>\n",
              "      <td>feet</td>\n",
              "      <td>Peace.</td>\n",
              "      <td>Video 5_1 (feet).wav</td>\n",
              "      <td>CASES_WAV</td>\n",
              "    </tr>\n",
              "    <tr>\n",
              "      <th>146</th>\n",
              "      <td>Video 1_7 (here_s some pizza).mp3</td>\n",
              "      <td>44100.0</td>\n",
              "      <td>2.0</td>\n",
              "      <td>2.12</td>\n",
              "      <td>CONTROLS</td>\n",
              "      <td>0.0</td>\n",
              "      <td>here's some pizza</td>\n",
              "      <td>Here's your pizza.</td>\n",
              "      <td>Video 1_7 (here_s some pizza).wav</td>\n",
              "      <td>CONTROLS_WAV</td>\n",
              "    </tr>\n",
              "  </tbody>\n",
              "</table>\n",
              "<p>147 rows × 10 columns</p>\n",
              "</div>\n",
              "    <div class=\"colab-df-buttons\">\n",
              "\n",
              "  <div class=\"colab-df-container\">\n",
              "    <button class=\"colab-df-convert\" onclick=\"convertToInteractive('df-b3c93cd5-62ea-4c02-b33a-dad45d72462e')\"\n",
              "            title=\"Convert this dataframe to an interactive table.\"\n",
              "            style=\"display:none;\">\n",
              "\n",
              "  <svg xmlns=\"http://www.w3.org/2000/svg\" height=\"24px\" viewBox=\"0 -960 960 960\">\n",
              "    <path d=\"M120-120v-720h720v720H120Zm60-500h600v-160H180v160Zm220 220h160v-160H400v160Zm0 220h160v-160H400v160ZM180-400h160v-160H180v160Zm440 0h160v-160H620v160ZM180-180h160v-160H180v160Zm440 0h160v-160H620v160Z\"/>\n",
              "  </svg>\n",
              "    </button>\n",
              "\n",
              "  <style>\n",
              "    .colab-df-container {\n",
              "      display:flex;\n",
              "      gap: 12px;\n",
              "    }\n",
              "\n",
              "    .colab-df-convert {\n",
              "      background-color: #E8F0FE;\n",
              "      border: none;\n",
              "      border-radius: 50%;\n",
              "      cursor: pointer;\n",
              "      display: none;\n",
              "      fill: #1967D2;\n",
              "      height: 32px;\n",
              "      padding: 0 0 0 0;\n",
              "      width: 32px;\n",
              "    }\n",
              "\n",
              "    .colab-df-convert:hover {\n",
              "      background-color: #E2EBFA;\n",
              "      box-shadow: 0px 1px 2px rgba(60, 64, 67, 0.3), 0px 1px 3px 1px rgba(60, 64, 67, 0.15);\n",
              "      fill: #174EA6;\n",
              "    }\n",
              "\n",
              "    .colab-df-buttons div {\n",
              "      margin-bottom: 4px;\n",
              "    }\n",
              "\n",
              "    [theme=dark] .colab-df-convert {\n",
              "      background-color: #3B4455;\n",
              "      fill: #D2E3FC;\n",
              "    }\n",
              "\n",
              "    [theme=dark] .colab-df-convert:hover {\n",
              "      background-color: #434B5C;\n",
              "      box-shadow: 0px 1px 3px 1px rgba(0, 0, 0, 0.15);\n",
              "      filter: drop-shadow(0px 1px 2px rgba(0, 0, 0, 0.3));\n",
              "      fill: #FFFFFF;\n",
              "    }\n",
              "  </style>\n",
              "\n",
              "    <script>\n",
              "      const buttonEl =\n",
              "        document.querySelector('#df-b3c93cd5-62ea-4c02-b33a-dad45d72462e button.colab-df-convert');\n",
              "      buttonEl.style.display =\n",
              "        google.colab.kernel.accessAllowed ? 'block' : 'none';\n",
              "\n",
              "      async function convertToInteractive(key) {\n",
              "        const element = document.querySelector('#df-b3c93cd5-62ea-4c02-b33a-dad45d72462e');\n",
              "        const dataTable =\n",
              "          await google.colab.kernel.invokeFunction('convertToInteractive',\n",
              "                                                    [key], {});\n",
              "        if (!dataTable) return;\n",
              "\n",
              "        const docLinkHtml = 'Like what you see? Visit the ' +\n",
              "          '<a target=\"_blank\" href=https://colab.research.google.com/notebooks/data_table.ipynb>data table notebook</a>'\n",
              "          + ' to learn more about interactive tables.';\n",
              "        element.innerHTML = '';\n",
              "        dataTable['output_type'] = 'display_data';\n",
              "        await google.colab.output.renderOutput(dataTable, element);\n",
              "        const docLink = document.createElement('div');\n",
              "        docLink.innerHTML = docLinkHtml;\n",
              "        element.appendChild(docLink);\n",
              "      }\n",
              "    </script>\n",
              "  </div>\n",
              "\n",
              "\n",
              "<div id=\"df-28282b86-c7c9-41b3-a5e9-77563bec8ead\">\n",
              "  <button class=\"colab-df-quickchart\" onclick=\"quickchart('df-28282b86-c7c9-41b3-a5e9-77563bec8ead')\"\n",
              "            title=\"Suggest charts\"\n",
              "            style=\"display:none;\">\n",
              "\n",
              "<svg xmlns=\"http://www.w3.org/2000/svg\" height=\"24px\"viewBox=\"0 0 24 24\"\n",
              "     width=\"24px\">\n",
              "    <g>\n",
              "        <path d=\"M19 3H5c-1.1 0-2 .9-2 2v14c0 1.1.9 2 2 2h14c1.1 0 2-.9 2-2V5c0-1.1-.9-2-2-2zM9 17H7v-7h2v7zm4 0h-2V7h2v10zm4 0h-2v-4h2v4z\"/>\n",
              "    </g>\n",
              "</svg>\n",
              "  </button>\n",
              "\n",
              "<style>\n",
              "  .colab-df-quickchart {\n",
              "      --bg-color: #E8F0FE;\n",
              "      --fill-color: #1967D2;\n",
              "      --hover-bg-color: #E2EBFA;\n",
              "      --hover-fill-color: #174EA6;\n",
              "      --disabled-fill-color: #AAA;\n",
              "      --disabled-bg-color: #DDD;\n",
              "  }\n",
              "\n",
              "  [theme=dark] .colab-df-quickchart {\n",
              "      --bg-color: #3B4455;\n",
              "      --fill-color: #D2E3FC;\n",
              "      --hover-bg-color: #434B5C;\n",
              "      --hover-fill-color: #FFFFFF;\n",
              "      --disabled-bg-color: #3B4455;\n",
              "      --disabled-fill-color: #666;\n",
              "  }\n",
              "\n",
              "  .colab-df-quickchart {\n",
              "    background-color: var(--bg-color);\n",
              "    border: none;\n",
              "    border-radius: 50%;\n",
              "    cursor: pointer;\n",
              "    display: none;\n",
              "    fill: var(--fill-color);\n",
              "    height: 32px;\n",
              "    padding: 0;\n",
              "    width: 32px;\n",
              "  }\n",
              "\n",
              "  .colab-df-quickchart:hover {\n",
              "    background-color: var(--hover-bg-color);\n",
              "    box-shadow: 0 1px 2px rgba(60, 64, 67, 0.3), 0 1px 3px 1px rgba(60, 64, 67, 0.15);\n",
              "    fill: var(--button-hover-fill-color);\n",
              "  }\n",
              "\n",
              "  .colab-df-quickchart-complete:disabled,\n",
              "  .colab-df-quickchart-complete:disabled:hover {\n",
              "    background-color: var(--disabled-bg-color);\n",
              "    fill: var(--disabled-fill-color);\n",
              "    box-shadow: none;\n",
              "  }\n",
              "\n",
              "  .colab-df-spinner {\n",
              "    border: 2px solid var(--fill-color);\n",
              "    border-color: transparent;\n",
              "    border-bottom-color: var(--fill-color);\n",
              "    animation:\n",
              "      spin 1s steps(1) infinite;\n",
              "  }\n",
              "\n",
              "  @keyframes spin {\n",
              "    0% {\n",
              "      border-color: transparent;\n",
              "      border-bottom-color: var(--fill-color);\n",
              "      border-left-color: var(--fill-color);\n",
              "    }\n",
              "    20% {\n",
              "      border-color: transparent;\n",
              "      border-left-color: var(--fill-color);\n",
              "      border-top-color: var(--fill-color);\n",
              "    }\n",
              "    30% {\n",
              "      border-color: transparent;\n",
              "      border-left-color: var(--fill-color);\n",
              "      border-top-color: var(--fill-color);\n",
              "      border-right-color: var(--fill-color);\n",
              "    }\n",
              "    40% {\n",
              "      border-color: transparent;\n",
              "      border-right-color: var(--fill-color);\n",
              "      border-top-color: var(--fill-color);\n",
              "    }\n",
              "    60% {\n",
              "      border-color: transparent;\n",
              "      border-right-color: var(--fill-color);\n",
              "    }\n",
              "    80% {\n",
              "      border-color: transparent;\n",
              "      border-right-color: var(--fill-color);\n",
              "      border-bottom-color: var(--fill-color);\n",
              "    }\n",
              "    90% {\n",
              "      border-color: transparent;\n",
              "      border-bottom-color: var(--fill-color);\n",
              "    }\n",
              "  }\n",
              "</style>\n",
              "\n",
              "  <script>\n",
              "    async function quickchart(key) {\n",
              "      const quickchartButtonEl =\n",
              "        document.querySelector('#' + key + ' button');\n",
              "      quickchartButtonEl.disabled = true;  // To prevent multiple clicks.\n",
              "      quickchartButtonEl.classList.add('colab-df-spinner');\n",
              "      try {\n",
              "        const charts = await google.colab.kernel.invokeFunction(\n",
              "            'suggestCharts', [key], {});\n",
              "      } catch (error) {\n",
              "        console.error('Error during call to suggestCharts:', error);\n",
              "      }\n",
              "      quickchartButtonEl.classList.remove('colab-df-spinner');\n",
              "      quickchartButtonEl.classList.add('colab-df-quickchart-complete');\n",
              "    }\n",
              "    (() => {\n",
              "      let quickchartButtonEl =\n",
              "        document.querySelector('#df-28282b86-c7c9-41b3-a5e9-77563bec8ead button');\n",
              "      quickchartButtonEl.style.display =\n",
              "        google.colab.kernel.accessAllowed ? 'block' : 'none';\n",
              "    })();\n",
              "  </script>\n",
              "</div>\n",
              "\n",
              "  <div id=\"id_a4007456-3bdd-4ef5-bafc-cbd7a95e62d7\">\n",
              "    <style>\n",
              "      .colab-df-generate {\n",
              "        background-color: #E8F0FE;\n",
              "        border: none;\n",
              "        border-radius: 50%;\n",
              "        cursor: pointer;\n",
              "        display: none;\n",
              "        fill: #1967D2;\n",
              "        height: 32px;\n",
              "        padding: 0 0 0 0;\n",
              "        width: 32px;\n",
              "      }\n",
              "\n",
              "      .colab-df-generate:hover {\n",
              "        background-color: #E2EBFA;\n",
              "        box-shadow: 0px 1px 2px rgba(60, 64, 67, 0.3), 0px 1px 3px 1px rgba(60, 64, 67, 0.15);\n",
              "        fill: #174EA6;\n",
              "      }\n",
              "\n",
              "      [theme=dark] .colab-df-generate {\n",
              "        background-color: #3B4455;\n",
              "        fill: #D2E3FC;\n",
              "      }\n",
              "\n",
              "      [theme=dark] .colab-df-generate:hover {\n",
              "        background-color: #434B5C;\n",
              "        box-shadow: 0px 1px 3px 1px rgba(0, 0, 0, 0.15);\n",
              "        filter: drop-shadow(0px 1px 2px rgba(0, 0, 0, 0.3));\n",
              "        fill: #FFFFFF;\n",
              "      }\n",
              "    </style>\n",
              "    <button class=\"colab-df-generate\" onclick=\"generateWithVariable('train_metadata')\"\n",
              "            title=\"Generate code using this dataframe.\"\n",
              "            style=\"display:none;\">\n",
              "\n",
              "  <svg xmlns=\"http://www.w3.org/2000/svg\" height=\"24px\"viewBox=\"0 0 24 24\"\n",
              "       width=\"24px\">\n",
              "    <path d=\"M7,19H8.4L18.45,9,17,7.55,7,17.6ZM5,21V16.75L18.45,3.32a2,2,0,0,1,2.83,0l1.4,1.43a1.91,1.91,0,0,1,.58,1.4,1.91,1.91,0,0,1-.58,1.4L9.25,21ZM18.45,9,17,7.55Zm-12,3A5.31,5.31,0,0,0,4.9,8.1,5.31,5.31,0,0,0,1,6.5,5.31,5.31,0,0,0,4.9,4.9,5.31,5.31,0,0,0,6.5,1,5.31,5.31,0,0,0,8.1,4.9,5.31,5.31,0,0,0,12,6.5,5.46,5.46,0,0,0,6.5,12Z\"/>\n",
              "  </svg>\n",
              "    </button>\n",
              "    <script>\n",
              "      (() => {\n",
              "      const buttonEl =\n",
              "        document.querySelector('#id_a4007456-3bdd-4ef5-bafc-cbd7a95e62d7 button.colab-df-generate');\n",
              "      buttonEl.style.display =\n",
              "        google.colab.kernel.accessAllowed ? 'block' : 'none';\n",
              "\n",
              "      buttonEl.onclick = () => {\n",
              "        google.colab.notebook.generateWithVariable('train_metadata');\n",
              "      }\n",
              "      })();\n",
              "    </script>\n",
              "  </div>\n",
              "\n",
              "    </div>\n",
              "  </div>\n"
            ],
            "application/vnd.google.colaboratory.intrinsic+json": {
              "type": "dataframe",
              "variable_name": "train_metadata",
              "summary": "{\n  \"name\": \"train_metadata\",\n  \"rows\": 147,\n  \"fields\": [\n    {\n      \"column\": \"File_Name\",\n      \"properties\": {\n        \"dtype\": \"string\",\n        \"num_unique_values\": 147,\n        \"samples\": [\n          \"ACPA and I started out on the switch board and two phones.mp3\",\n          \"ACPA they feed seeds to birds-2.mp3\",\n          \"Video 3_1 (told).mp3\"\n        ],\n        \"semantic_type\": \"\",\n        \"description\": \"\"\n      }\n    },\n    {\n      \"column\": \"Sampling_Rate_(Hz)\",\n      \"properties\": {\n        \"dtype\": \"number\",\n        \"std\": 1148.7336684784207,\n        \"min\": 44100.0,\n        \"max\": 48000.0,\n        \"num_unique_values\": 2,\n        \"samples\": [\n          48000.0,\n          44100.0\n        ],\n        \"semantic_type\": \"\",\n        \"description\": \"\"\n      }\n    },\n    {\n      \"column\": \"Channels\",\n      \"properties\": {\n        \"dtype\": \"number\",\n        \"std\": 0.4855569370242271,\n        \"min\": 1.0,\n        \"max\": 2.0,\n        \"num_unique_values\": 2,\n        \"samples\": [\n          2.0,\n          1.0\n        ],\n        \"semantic_type\": \"\",\n        \"description\": \"\"\n      }\n    },\n    {\n      \"column\": \"Duration_(seconds)\",\n      \"properties\": {\n        \"dtype\": \"number\",\n        \"std\": 1.3039081310151013,\n        \"min\": 0.44,\n        \"max\": 9.35,\n        \"num_unique_values\": 99,\n        \"samples\": [\n          0.55,\n          1.46\n        ],\n        \"semantic_type\": \"\",\n        \"description\": \"\"\n      }\n    },\n    {\n      \"column\": \"folder\",\n      \"properties\": {\n        \"dtype\": \"category\",\n        \"num_unique_values\": 2,\n        \"samples\": [\n          \"CONTROLS\",\n          \"CASES\"\n        ],\n        \"semantic_type\": \"\",\n        \"description\": \"\"\n      }\n    },\n    {\n      \"column\": \"hypernasality\",\n      \"properties\": {\n        \"dtype\": \"number\",\n        \"std\": 0.5011402523360258,\n        \"min\": 0.0,\n        \"max\": 1.0,\n        \"num_unique_values\": 2,\n        \"samples\": [\n          0.0,\n          1.0\n        ],\n        \"semantic_type\": \"\",\n        \"description\": \"\"\n      }\n    },\n    {\n      \"column\": \"original_text\",\n      \"properties\": {\n        \"dtype\": \"string\",\n        \"num_unique_values\": 131,\n        \"samples\": [\n          \"puppy will pull a rope\",\n          \"can I have your phone\"\n        ],\n        \"semantic_type\": \"\",\n        \"description\": \"\"\n      }\n    },\n    {\n      \"column\": \"OPENAI_Whisper_text\",\n      \"properties\": {\n        \"dtype\": \"string\",\n        \"num_unique_values\": 140,\n        \"samples\": [\n          \"T-R-E-A-T-O-N-A \",\n          \"Hej d\\u00e5, mamma! \"\n        ],\n        \"semantic_type\": \"\",\n        \"description\": \"\"\n      }\n    },\n    {\n      \"column\": \"WAV_filename\",\n      \"properties\": {\n        \"dtype\": \"string\",\n        \"num_unique_values\": 147,\n        \"samples\": [\n          \"ACPA and I started out on the switch board and two phones.wav\",\n          \"ACPA they feed seeds to birds-2.wav\"\n        ],\n        \"semantic_type\": \"\",\n        \"description\": \"\"\n      }\n    },\n    {\n      \"column\": \"WAV_folder\",\n      \"properties\": {\n        \"dtype\": \"category\",\n        \"num_unique_values\": 2,\n        \"samples\": [\n          \"CONTROLS_WAV\",\n          \"CASES_WAV\"\n        ],\n        \"semantic_type\": \"\",\n        \"description\": \"\"\n      }\n    }\n  ]\n}"
            }
          },
          "metadata": {},
          "execution_count": 30
        }
      ]
    },
    {
      "cell_type": "code",
      "source": [
        "train_df, val_df = train_test_split(train_metadata, test_size = 0.3, random_state = 42)"
      ],
      "metadata": {
        "id": "1nK-GGDSGnwF"
      },
      "execution_count": null,
      "outputs": []
    },
    {
      "cell_type": "code",
      "source": [
        "train_files = train_df[\"WAV_filename\"].tolist()\n",
        "\n",
        "train_folder = train_df[\"WAV_folder\"].tolist()\n",
        "\n",
        "train_full_paths = [os.path.join(data_path,train_folder[i], train_files[i]) for i in range(0,len(train_files))]\n",
        "\n",
        "#train_full_paths"
      ],
      "metadata": {
        "id": "asMFxjOFShao"
      },
      "execution_count": null,
      "outputs": []
    },
    {
      "cell_type": "code",
      "source": [
        "train_labels = train_df[\"hypernasality\"].tolist()\n",
        "\n",
        "train_labels[0:10]"
      ],
      "metadata": {
        "colab": {
          "base_uri": "https://localhost:8080/"
        },
        "id": "8H7EPlZcTkvs",
        "outputId": "55c2e6ab-be73-4d76-8ffe-325ddda7f70d"
      },
      "execution_count": null,
      "outputs": [
        {
          "output_type": "execute_result",
          "data": {
            "text/plain": [
              "[1.0, 0.0, 0.0, 0.0, 0.0, 0.0, 0.0, 1.0, 0.0, 0.0]"
            ]
          },
          "metadata": {},
          "execution_count": 8
        }
      ]
    },
    {
      "cell_type": "code",
      "source": [
        "# val set\n",
        "val_files = val_df[\"WAV_filename\"].tolist()\n",
        "\n",
        "val_folder = val_df[\"WAV_folder\"].tolist()\n",
        "\n",
        "val_full_paths = [os.path.join(data_path,val_folder[i], val_files[i]) for i in range(0,len(val_files))]\n",
        "\n",
        "val_labels = val_df[\"hypernasality\"].tolist()"
      ],
      "metadata": {
        "id": "wR_oKNmxHVB5"
      },
      "execution_count": null,
      "outputs": []
    },
    {
      "cell_type": "code",
      "source": [
        "len(val_labels)"
      ],
      "metadata": {
        "colab": {
          "base_uri": "https://localhost:8080/"
        },
        "id": "0nVArYbmHfuV",
        "outputId": "950e7737-6bee-4e24-b24c-8c243b1e3101"
      },
      "execution_count": null,
      "outputs": [
        {
          "output_type": "execute_result",
          "data": {
            "text/plain": [
              "45"
            ]
          },
          "metadata": {},
          "execution_count": 33
        }
      ]
    },
    {
      "cell_type": "code",
      "source": [
        "test_metadata = pd.read_csv(test_catalog)"
      ],
      "metadata": {
        "id": "bSZZHxQcUmTi"
      },
      "execution_count": null,
      "outputs": []
    },
    {
      "cell_type": "code",
      "source": [
        "# add cols for wav data\n",
        "\n",
        "# Replace \".mp3\" with \".wav\" in the \"Filename\" column\n",
        "test_metadata['WAV_filename'] = test_metadata['File_Name'].str.replace('.mp3', '.wav')\n",
        "\n",
        "# Create \"WAV_folder\" column by concatenating \"_WAV\" to the \"folder\" column\n",
        "test_metadata['WAV_folder'] = test_metadata['folder'] + \"_WAV\""
      ],
      "metadata": {
        "colab": {
          "base_uri": "https://localhost:8080/"
        },
        "id": "l2dxxV6vUsO2",
        "outputId": "e779ddaf-6c0f-48f0-cd03-dcfbcd43bf3b"
      },
      "execution_count": null,
      "outputs": [
        {
          "output_type": "stream",
          "name": "stderr",
          "text": [
            "<ipython-input-10-dfa1271e8fdc>:4: FutureWarning: The default value of regex will change from True to False in a future version.\n",
            "  test_metadata['WAV_filename'] = test_metadata['File_Name'].str.replace('.mp3', '.wav')\n"
          ]
        }
      ]
    },
    {
      "cell_type": "code",
      "source": [
        "test_files = test_metadata[\"WAV_filename\"].tolist()\n",
        "\n",
        "test_folder = test_metadata[\"WAV_folder\"].tolist()\n",
        "\n",
        "test_full_paths = [os.path.join(data_path,test_folder[i], test_files[i]) for i in range(0,len(test_files))]\n",
        "\n",
        "#test_full_paths"
      ],
      "metadata": {
        "id": "gg--b6ufULkK"
      },
      "execution_count": null,
      "outputs": []
    },
    {
      "cell_type": "code",
      "source": [
        "test_labels = test_metadata[\"hypernasality\"].tolist()"
      ],
      "metadata": {
        "id": "NrzkUkYXVJbT"
      },
      "execution_count": null,
      "outputs": []
    },
    {
      "cell_type": "code",
      "source": [],
      "metadata": {
        "id": "TSOYmXH_Bnf0"
      },
      "execution_count": null,
      "outputs": []
    },
    {
      "cell_type": "markdown",
      "metadata": {
        "id": "xSk_DTreF4Ml"
      },
      "source": [
        "### Create PyTorch datasets"
      ]
    },
    {
      "cell_type": "code",
      "source": [],
      "metadata": {
        "id": "exgEfm5JT0qm"
      },
      "execution_count": null,
      "outputs": []
    },
    {
      "cell_type": "code",
      "execution_count": null,
      "metadata": {
        "id": "wQs-OauiF4Ml"
      },
      "outputs": [],
      "source": [
        "\n",
        "\n",
        "train_audio_dataset = datasets.Dataset.from_dict({\"audio\": train_full_paths,\n",
        "                                                  \"labels\":train_labels}\n",
        "                                                 ).cast_column(\"audio\", Audio(sampling_rate=16_000))\n",
        "\n",
        "test_audio_dataset = datasets.Dataset.from_dict({\"audio\": test_full_paths,\n",
        "                                                  \"labels\": test_labels}\n",
        "                                                 ).cast_column(\"audio\", Audio(sampling_rate=16_000))\n",
        "\n",
        "val_audio_dataset = datasets.Dataset.from_dict({\"audio\": val_full_paths,\n",
        "                                                 \"labels\": val_labels }\n",
        "                                             ).cast_column(\"audio\", Audio(sampling_rate=16_000))"
      ]
    },
    {
      "cell_type": "code",
      "execution_count": null,
      "metadata": {
        "id": "cC0SCQsZF4Mm"
      },
      "outputs": [],
      "source": [
        "model_checkpoint = \"openai/whisper-base\"\n",
        "\n",
        "feature_extractor = WhisperFeatureExtractor.from_pretrained(model_checkpoint)\n",
        "encoder = WhisperModel.from_pretrained(model_checkpoint)\n",
        "device = torch.device('cuda' if torch.cuda.is_available() else 'cpu')\n"
      ]
    },
    {
      "cell_type": "code",
      "execution_count": null,
      "metadata": {
        "id": "09pDF62uF4Mm"
      },
      "outputs": [],
      "source": [
        "\n",
        "class SpeechClassificationDataset(torch.utils.data.Dataset):\n",
        "    def __init__(self, audio_data,  text_processor):\n",
        "        self.audio_data = audio_data\n",
        "        self.text_processor = text_processor\n",
        "\n",
        "    def __len__(self):\n",
        "        return len(self.audio_data)\n",
        "\n",
        "    def __getitem__(self, index):\n",
        "\n",
        "      inputs = self.text_processor(self.audio_data[index][\"audio\"][\"array\"],\n",
        "                                   return_tensors=\"pt\",\n",
        "                                   sampling_rate=self.audio_data[index][\"audio\"][\"sampling_rate\"])\n",
        "      input_features = inputs.input_features\n",
        "      decoder_input_ids = torch.tensor([[1, 1]]) * encoder.config.decoder_start_token_id\n",
        "\n",
        "      labels = np.array(self.audio_data[index]['labels'])\n",
        "\n",
        "      return input_features, decoder_input_ids, torch.tensor(labels)\n"
      ]
    },
    {
      "cell_type": "code",
      "execution_count": null,
      "metadata": {
        "id": "5gw-7620F4Mm"
      },
      "outputs": [],
      "source": [
        "train_dataset = SpeechClassificationDataset(train_audio_dataset,  feature_extractor)\n",
        "test_dataset = SpeechClassificationDataset(test_audio_dataset,  feature_extractor)\n",
        "val_dataset = SpeechClassificationDataset(val_audio_dataset,  feature_extractor)\n",
        "\n",
        "batch_size = 8\n",
        "\n",
        "train_loader = DataLoader(train_dataset, batch_size=batch_size, shuffle=True)\n",
        "val_loader = DataLoader(val_dataset, batch_size=batch_size, shuffle=False)\n",
        "test_loader = DataLoader(test_dataset, batch_size=batch_size, shuffle=False)"
      ]
    },
    {
      "cell_type": "markdown",
      "metadata": {
        "id": "hzARqHUEF4Mm"
      },
      "source": [
        "## Fine Tune Whisper Model\n",
        "\n",
        "Whisper model from HuggingFace."
      ]
    },
    {
      "cell_type": "code",
      "execution_count": null,
      "metadata": {
        "id": "JVjXzUnbF4Mm"
      },
      "outputs": [],
      "source": [
        "\n",
        "class SpeechClassifier(nn.Module):\n",
        "    def __init__(self, num_labels, encoder):\n",
        "        super(SpeechClassifier, self).__init__()\n",
        "        self.encoder = encoder\n",
        "        self.classifier = nn.Sequential(\n",
        "            nn.Linear(self.encoder.config.hidden_size, 4096),\n",
        "            nn.ReLU(),\n",
        "            nn.Linear(4096, 2048),\n",
        "            nn.ReLU(),\n",
        "            nn.Linear(2048, 1024),\n",
        "            nn.ReLU(),\n",
        "            nn.Linear(1024, 512),\n",
        "            nn.ReLU(),\n",
        "            nn.Linear(512, num_labels)\n",
        "        )\n",
        "\n",
        "    def forward(self, input_features, decoder_input_ids):\n",
        "        outputs = self.encoder(input_features, decoder_input_ids=decoder_input_ids)\n",
        "        pooled_output = outputs['last_hidden_state'][:, 0, :]\n",
        "        logits = self.classifier(pooled_output)\n",
        "        return logits\n",
        "\n"
      ]
    },
    {
      "cell_type": "code",
      "execution_count": null,
      "metadata": {
        "colab": {
          "base_uri": "https://localhost:8080/"
        },
        "id": "VIkVorEXF4Mn",
        "outputId": "6a6b4e91-a191-46c3-efcc-19dc9b52b1f8"
      },
      "outputs": [
        {
          "output_type": "stream",
          "name": "stderr",
          "text": [
            "/usr/local/lib/python3.10/dist-packages/transformers/optimization.py:411: FutureWarning: This implementation of AdamW is deprecated and will be removed in a future version. Use the PyTorch implementation torch.optim.AdamW instead, or set `no_deprecation_warning=True` to disable this warning\n",
            "  warnings.warn(\n"
          ]
        }
      ],
      "source": [
        "num_labels = 2\n",
        "\n",
        "model = SpeechClassifier(num_labels, encoder).to(device)\n",
        "optimizer = AdamW(model.parameters(), lr=2e-5, betas=(0.9, 0.999), eps=1e-08)\n",
        "criterion = nn.CrossEntropyLoss()"
      ]
    },
    {
      "cell_type": "code",
      "source": [
        "# Define the training function NO VAL\n",
        "def train(model, train_loader, optimizer, criterion, device, num_epochs):\n",
        "\n",
        "  for epoch in range(num_epochs):\n",
        "\n",
        "    model.train()\n",
        "\n",
        "    for i, batch in enumerate(train_loader):\n",
        "\n",
        "          input_features, decoder_input_ids, labels = batch\n",
        "\n",
        "          input_features = input_features.squeeze()\n",
        "          input_features = input_features.to(device)\n",
        "\n",
        "          decoder_input_ids = decoder_input_ids.squeeze()\n",
        "          decoder_input_ids = decoder_input_ids.to(device)\n",
        "\n",
        "          labels = labels.view(-1)\n",
        "          labels = labels.type(torch.LongTensor)\n",
        "          labels = labels.to(device)\n",
        "\n",
        "          optimizer.zero_grad()\n",
        "\n",
        "          logits = model(input_features, decoder_input_ids)\n",
        "\n",
        "          loss = criterion(logits, labels)\n",
        "          loss.backward()\n",
        "\n",
        "          optimizer.step()\n",
        "\n",
        "          if (i+1) % 8 == 0:\n",
        "              print(f'Epoch {epoch+1}/{num_epochs}, Batch {i+1}/{len(train_loader)}, Train Loss: {loss.item():.4f}')\n",
        "\n",
        "    torch.save(model.state_dict(), 'best_model.pt')"
      ],
      "metadata": {
        "id": "3uioy2R1V1Gn"
      },
      "execution_count": null,
      "outputs": []
    },
    {
      "cell_type": "code",
      "execution_count": null,
      "metadata": {
        "id": "ziIJ-x0BF4Mn"
      },
      "outputs": [],
      "source": [
        "\n",
        "# Define the training function\n",
        "def train(model, train_loader, val_loader, optimizer,  criterion, device, num_epochs):\n",
        "\n",
        "    best_accuracy = 0.0\n",
        "\n",
        "    for epoch in range(num_epochs):\n",
        "\n",
        "        model.train()\n",
        "\n",
        "        for i, batch in enumerate(train_loader):\n",
        "\n",
        "            input_features, decoder_input_ids, labels = batch\n",
        "\n",
        "            input_features = input_features.squeeze()\n",
        "            input_features = input_features.to(device)\n",
        "\n",
        "            decoder_input_ids = decoder_input_ids.squeeze()\n",
        "            decoder_input_ids = decoder_input_ids.to(device)\n",
        "\n",
        "            labels = labels.view(-1)\n",
        "            labels = labels.type(torch.LongTensor)\n",
        "            labels = labels.to(device)\n",
        "\n",
        "            optimizer.zero_grad()\n",
        "\n",
        "            logits = model(input_features, decoder_input_ids)\n",
        "\n",
        "            loss = criterion(logits, labels)\n",
        "            loss.backward()\n",
        "\n",
        "            optimizer.step()\n",
        "\n",
        "            if (i+1) % 8 == 0:\n",
        "                print(f'Epoch {epoch+1}/{num_epochs}, Batch {i+1}/{len(train_loader)}, Train Loss: {loss.item() :.4f}')\n",
        "                train_loss = 0.0\n",
        "\n",
        "        val_loss, val_accuracy, val_f1, _ , _ = evaluate(model, val_loader, device)\n",
        "\n",
        "        if val_accuracy > best_accuracy:\n",
        "            best_accuracy = val_accuracy\n",
        "            torch.save(model.state_dict(), 'best_model.pt')\n",
        "\n",
        "        print(\"========================================================================================\")\n",
        "        print(f'Epoch {epoch+1}/{num_epochs}, Val Loss: {val_loss:.4f}, Val Accuracy: {val_accuracy:.4f}, Val F1: {val_f1:.4f}, Best Accuracy: {best_accuracy:.4f}')\n",
        "        print(\"========================================================================================\")\n",
        "\n"
      ]
    },
    {
      "cell_type": "code",
      "execution_count": null,
      "metadata": {
        "id": "Z7Q4-ze0F4Mn"
      },
      "outputs": [],
      "source": [
        "def evaluate(model, data_loader,  device):\n",
        "\n",
        "    all_labels = []\n",
        "    all_preds = []\n",
        "    total_loss = 0.0\n",
        "\n",
        "    with torch.no_grad():\n",
        "\n",
        "        for i, batch in enumerate(data_loader):\n",
        "\n",
        "          input_features, decoder_input_ids, labels = batch\n",
        "\n",
        "          input_features = input_features.squeeze()\n",
        "          input_features = input_features.to(device)\n",
        "\n",
        "          decoder_input_ids = decoder_input_ids.squeeze()\n",
        "          decoder_input_ids = decoder_input_ids.to(device)\n",
        "\n",
        "          labels = labels.view(-1)\n",
        "          labels = labels.type(torch.LongTensor)\n",
        "          labels = labels.to(device)\n",
        "\n",
        "          optimizer.zero_grad()\n",
        "\n",
        "          logits = model(input_features, decoder_input_ids)\n",
        "\n",
        "          loss = criterion(logits, labels)\n",
        "          total_loss += loss.item()\n",
        "\n",
        "          _, preds = torch.max(logits, 1)\n",
        "          all_labels.append(labels.cpu().numpy())\n",
        "          all_preds.append(preds.cpu().numpy())\n",
        "\n",
        "    all_labels = np.concatenate(all_labels, axis=0)\n",
        "    all_preds = np.concatenate(all_preds, axis=0)\n",
        "\n",
        "    loss = total_loss / len(data_loader)\n",
        "    accuracy = accuracy_score(all_labels, all_preds)\n",
        "    f1 = f1_score(all_labels, all_preds, average='macro')\n",
        "    return loss, accuracy, f1, all_labels, all_preds\n"
      ]
    },
    {
      "cell_type": "code",
      "source": [],
      "metadata": {
        "id": "Lu7htLYPE_9h"
      },
      "execution_count": null,
      "outputs": []
    },
    {
      "cell_type": "code",
      "execution_count": null,
      "metadata": {
        "colab": {
          "base_uri": "https://localhost:8080/"
        },
        "id": "IUv6LcFNF4Mn",
        "outputId": "f92a0109-8d1a-4cf2-89e7-cbf354b1d859"
      },
      "outputs": [
        {
          "output_type": "stream",
          "name": "stdout",
          "text": [
            "Epoch 1/5, Batch 8/19, Train Loss: 0.6754\n",
            "Epoch 1/5, Batch 16/19, Train Loss: 0.5096\n",
            "========================================================================================\n",
            "Epoch 1/5, Val Loss: 0.2350, Val Accuracy: 0.9556, Val F1: 0.9554, Best Accuracy: 0.9556\n",
            "========================================================================================\n",
            "Epoch 2/5, Batch 8/19, Train Loss: 0.0305\n",
            "Epoch 2/5, Batch 16/19, Train Loss: 0.0067\n",
            "========================================================================================\n",
            "Epoch 2/5, Val Loss: 0.0244, Val Accuracy: 0.9778, Val F1: 0.9777, Best Accuracy: 0.9778\n",
            "========================================================================================\n",
            "Epoch 3/5, Batch 8/19, Train Loss: 0.0070\n",
            "Epoch 3/5, Batch 16/19, Train Loss: 0.0028\n",
            "========================================================================================\n",
            "Epoch 3/5, Val Loss: 0.1729, Val Accuracy: 0.9556, Val F1: 0.9555, Best Accuracy: 0.9778\n",
            "========================================================================================\n",
            "Epoch 4/5, Batch 8/19, Train Loss: 0.0006\n",
            "Epoch 4/5, Batch 16/19, Train Loss: 0.0517\n",
            "========================================================================================\n",
            "Epoch 4/5, Val Loss: 0.1358, Val Accuracy: 0.9778, Val F1: 0.9777, Best Accuracy: 0.9778\n",
            "========================================================================================\n",
            "Epoch 5/5, Batch 8/19, Train Loss: 0.0002\n",
            "Epoch 5/5, Batch 16/19, Train Loss: 0.0005\n",
            "========================================================================================\n",
            "Epoch 5/5, Val Loss: 0.9425, Val Accuracy: 0.8667, Val F1: 0.8650, Best Accuracy: 0.9778\n",
            "========================================================================================\n"
          ]
        }
      ],
      "source": [
        "import librosa\n",
        "num_epochs = 5\n",
        "train(model, train_loader, val_loader, optimizer, criterion, device, num_epochs)"
      ]
    },
    {
      "cell_type": "code",
      "execution_count": null,
      "metadata": {
        "id": "UrGW29UKF4Mn"
      },
      "outputs": [],
      "source": [
        "\n"
      ]
    },
    {
      "cell_type": "markdown",
      "source": [
        "### Validation\n",
        "\n",
        "Before running the model on the test set, let's examine the validation set and see how our model is doing."
      ],
      "metadata": {
        "id": "KjETS9sqYRD5"
      }
    },
    {
      "cell_type": "code",
      "source": [
        "#VALIDATION\n",
        "state_dict = torch.load('best_model.pt')\n",
        "\n",
        "# Create a new instance of the model and load the state dictionary\n",
        "num_labels = 2\n",
        "model = SpeechClassifier(num_labels, encoder).to(device)\n",
        "model.load_state_dict(state_dict)\n",
        "\n",
        "_, _, _, all_labels, all_preds = evaluate(model, val_loader, device)"
      ],
      "metadata": {
        "id": "bILZRSn4JvlG"
      },
      "execution_count": null,
      "outputs": []
    },
    {
      "cell_type": "code",
      "source": [
        "#VALIDATION\n",
        "print(classification_report(all_labels, all_preds))\n",
        "print(accuracy_score(all_labels, all_preds))"
      ],
      "metadata": {
        "colab": {
          "base_uri": "https://localhost:8080/"
        },
        "id": "fyNUpLHeJ5p1",
        "outputId": "52379010-0e14-4cd5-eaa7-bd858a033532"
      },
      "execution_count": null,
      "outputs": [
        {
          "output_type": "stream",
          "name": "stdout",
          "text": [
            "              precision    recall  f1-score   support\n",
            "\n",
            "           0       1.00      0.95      0.98        22\n",
            "           1       0.96      1.00      0.98        23\n",
            "\n",
            "    accuracy                           0.98        45\n",
            "   macro avg       0.98      0.98      0.98        45\n",
            "weighted avg       0.98      0.98      0.98        45\n",
            "\n",
            "0.9777777777777777\n"
          ]
        }
      ]
    },
    {
      "cell_type": "markdown",
      "source": [
        "This is too good to be true. Checking the contents of labels, preds, and data balance."
      ],
      "metadata": {
        "id": "l56wgPY1Qja3"
      }
    },
    {
      "cell_type": "code",
      "source": [
        "all_labels"
      ],
      "metadata": {
        "colab": {
          "base_uri": "https://localhost:8080/"
        },
        "id": "nefkmyAVLDRO",
        "outputId": "00198469-6838-4cdd-a6bb-5557a59470a6"
      },
      "execution_count": null,
      "outputs": [
        {
          "output_type": "execute_result",
          "data": {
            "text/plain": [
              "array([1, 0, 1, 0, 0, 1, 0, 0, 1, 0, 1, 0, 1, 0, 1, 1, 0, 0, 0, 1, 0, 1,\n",
              "       0, 0, 1, 1, 1, 1, 1, 1, 1, 0, 1, 1, 0, 1, 0, 1, 0, 0, 1, 0, 0, 0,\n",
              "       1])"
            ]
          },
          "metadata": {},
          "execution_count": 51
        }
      ]
    },
    {
      "cell_type": "code",
      "source": [
        "all_preds"
      ],
      "metadata": {
        "colab": {
          "base_uri": "https://localhost:8080/"
        },
        "id": "AL-CcSn0LGgk",
        "outputId": "8c2e1758-da55-4632-f796-9246548c4e2c"
      },
      "execution_count": null,
      "outputs": [
        {
          "output_type": "execute_result",
          "data": {
            "text/plain": [
              "array([1, 0, 1, 0, 0, 1, 0, 0, 1, 0, 1, 0, 1, 0, 1, 1, 0, 0, 0, 1, 0, 1,\n",
              "       0, 1, 1, 1, 1, 1, 1, 1, 1, 0, 1, 1, 0, 1, 0, 1, 0, 0, 1, 0, 0, 0,\n",
              "       1])"
            ]
          },
          "metadata": {},
          "execution_count": 52
        }
      ]
    },
    {
      "cell_type": "code",
      "source": [
        "sum(train_labels)/len(train_labels)"
      ],
      "metadata": {
        "colab": {
          "base_uri": "https://localhost:8080/"
        },
        "id": "I6GfSmERLMA4",
        "outputId": "7bedfc59-523c-4fab-943f-8bdead50feac"
      },
      "execution_count": null,
      "outputs": [
        {
          "output_type": "execute_result",
          "data": {
            "text/plain": [
              "0.5238095238095238"
            ]
          },
          "metadata": {},
          "execution_count": 54
        }
      ]
    },
    {
      "cell_type": "code",
      "source": [
        "sum(val_labels)/len(val_labels)"
      ],
      "metadata": {
        "colab": {
          "base_uri": "https://localhost:8080/"
        },
        "id": "aiaKvCpnLRrd",
        "outputId": "5b48efc7-21b5-4ea5-d180-ce46a74bb6fd"
      },
      "execution_count": null,
      "outputs": [
        {
          "output_type": "execute_result",
          "data": {
            "text/plain": [
              "0.5111111111111111"
            ]
          },
          "metadata": {},
          "execution_count": 55
        }
      ]
    },
    {
      "cell_type": "code",
      "source": [
        "# TESTING ONLY\n",
        "state_dict = torch.load('best_model.pt')\n",
        "\n",
        "# Create a new instance of the model and load the state dictionary\n",
        "num_labels = 2\n",
        "model = SpeechClassifier(num_labels, encoder).to(device)\n",
        "model.load_state_dict(state_dict)\n",
        "\n",
        "_, _, _, all_labels, all_preds = evaluate(model, test_loader, device)\n",
        "\n",
        "\n",
        "print(classification_report(all_labels, all_preds))\n",
        "print(accuracy_score(all_labels, all_preds))"
      ],
      "metadata": {
        "id": "BBh8OAXvR7Qr"
      },
      "execution_count": null,
      "outputs": []
    },
    {
      "cell_type": "markdown",
      "source": [
        "I don't want to run testing yet as we want to explore more models."
      ],
      "metadata": {
        "id": "_d_MMju6R71D"
      }
    },
    {
      "cell_type": "markdown",
      "source": [
        "### Model Troubleshooting\n",
        "\n",
        "So far our results look too good to be true (98% validation accuracy). In the cells below I run through some troubleshooting methods to ensure our model is not overfit or learning the wrong representations."
      ],
      "metadata": {
        "id": "Quoc3-z4YaJx"
      }
    },
    {
      "cell_type": "markdown",
      "source": [
        "Ensure that the labels are correct."
      ],
      "metadata": {
        "id": "6JoYDBxOQzJt"
      }
    },
    {
      "cell_type": "code",
      "source": [
        "train_df[train_df[\"WAV_folder\"] == \"CONTROLS_WAV\"][\"hypernasality\"]"
      ],
      "metadata": {
        "colab": {
          "base_uri": "https://localhost:8080/"
        },
        "id": "PDwMkIKvNLCv",
        "outputId": "762468da-693b-40a1-9e4e-9b02213b073f"
      },
      "execution_count": null,
      "outputs": [
        {
          "output_type": "execute_result",
          "data": {
            "text/plain": [
              "93     0.0\n",
              "140    0.0\n",
              "108    0.0\n",
              "65     0.0\n",
              "28     0.0\n",
              "117    0.0\n",
              "84     0.0\n",
              "142    0.0\n",
              "44     0.0\n",
              "15     0.0\n",
              "114    0.0\n",
              "47     0.0\n",
              "110    0.0\n",
              "78     0.0\n",
              "5      0.0\n",
              "120    0.0\n",
              "77     0.0\n",
              "34     0.0\n",
              "111    0.0\n",
              "43     0.0\n",
              "95     0.0\n",
              "131    0.0\n",
              "8      0.0\n",
              "13     0.0\n",
              "3      0.0\n",
              "38     0.0\n",
              "72     0.0\n",
              "6      0.0\n",
              "109    0.0\n",
              "2      0.0\n",
              "123    0.0\n",
              "112    0.0\n",
              "46     0.0\n",
              "79     0.0\n",
              "41     0.0\n",
              "90     0.0\n",
              "75     0.0\n",
              "32     0.0\n",
              "141    0.0\n",
              "37     0.0\n",
              "1      0.0\n",
              "52     0.0\n",
              "103    0.0\n",
              "74     0.0\n",
              "121    0.0\n",
              "146    0.0\n",
              "20     0.0\n",
              "14     0.0\n",
              "Name: hypernasality, dtype: float64"
            ]
          },
          "metadata": {},
          "execution_count": 65
        }
      ]
    },
    {
      "cell_type": "code",
      "source": [
        "train_df"
      ],
      "metadata": {
        "colab": {
          "base_uri": "https://localhost:8080/",
          "height": 843
        },
        "id": "SnNHVlCdNafl",
        "outputId": "17e73924-6d48-4490-9561-875e9fb01440"
      },
      "execution_count": null,
      "outputs": [
        {
          "output_type": "execute_result",
          "data": {
            "text/plain": [
              "                                             File_Name  Sampling_Rate_(Hz)  \\\n",
              "93        ACPA Santa came home since the snow fell.mp3             44100.0   \n",
              "140                   cdc 5 (can I play with Jack).mp3             44100.0   \n",
              "108            cdc 6 (the polar bears are dancing).mp3             44100.0   \n",
              "0             ACPA ted had a dog with white feet-3.mp3             44100.0   \n",
              "73                              Video 1_4 (seesaw).mp3             44100.0   \n",
              "..                                                 ...                 ...   \n",
              "71                Video 4_4 (well it will help me).mp3             44100.0   \n",
              "106                            ACPA buy baby a bib.mp3             48000.0   \n",
              "14   Video 1_18 (pretend it stops running when the ...             44100.0   \n",
              "92                               Video 2_4 (daddy).mp3             44100.0   \n",
              "102         ACPA we shouldn_t play in the street-2.mp3             48000.0   \n",
              "\n",
              "     Channels  Duration_(seconds)    folder  hypernasality  \\\n",
              "93        1.0                3.19  CONTROLS            0.0   \n",
              "140       2.0                1.57  CONTROLS            0.0   \n",
              "108       2.0                2.32  CONTROLS            0.0   \n",
              "0         1.0                4.13     CASES            1.0   \n",
              "73        2.0                1.15     CASES            1.0   \n",
              "..        ...                 ...       ...            ...   \n",
              "71        2.0                2.32     CASES            1.0   \n",
              "106       1.0                1.92     CASES            1.0   \n",
              "14        2.0                5.80  CONTROLS            0.0   \n",
              "92        2.0                0.57     CASES            1.0   \n",
              "102       1.0                2.16     CASES            1.0   \n",
              "\n",
              "                                      original_text  \\\n",
              "93              Santa came home since the snow fell   \n",
              "140                            can I play with Jack   \n",
              "108                     the polar bears are dancing   \n",
              "0                     ted had a dog with white feet   \n",
              "73                                           seesaw   \n",
              "..                                              ...   \n",
              "71                             well it will help me   \n",
              "106                                  buy baby a bib   \n",
              "14   pretend it stops running when the car is going   \n",
              "92                                            daddy   \n",
              "102                 we shouldn't play in the street   \n",
              "\n",
              "                                OPENAI_Whisper_text  \\\n",
              "93            Santa came home since the snow fell.    \n",
              "140                          Can I play with Jack?    \n",
              "108               Um, the polar bears are dancing.    \n",
              "0                   Ted and a dog with white feet.    \n",
              "73                                          P.S.A.    \n",
              "..                                              ...   \n",
              "71                             Wow, em vừa học đĩa    \n",
              "106                            Hi, I'm Hayley Mim.    \n",
              "14   When it stops running, when the car is going.    \n",
              "92                                           Fanny    \n",
              "102                    I shouldn't play with food.    \n",
              "\n",
              "                                          WAV_filename    WAV_folder  \n",
              "93        ACPA Santa came home since the snow fell.wav  CONTROLS_WAV  \n",
              "140                   cdc 5 (can I play with Jack).wav  CONTROLS_WAV  \n",
              "108            cdc 6 (the polar bears are dancing).wav  CONTROLS_WAV  \n",
              "0             ACPA ted had a dog with white feet-3.wav     CASES_WAV  \n",
              "73                              Video 1_4 (seesaw).wav     CASES_WAV  \n",
              "..                                                 ...           ...  \n",
              "71                Video 4_4 (well it will help me).wav     CASES_WAV  \n",
              "106                            ACPA buy baby a bib.wav     CASES_WAV  \n",
              "14   Video 1_18 (pretend it stops running when the ...  CONTROLS_WAV  \n",
              "92                               Video 2_4 (daddy).wav     CASES_WAV  \n",
              "102         ACPA we shouldn_t play in the street-2.wav     CASES_WAV  \n",
              "\n",
              "[102 rows x 10 columns]"
            ],
            "text/html": [
              "\n",
              "  <div id=\"df-4762c448-fc54-457a-8e35-5d23f2786b15\" class=\"colab-df-container\">\n",
              "    <div>\n",
              "<style scoped>\n",
              "    .dataframe tbody tr th:only-of-type {\n",
              "        vertical-align: middle;\n",
              "    }\n",
              "\n",
              "    .dataframe tbody tr th {\n",
              "        vertical-align: top;\n",
              "    }\n",
              "\n",
              "    .dataframe thead th {\n",
              "        text-align: right;\n",
              "    }\n",
              "</style>\n",
              "<table border=\"1\" class=\"dataframe\">\n",
              "  <thead>\n",
              "    <tr style=\"text-align: right;\">\n",
              "      <th></th>\n",
              "      <th>File_Name</th>\n",
              "      <th>Sampling_Rate_(Hz)</th>\n",
              "      <th>Channels</th>\n",
              "      <th>Duration_(seconds)</th>\n",
              "      <th>folder</th>\n",
              "      <th>hypernasality</th>\n",
              "      <th>original_text</th>\n",
              "      <th>OPENAI_Whisper_text</th>\n",
              "      <th>WAV_filename</th>\n",
              "      <th>WAV_folder</th>\n",
              "    </tr>\n",
              "  </thead>\n",
              "  <tbody>\n",
              "    <tr>\n",
              "      <th>93</th>\n",
              "      <td>ACPA Santa came home since the snow fell.mp3</td>\n",
              "      <td>44100.0</td>\n",
              "      <td>1.0</td>\n",
              "      <td>3.19</td>\n",
              "      <td>CONTROLS</td>\n",
              "      <td>0.0</td>\n",
              "      <td>Santa came home since the snow fell</td>\n",
              "      <td>Santa came home since the snow fell.</td>\n",
              "      <td>ACPA Santa came home since the snow fell.wav</td>\n",
              "      <td>CONTROLS_WAV</td>\n",
              "    </tr>\n",
              "    <tr>\n",
              "      <th>140</th>\n",
              "      <td>cdc 5 (can I play with Jack).mp3</td>\n",
              "      <td>44100.0</td>\n",
              "      <td>2.0</td>\n",
              "      <td>1.57</td>\n",
              "      <td>CONTROLS</td>\n",
              "      <td>0.0</td>\n",
              "      <td>can I play with Jack</td>\n",
              "      <td>Can I play with Jack?</td>\n",
              "      <td>cdc 5 (can I play with Jack).wav</td>\n",
              "      <td>CONTROLS_WAV</td>\n",
              "    </tr>\n",
              "    <tr>\n",
              "      <th>108</th>\n",
              "      <td>cdc 6 (the polar bears are dancing).mp3</td>\n",
              "      <td>44100.0</td>\n",
              "      <td>2.0</td>\n",
              "      <td>2.32</td>\n",
              "      <td>CONTROLS</td>\n",
              "      <td>0.0</td>\n",
              "      <td>the polar bears are dancing</td>\n",
              "      <td>Um, the polar bears are dancing.</td>\n",
              "      <td>cdc 6 (the polar bears are dancing).wav</td>\n",
              "      <td>CONTROLS_WAV</td>\n",
              "    </tr>\n",
              "    <tr>\n",
              "      <th>0</th>\n",
              "      <td>ACPA ted had a dog with white feet-3.mp3</td>\n",
              "      <td>44100.0</td>\n",
              "      <td>1.0</td>\n",
              "      <td>4.13</td>\n",
              "      <td>CASES</td>\n",
              "      <td>1.0</td>\n",
              "      <td>ted had a dog with white feet</td>\n",
              "      <td>Ted and a dog with white feet.</td>\n",
              "      <td>ACPA ted had a dog with white feet-3.wav</td>\n",
              "      <td>CASES_WAV</td>\n",
              "    </tr>\n",
              "    <tr>\n",
              "      <th>73</th>\n",
              "      <td>Video 1_4 (seesaw).mp3</td>\n",
              "      <td>44100.0</td>\n",
              "      <td>2.0</td>\n",
              "      <td>1.15</td>\n",
              "      <td>CASES</td>\n",
              "      <td>1.0</td>\n",
              "      <td>seesaw</td>\n",
              "      <td>P.S.A.</td>\n",
              "      <td>Video 1_4 (seesaw).wav</td>\n",
              "      <td>CASES_WAV</td>\n",
              "    </tr>\n",
              "    <tr>\n",
              "      <th>...</th>\n",
              "      <td>...</td>\n",
              "      <td>...</td>\n",
              "      <td>...</td>\n",
              "      <td>...</td>\n",
              "      <td>...</td>\n",
              "      <td>...</td>\n",
              "      <td>...</td>\n",
              "      <td>...</td>\n",
              "      <td>...</td>\n",
              "      <td>...</td>\n",
              "    </tr>\n",
              "    <tr>\n",
              "      <th>71</th>\n",
              "      <td>Video 4_4 (well it will help me).mp3</td>\n",
              "      <td>44100.0</td>\n",
              "      <td>2.0</td>\n",
              "      <td>2.32</td>\n",
              "      <td>CASES</td>\n",
              "      <td>1.0</td>\n",
              "      <td>well it will help me</td>\n",
              "      <td>Wow, em vừa học đĩa</td>\n",
              "      <td>Video 4_4 (well it will help me).wav</td>\n",
              "      <td>CASES_WAV</td>\n",
              "    </tr>\n",
              "    <tr>\n",
              "      <th>106</th>\n",
              "      <td>ACPA buy baby a bib.mp3</td>\n",
              "      <td>48000.0</td>\n",
              "      <td>1.0</td>\n",
              "      <td>1.92</td>\n",
              "      <td>CASES</td>\n",
              "      <td>1.0</td>\n",
              "      <td>buy baby a bib</td>\n",
              "      <td>Hi, I'm Hayley Mim.</td>\n",
              "      <td>ACPA buy baby a bib.wav</td>\n",
              "      <td>CASES_WAV</td>\n",
              "    </tr>\n",
              "    <tr>\n",
              "      <th>14</th>\n",
              "      <td>Video 1_18 (pretend it stops running when the ...</td>\n",
              "      <td>44100.0</td>\n",
              "      <td>2.0</td>\n",
              "      <td>5.80</td>\n",
              "      <td>CONTROLS</td>\n",
              "      <td>0.0</td>\n",
              "      <td>pretend it stops running when the car is going</td>\n",
              "      <td>When it stops running, when the car is going.</td>\n",
              "      <td>Video 1_18 (pretend it stops running when the ...</td>\n",
              "      <td>CONTROLS_WAV</td>\n",
              "    </tr>\n",
              "    <tr>\n",
              "      <th>92</th>\n",
              "      <td>Video 2_4 (daddy).mp3</td>\n",
              "      <td>44100.0</td>\n",
              "      <td>2.0</td>\n",
              "      <td>0.57</td>\n",
              "      <td>CASES</td>\n",
              "      <td>1.0</td>\n",
              "      <td>daddy</td>\n",
              "      <td>Fanny</td>\n",
              "      <td>Video 2_4 (daddy).wav</td>\n",
              "      <td>CASES_WAV</td>\n",
              "    </tr>\n",
              "    <tr>\n",
              "      <th>102</th>\n",
              "      <td>ACPA we shouldn_t play in the street-2.mp3</td>\n",
              "      <td>48000.0</td>\n",
              "      <td>1.0</td>\n",
              "      <td>2.16</td>\n",
              "      <td>CASES</td>\n",
              "      <td>1.0</td>\n",
              "      <td>we shouldn't play in the street</td>\n",
              "      <td>I shouldn't play with food.</td>\n",
              "      <td>ACPA we shouldn_t play in the street-2.wav</td>\n",
              "      <td>CASES_WAV</td>\n",
              "    </tr>\n",
              "  </tbody>\n",
              "</table>\n",
              "<p>102 rows × 10 columns</p>\n",
              "</div>\n",
              "    <div class=\"colab-df-buttons\">\n",
              "\n",
              "  <div class=\"colab-df-container\">\n",
              "    <button class=\"colab-df-convert\" onclick=\"convertToInteractive('df-4762c448-fc54-457a-8e35-5d23f2786b15')\"\n",
              "            title=\"Convert this dataframe to an interactive table.\"\n",
              "            style=\"display:none;\">\n",
              "\n",
              "  <svg xmlns=\"http://www.w3.org/2000/svg\" height=\"24px\" viewBox=\"0 -960 960 960\">\n",
              "    <path d=\"M120-120v-720h720v720H120Zm60-500h600v-160H180v160Zm220 220h160v-160H400v160Zm0 220h160v-160H400v160ZM180-400h160v-160H180v160Zm440 0h160v-160H620v160ZM180-180h160v-160H180v160Zm440 0h160v-160H620v160Z\"/>\n",
              "  </svg>\n",
              "    </button>\n",
              "\n",
              "  <style>\n",
              "    .colab-df-container {\n",
              "      display:flex;\n",
              "      gap: 12px;\n",
              "    }\n",
              "\n",
              "    .colab-df-convert {\n",
              "      background-color: #E8F0FE;\n",
              "      border: none;\n",
              "      border-radius: 50%;\n",
              "      cursor: pointer;\n",
              "      display: none;\n",
              "      fill: #1967D2;\n",
              "      height: 32px;\n",
              "      padding: 0 0 0 0;\n",
              "      width: 32px;\n",
              "    }\n",
              "\n",
              "    .colab-df-convert:hover {\n",
              "      background-color: #E2EBFA;\n",
              "      box-shadow: 0px 1px 2px rgba(60, 64, 67, 0.3), 0px 1px 3px 1px rgba(60, 64, 67, 0.15);\n",
              "      fill: #174EA6;\n",
              "    }\n",
              "\n",
              "    .colab-df-buttons div {\n",
              "      margin-bottom: 4px;\n",
              "    }\n",
              "\n",
              "    [theme=dark] .colab-df-convert {\n",
              "      background-color: #3B4455;\n",
              "      fill: #D2E3FC;\n",
              "    }\n",
              "\n",
              "    [theme=dark] .colab-df-convert:hover {\n",
              "      background-color: #434B5C;\n",
              "      box-shadow: 0px 1px 3px 1px rgba(0, 0, 0, 0.15);\n",
              "      filter: drop-shadow(0px 1px 2px rgba(0, 0, 0, 0.3));\n",
              "      fill: #FFFFFF;\n",
              "    }\n",
              "  </style>\n",
              "\n",
              "    <script>\n",
              "      const buttonEl =\n",
              "        document.querySelector('#df-4762c448-fc54-457a-8e35-5d23f2786b15 button.colab-df-convert');\n",
              "      buttonEl.style.display =\n",
              "        google.colab.kernel.accessAllowed ? 'block' : 'none';\n",
              "\n",
              "      async function convertToInteractive(key) {\n",
              "        const element = document.querySelector('#df-4762c448-fc54-457a-8e35-5d23f2786b15');\n",
              "        const dataTable =\n",
              "          await google.colab.kernel.invokeFunction('convertToInteractive',\n",
              "                                                    [key], {});\n",
              "        if (!dataTable) return;\n",
              "\n",
              "        const docLinkHtml = 'Like what you see? Visit the ' +\n",
              "          '<a target=\"_blank\" href=https://colab.research.google.com/notebooks/data_table.ipynb>data table notebook</a>'\n",
              "          + ' to learn more about interactive tables.';\n",
              "        element.innerHTML = '';\n",
              "        dataTable['output_type'] = 'display_data';\n",
              "        await google.colab.output.renderOutput(dataTable, element);\n",
              "        const docLink = document.createElement('div');\n",
              "        docLink.innerHTML = docLinkHtml;\n",
              "        element.appendChild(docLink);\n",
              "      }\n",
              "    </script>\n",
              "  </div>\n",
              "\n",
              "\n",
              "<div id=\"df-8eeba06b-9048-4d7b-b7a4-78c48b921594\">\n",
              "  <button class=\"colab-df-quickchart\" onclick=\"quickchart('df-8eeba06b-9048-4d7b-b7a4-78c48b921594')\"\n",
              "            title=\"Suggest charts\"\n",
              "            style=\"display:none;\">\n",
              "\n",
              "<svg xmlns=\"http://www.w3.org/2000/svg\" height=\"24px\"viewBox=\"0 0 24 24\"\n",
              "     width=\"24px\">\n",
              "    <g>\n",
              "        <path d=\"M19 3H5c-1.1 0-2 .9-2 2v14c0 1.1.9 2 2 2h14c1.1 0 2-.9 2-2V5c0-1.1-.9-2-2-2zM9 17H7v-7h2v7zm4 0h-2V7h2v10zm4 0h-2v-4h2v4z\"/>\n",
              "    </g>\n",
              "</svg>\n",
              "  </button>\n",
              "\n",
              "<style>\n",
              "  .colab-df-quickchart {\n",
              "      --bg-color: #E8F0FE;\n",
              "      --fill-color: #1967D2;\n",
              "      --hover-bg-color: #E2EBFA;\n",
              "      --hover-fill-color: #174EA6;\n",
              "      --disabled-fill-color: #AAA;\n",
              "      --disabled-bg-color: #DDD;\n",
              "  }\n",
              "\n",
              "  [theme=dark] .colab-df-quickchart {\n",
              "      --bg-color: #3B4455;\n",
              "      --fill-color: #D2E3FC;\n",
              "      --hover-bg-color: #434B5C;\n",
              "      --hover-fill-color: #FFFFFF;\n",
              "      --disabled-bg-color: #3B4455;\n",
              "      --disabled-fill-color: #666;\n",
              "  }\n",
              "\n",
              "  .colab-df-quickchart {\n",
              "    background-color: var(--bg-color);\n",
              "    border: none;\n",
              "    border-radius: 50%;\n",
              "    cursor: pointer;\n",
              "    display: none;\n",
              "    fill: var(--fill-color);\n",
              "    height: 32px;\n",
              "    padding: 0;\n",
              "    width: 32px;\n",
              "  }\n",
              "\n",
              "  .colab-df-quickchart:hover {\n",
              "    background-color: var(--hover-bg-color);\n",
              "    box-shadow: 0 1px 2px rgba(60, 64, 67, 0.3), 0 1px 3px 1px rgba(60, 64, 67, 0.15);\n",
              "    fill: var(--button-hover-fill-color);\n",
              "  }\n",
              "\n",
              "  .colab-df-quickchart-complete:disabled,\n",
              "  .colab-df-quickchart-complete:disabled:hover {\n",
              "    background-color: var(--disabled-bg-color);\n",
              "    fill: var(--disabled-fill-color);\n",
              "    box-shadow: none;\n",
              "  }\n",
              "\n",
              "  .colab-df-spinner {\n",
              "    border: 2px solid var(--fill-color);\n",
              "    border-color: transparent;\n",
              "    border-bottom-color: var(--fill-color);\n",
              "    animation:\n",
              "      spin 1s steps(1) infinite;\n",
              "  }\n",
              "\n",
              "  @keyframes spin {\n",
              "    0% {\n",
              "      border-color: transparent;\n",
              "      border-bottom-color: var(--fill-color);\n",
              "      border-left-color: var(--fill-color);\n",
              "    }\n",
              "    20% {\n",
              "      border-color: transparent;\n",
              "      border-left-color: var(--fill-color);\n",
              "      border-top-color: var(--fill-color);\n",
              "    }\n",
              "    30% {\n",
              "      border-color: transparent;\n",
              "      border-left-color: var(--fill-color);\n",
              "      border-top-color: var(--fill-color);\n",
              "      border-right-color: var(--fill-color);\n",
              "    }\n",
              "    40% {\n",
              "      border-color: transparent;\n",
              "      border-right-color: var(--fill-color);\n",
              "      border-top-color: var(--fill-color);\n",
              "    }\n",
              "    60% {\n",
              "      border-color: transparent;\n",
              "      border-right-color: var(--fill-color);\n",
              "    }\n",
              "    80% {\n",
              "      border-color: transparent;\n",
              "      border-right-color: var(--fill-color);\n",
              "      border-bottom-color: var(--fill-color);\n",
              "    }\n",
              "    90% {\n",
              "      border-color: transparent;\n",
              "      border-bottom-color: var(--fill-color);\n",
              "    }\n",
              "  }\n",
              "</style>\n",
              "\n",
              "  <script>\n",
              "    async function quickchart(key) {\n",
              "      const quickchartButtonEl =\n",
              "        document.querySelector('#' + key + ' button');\n",
              "      quickchartButtonEl.disabled = true;  // To prevent multiple clicks.\n",
              "      quickchartButtonEl.classList.add('colab-df-spinner');\n",
              "      try {\n",
              "        const charts = await google.colab.kernel.invokeFunction(\n",
              "            'suggestCharts', [key], {});\n",
              "      } catch (error) {\n",
              "        console.error('Error during call to suggestCharts:', error);\n",
              "      }\n",
              "      quickchartButtonEl.classList.remove('colab-df-spinner');\n",
              "      quickchartButtonEl.classList.add('colab-df-quickchart-complete');\n",
              "    }\n",
              "    (() => {\n",
              "      let quickchartButtonEl =\n",
              "        document.querySelector('#df-8eeba06b-9048-4d7b-b7a4-78c48b921594 button');\n",
              "      quickchartButtonEl.style.display =\n",
              "        google.colab.kernel.accessAllowed ? 'block' : 'none';\n",
              "    })();\n",
              "  </script>\n",
              "</div>\n",
              "\n",
              "  <div id=\"id_480c4c3d-68b5-48bf-b3cc-2f36b68122d5\">\n",
              "    <style>\n",
              "      .colab-df-generate {\n",
              "        background-color: #E8F0FE;\n",
              "        border: none;\n",
              "        border-radius: 50%;\n",
              "        cursor: pointer;\n",
              "        display: none;\n",
              "        fill: #1967D2;\n",
              "        height: 32px;\n",
              "        padding: 0 0 0 0;\n",
              "        width: 32px;\n",
              "      }\n",
              "\n",
              "      .colab-df-generate:hover {\n",
              "        background-color: #E2EBFA;\n",
              "        box-shadow: 0px 1px 2px rgba(60, 64, 67, 0.3), 0px 1px 3px 1px rgba(60, 64, 67, 0.15);\n",
              "        fill: #174EA6;\n",
              "      }\n",
              "\n",
              "      [theme=dark] .colab-df-generate {\n",
              "        background-color: #3B4455;\n",
              "        fill: #D2E3FC;\n",
              "      }\n",
              "\n",
              "      [theme=dark] .colab-df-generate:hover {\n",
              "        background-color: #434B5C;\n",
              "        box-shadow: 0px 1px 3px 1px rgba(0, 0, 0, 0.15);\n",
              "        filter: drop-shadow(0px 1px 2px rgba(0, 0, 0, 0.3));\n",
              "        fill: #FFFFFF;\n",
              "      }\n",
              "    </style>\n",
              "    <button class=\"colab-df-generate\" onclick=\"generateWithVariable('train_df')\"\n",
              "            title=\"Generate code using this dataframe.\"\n",
              "            style=\"display:none;\">\n",
              "\n",
              "  <svg xmlns=\"http://www.w3.org/2000/svg\" height=\"24px\"viewBox=\"0 0 24 24\"\n",
              "       width=\"24px\">\n",
              "    <path d=\"M7,19H8.4L18.45,9,17,7.55,7,17.6ZM5,21V16.75L18.45,3.32a2,2,0,0,1,2.83,0l1.4,1.43a1.91,1.91,0,0,1,.58,1.4,1.91,1.91,0,0,1-.58,1.4L9.25,21ZM18.45,9,17,7.55Zm-12,3A5.31,5.31,0,0,0,4.9,8.1,5.31,5.31,0,0,0,1,6.5,5.31,5.31,0,0,0,4.9,4.9,5.31,5.31,0,0,0,6.5,1,5.31,5.31,0,0,0,8.1,4.9,5.31,5.31,0,0,0,12,6.5,5.46,5.46,0,0,0,6.5,12Z\"/>\n",
              "  </svg>\n",
              "    </button>\n",
              "    <script>\n",
              "      (() => {\n",
              "      const buttonEl =\n",
              "        document.querySelector('#id_480c4c3d-68b5-48bf-b3cc-2f36b68122d5 button.colab-df-generate');\n",
              "      buttonEl.style.display =\n",
              "        google.colab.kernel.accessAllowed ? 'block' : 'none';\n",
              "\n",
              "      buttonEl.onclick = () => {\n",
              "        google.colab.notebook.generateWithVariable('train_df');\n",
              "      }\n",
              "      })();\n",
              "    </script>\n",
              "  </div>\n",
              "\n",
              "    </div>\n",
              "  </div>\n"
            ],
            "application/vnd.google.colaboratory.intrinsic+json": {
              "type": "dataframe",
              "variable_name": "train_df",
              "summary": "{\n  \"name\": \"train_df\",\n  \"rows\": 102,\n  \"fields\": [\n    {\n      \"column\": \"File_Name\",\n      \"properties\": {\n        \"dtype\": \"string\",\n        \"num_unique_values\": 102,\n        \"samples\": [\n          \"ACPA Nick_s grandmother lives in the city.mp3\",\n          \"Facebook (take a turtle).mp3\",\n          \"Video 1_6 (sha, sha, sha).mp3\"\n        ],\n        \"semantic_type\": \"\",\n        \"description\": \"\"\n      }\n    },\n    {\n      \"column\": \"Sampling_Rate_(Hz)\",\n      \"properties\": {\n        \"dtype\": \"number\",\n        \"std\": 1165.4610072189028,\n        \"min\": 44100.0,\n        \"max\": 48000.0,\n        \"num_unique_values\": 2,\n        \"samples\": [\n          48000.0,\n          44100.0\n        ],\n        \"semantic_type\": \"\",\n        \"description\": \"\"\n      }\n    },\n    {\n      \"column\": \"Channels\",\n      \"properties\": {\n        \"dtype\": \"number\",\n        \"std\": 0.4858710383323114,\n        \"min\": 1.0,\n        \"max\": 2.0,\n        \"num_unique_values\": 2,\n        \"samples\": [\n          2.0,\n          1.0\n        ],\n        \"semantic_type\": \"\",\n        \"description\": \"\"\n      }\n    },\n    {\n      \"column\": \"Duration_(seconds)\",\n      \"properties\": {\n        \"dtype\": \"number\",\n        \"std\": 1.4217958660652523,\n        \"min\": 0.44,\n        \"max\": 9.35,\n        \"num_unique_values\": 76,\n        \"samples\": [\n          1.15,\n          0.81\n        ],\n        \"semantic_type\": \"\",\n        \"description\": \"\"\n      }\n    },\n    {\n      \"column\": \"folder\",\n      \"properties\": {\n        \"dtype\": \"category\",\n        \"num_unique_values\": 2,\n        \"samples\": [\n          \"CASES\",\n          \"CONTROLS\"\n        ],\n        \"semantic_type\": \"\",\n        \"description\": \"\"\n      }\n    },\n    {\n      \"column\": \"hypernasality\",\n      \"properties\": {\n        \"dtype\": \"number\",\n        \"std\": 0.5015990737145658,\n        \"min\": 0.0,\n        \"max\": 1.0,\n        \"num_unique_values\": 2,\n        \"samples\": [\n          1.0,\n          0.0\n        ],\n        \"semantic_type\": \"\",\n        \"description\": \"\"\n      }\n    },\n    {\n      \"column\": \"original_text\",\n      \"properties\": {\n        \"dtype\": \"string\",\n        \"num_unique_values\": 96,\n        \"samples\": [\n          \"but if its not, then we would stop running\",\n          \"but\"\n        ],\n        \"semantic_type\": \"\",\n        \"description\": \"\"\n      }\n    },\n    {\n      \"column\": \"OPENAI_Whisper_text\",\n      \"properties\": {\n        \"dtype\": \"string\",\n        \"num_unique_values\": 101,\n        \"samples\": [\n          \"But it will help me with the essays. \",\n          \"Vote for his right to play football. \"\n        ],\n        \"semantic_type\": \"\",\n        \"description\": \"\"\n      }\n    },\n    {\n      \"column\": \"WAV_filename\",\n      \"properties\": {\n        \"dtype\": \"string\",\n        \"num_unique_values\": 102,\n        \"samples\": [\n          \"ACPA Nick_s grandmother lives in the city.wav\",\n          \"Facebook (take a turtle).wav\"\n        ],\n        \"semantic_type\": \"\",\n        \"description\": \"\"\n      }\n    },\n    {\n      \"column\": \"WAV_folder\",\n      \"properties\": {\n        \"dtype\": \"category\",\n        \"num_unique_values\": 2,\n        \"samples\": [\n          \"CASES_WAV\",\n          \"CONTROLS_WAV\"\n        ],\n        \"semantic_type\": \"\",\n        \"description\": \"\"\n      }\n    }\n  ]\n}"
            }
          },
          "metadata": {},
          "execution_count": 58
        }
      ]
    },
    {
      "cell_type": "markdown",
      "source": [
        "Making a dummy label set to make sure that my model isn't taking random guesses."
      ],
      "metadata": {
        "id": "SvLayklhYpSe"
      }
    },
    {
      "cell_type": "code",
      "source": [
        "# dummy data\n",
        "import random\n",
        "\n",
        "# Define the length of the list you want\n",
        "length = len(train_labels)  # Change this to your desired length\n",
        "\n",
        "# Generate a list of random 1s and 0s of the specified length\n",
        "dummy_list = [random.choice([0, 1]) for _ in range(length)]\n",
        "\n"
      ],
      "metadata": {
        "id": "ez1PM8qwNDsC"
      },
      "execution_count": null,
      "outputs": []
    },
    {
      "cell_type": "code",
      "source": [
        "dummy_df = train_df\n",
        "dummy_df[\"DUMMY\"] = dummy_list"
      ],
      "metadata": {
        "id": "ATern9FEMwQF"
      },
      "execution_count": null,
      "outputs": []
    },
    {
      "cell_type": "code",
      "source": [
        "dummy_audio_dataset = datasets.Dataset.from_dict({\"audio\": train_full_paths,\n",
        "                                                  \"labels\":dummy_list}\n",
        "                                                 ).cast_column(\"audio\", Audio(sampling_rate=16_000))\n",
        "\n",
        "dummy_dataset = SpeechClassificationDataset(dummy_audio_dataset,  feature_extractor)\n",
        "\n",
        "batch_size = 8\n",
        "\n",
        "dummy_loader = DataLoader(dummy_dataset, batch_size=batch_size, shuffle=True)\n"
      ],
      "metadata": {
        "id": "fEN4yr5zMiIG"
      },
      "execution_count": null,
      "outputs": []
    },
    {
      "cell_type": "code",
      "source": [
        "model_checkpoint = \"openai/whisper-base\"\n",
        "\n",
        "feature_extractor = WhisperFeatureExtractor.from_pretrained(model_checkpoint)\n",
        "encoder = WhisperModel.from_pretrained(model_checkpoint)\n",
        "device = torch.device('cuda' if torch.cuda.is_available() else 'cpu')"
      ],
      "metadata": {
        "id": "2oPd_WTlPiba"
      },
      "execution_count": null,
      "outputs": []
    },
    {
      "cell_type": "code",
      "source": [
        "num_labels = 2\n",
        "\n",
        "model = SpeechClassifier(num_labels, encoder).to(device)\n",
        "optimizer = AdamW(model.parameters(), lr=2e-5, betas=(0.9, 0.999), eps=1e-08)\n",
        "criterion = nn.CrossEntropyLoss()"
      ],
      "metadata": {
        "id": "YTW6vdGLMBsY"
      },
      "execution_count": null,
      "outputs": []
    },
    {
      "cell_type": "code",
      "source": [
        "num_epochs = 5\n",
        "train(model, dummy_loader, val_loader, optimizer, criterion, device, num_epochs)"
      ],
      "metadata": {
        "colab": {
          "base_uri": "https://localhost:8080/"
        },
        "id": "ds1BqzP5OuIE",
        "outputId": "d1abf7ef-6cbb-464f-c2f3-1a4487f81161"
      },
      "execution_count": null,
      "outputs": [
        {
          "output_type": "stream",
          "name": "stdout",
          "text": [
            "Epoch 1/5, Batch 8/19, Train Loss: 0.6309\n",
            "Epoch 1/5, Batch 16/19, Train Loss: 0.6838\n",
            "========================================================================================\n",
            "Epoch 1/5, Val Loss: 0.6959, Val Accuracy: 0.5111, Val F1: 0.3382, Best Accuracy: 0.5111\n",
            "========================================================================================\n",
            "Epoch 2/5, Batch 8/19, Train Loss: 0.7486\n",
            "Epoch 2/5, Batch 16/19, Train Loss: 0.7218\n",
            "========================================================================================\n",
            "Epoch 2/5, Val Loss: 0.6875, Val Accuracy: 0.5778, Val F1: 0.4974, Best Accuracy: 0.5778\n",
            "========================================================================================\n",
            "Epoch 3/5, Batch 8/19, Train Loss: 0.7116\n",
            "Epoch 3/5, Batch 16/19, Train Loss: 0.7223\n",
            "========================================================================================\n",
            "Epoch 3/5, Val Loss: 0.6800, Val Accuracy: 0.5778, Val F1: 0.4738, Best Accuracy: 0.5778\n",
            "========================================================================================\n",
            "Epoch 4/5, Batch 8/19, Train Loss: 0.6936\n",
            "Epoch 4/5, Batch 16/19, Train Loss: 0.6941\n",
            "========================================================================================\n",
            "Epoch 4/5, Val Loss: 0.6729, Val Accuracy: 0.7111, Val F1: 0.6890, Best Accuracy: 0.7111\n",
            "========================================================================================\n",
            "Epoch 5/5, Batch 8/19, Train Loss: 0.6948\n",
            "Epoch 5/5, Batch 16/19, Train Loss: 0.7082\n",
            "========================================================================================\n",
            "Epoch 5/5, Val Loss: 0.6789, Val Accuracy: 0.5111, Val F1: 0.3382, Best Accuracy: 0.7111\n",
            "========================================================================================\n"
          ]
        }
      ]
    },
    {
      "cell_type": "markdown",
      "source": [
        "Model is not learning with the dummy data...."
      ],
      "metadata": {
        "id": "F40v4RGmRAoK"
      }
    },
    {
      "cell_type": "markdown",
      "source": [
        "## Simpler Model\n",
        "\n",
        "Let's train a simpler model to see how our model does compared to a simpler one such as SVM or Random Forrest. Generated with help from ChatGPT4"
      ],
      "metadata": {
        "id": "jGSvxTq2VbAo"
      }
    },
    {
      "cell_type": "markdown",
      "source": [
        "### SVM\n",
        "\n",
        "Support Vector Machine"
      ],
      "metadata": {
        "id": "GoL6qAD3XPZa"
      }
    },
    {
      "cell_type": "code",
      "source": [
        "from sklearn.svm import SVC\n",
        "from sklearn.preprocessing import StandardScaler\n",
        "\n",
        "\n",
        "# Define a function to extract MFCCs from an audio file\n",
        "def extract_mfcc_features(file_path, n_mfcc=13):\n",
        "    audio, sample_rate = librosa.load(file_path, sr=None)\n",
        "    mfccs = librosa.feature.mfcc(y=audio, sr=sample_rate, n_mfcc=n_mfcc)\n",
        "    mfccs_scaled = np.mean(mfccs.T, axis=0)  # Taking the average across time\n",
        "    return mfccs_scaled\n",
        "\n",
        "# Paths to your audio files (replace these with your actual file paths)\n",
        "audio_files = train_full_paths + test_full_paths  # Add more paths as needed\n",
        "labels = train_labels + test_labels  # Corresponding labels for your audio files\n",
        "\n",
        "# Extract features from each audio file\n",
        "features = [extract_mfcc_features(file) for file in audio_files]\n",
        "\n",
        "# Split the dataset into training and testing sets\n",
        "X_train, x_test, y_train, y_test = train_test_split(features, labels, test_size=0.3, random_state=42)\n",
        "x_train, x_val, y_train, y_val = train_test_split(X_train, y_train, test_size=0.3, random_state=42)\n",
        "\n",
        "# Standardize features by removing the mean and scaling to unit variance\n",
        "scaler = StandardScaler()\n",
        "X_train = scaler.fit_transform(x_train)\n",
        "X_test = scaler.transform(x_test)\n",
        "\n",
        "# Initialize and train the SVM classifier\n",
        "svm_model = SVC(kernel='linear')  # You can experiment with different kernels\n",
        "svm_model.fit(x_train, y_train)\n",
        "\n",
        "# Predictions\n",
        "y_pred = svm_model.predict(x_val)\n",
        "\n",
        "# Evaluate the model\n",
        "print(\"Accuracy:\", accuracy_score(y_val, y_pred))\n",
        "print(\"Classification Report:\", classification_report(y_val, y_pred))\n"
      ],
      "metadata": {
        "colab": {
          "base_uri": "https://localhost:8080/"
        },
        "id": "FNt0KvLKVhqC",
        "outputId": "851e631a-3fb4-4e0f-8257-dd2c1f1a381c"
      },
      "execution_count": null,
      "outputs": [
        {
          "output_type": "stream",
          "name": "stdout",
          "text": [
            "Accuracy: 0.8717948717948718\n",
            "Classification Report:               precision    recall  f1-score   support\n",
            "\n",
            "         0.0       0.89      0.84      0.86        19\n",
            "         1.0       0.86      0.90      0.88        20\n",
            "\n",
            "    accuracy                           0.87        39\n",
            "   macro avg       0.87      0.87      0.87        39\n",
            "weighted avg       0.87      0.87      0.87        39\n",
            "\n"
          ]
        }
      ]
    },
    {
      "cell_type": "markdown",
      "source": [
        "### Random Forest\n"
      ],
      "metadata": {
        "id": "gch3m5CvXTBW"
      }
    },
    {
      "cell_type": "code",
      "source": [
        "from sklearn.ensemble import RandomForestClassifier\n",
        "# Initialize and train the Random Forest classifier\n",
        "rf_model = RandomForestClassifier(n_estimators=100)  # You can adjust the number of trees\n",
        "rf_model.fit(x_train, y_train)\n",
        "\n",
        "# Make predictions - VAL\n",
        "y_pred = rf_model.predict(x_val)\n",
        "\n",
        "# Evaluate the classifier\n",
        "print(\"Accuracy:\", accuracy_score(y_val, y_pred))\n",
        "print(\"Classification Report:\", classification_report(y_val, y_pred))"
      ],
      "metadata": {
        "colab": {
          "base_uri": "https://localhost:8080/"
        },
        "id": "EtACXySZXU2d",
        "outputId": "5b5fa04a-6fd2-4bb0-f056-e3a62d1854ba"
      },
      "execution_count": null,
      "outputs": [
        {
          "output_type": "stream",
          "name": "stdout",
          "text": [
            "Accuracy: 0.9230769230769231\n",
            "Classification Report:               precision    recall  f1-score   support\n",
            "\n",
            "         0.0       0.94      0.89      0.92        19\n",
            "         1.0       0.90      0.95      0.93        20\n",
            "\n",
            "    accuracy                           0.92        39\n",
            "   macro avg       0.92      0.92      0.92        39\n",
            "weighted avg       0.92      0.92      0.92        39\n",
            "\n"
          ]
        }
      ]
    },
    {
      "cell_type": "code",
      "source": [],
      "metadata": {
        "id": "Nhyg3YbYcfyF"
      },
      "execution_count": null,
      "outputs": []
    }
  ],
  "metadata": {
    "kernelspec": {
      "display_name": "Python 3",
      "name": "python3"
    },
    "language_info": {
      "codemirror_mode": {
        "name": "ipython",
        "version": 3
      },
      "file_extension": ".py",
      "mimetype": "text/x-python",
      "name": "python",
      "nbconvert_exporter": "python",
      "pygments_lexer": "ipython3",
      "version": "3.9.0"
    },
    "colab": {
      "provenance": [],
      "machine_shape": "hm",
      "gpuType": "T4"
    },
    "accelerator": "GPU"
  },
  "nbformat": 4,
  "nbformat_minor": 0
}