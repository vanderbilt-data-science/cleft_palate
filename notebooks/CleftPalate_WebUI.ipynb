{
  "nbformat": 4,
  "nbformat_minor": 0,
  "metadata": {
    "colab": {
      "provenance": []
    },
    "kernelspec": {
      "name": "python3",
      "display_name": "Python 3"
    },
    "language_info": {
      "name": "python"
    }
  },
  "cells": [
    {
      "cell_type": "markdown",
      "source": [
        "# Web App User Interface\n",
        "\n",
        "This notebook contains the code for a basic web application interface. This UI allows a user to record or upload an audio file, but it is not connected to any model inferencing yet."
      ],
      "metadata": {
        "id": "T42_Xr3pHOHh"
      }
    },
    {
      "cell_type": "markdown",
      "source": [
        "###Setup"
      ],
      "metadata": {
        "id": "ppvXZdVHKLk0"
      }
    },
    {
      "cell_type": "code",
      "source": [
        " #!pip install -q gradio\n",
        "\n",
        "import gradio as gr"
      ],
      "metadata": {
        "id": "nIwUU3q3KLJA"
      },
      "execution_count": null,
      "outputs": []
    },
    {
      "cell_type": "markdown",
      "source": [
        "### Page 1: Intro and Welcome\n",
        "\n",
        "This page displays a Welcome message and provides information about the purpose and functionality of the app. It also displays a button which will link the user to the next page."
      ],
      "metadata": {
        "id": "Ra3MRzTKIJgN"
      }
    },
    {
      "cell_type": "code",
      "source": [
        "with gr.Blocks() as demo:\n",
        "    gr.Markdown(\n",
        "    \"\"\"\n",
        "    # Welcome Message\n",
        "    App Intro Paragraph Goes Here!\n",
        "    \"\"\")\n",
        "\n",
        "    with gr.Row():\n",
        "        btn1 = gr.Button(\"Click here to upload your audio!\")\n",
        "\n",
        "demo.launch(debug=True)"
      ],
      "metadata": {
        "id": "wE7BN7A0IQwV"
      },
      "execution_count": null,
      "outputs": []
    },
    {
      "cell_type": "markdown",
      "source": [
        "### Page 2: Audio Upload\n",
        "\n",
        "This page allows the user to choose between uploading an audio file or recording audio through a microphone."
      ],
      "metadata": {
        "id": "l1gB4bqaITkv"
      }
    },
    {
      "cell_type": "code",
      "source": [
        "# ADD CODE - this link is helpful for audio recording https://www.gradio.app/docs/audio\n",
        "\n",
        "with gr.Blocks() as demo:\n",
        "    gr.Audio()\n",
        "\n",
        "demo.launch(debug=True)"
      ],
      "metadata": {
        "id": "_6eFGe0nIZBa"
      },
      "execution_count": null,
      "outputs": []
    },
    {
      "cell_type": "markdown",
      "source": [
        "### Page 3: Data Analysis\n",
        "This page allows the user to decide if they want to have their data analyzed through our model."
      ],
      "metadata": {
        "id": "EsJOC9jWIfRw"
      }
    },
    {
      "cell_type": "code",
      "source": [
        "# ADD CODE\n",
        "with gr.Blocks() as demo:\n",
        "    gr.Markdown(\n",
        "    \"\"\"\n",
        "    # Data Analysis\n",
        "    \"\"\")\n",
        "\n",
        "demo.launch(debug=True)"
      ],
      "metadata": {
        "id": "o9giSfxSIi9R",
        "colab": {
          "base_uri": "https://localhost:8080/",
          "height": 628
        },
        "outputId": "294344ed-9c8c-4aea-ab9f-d88f6170d160"
      },
      "execution_count": null,
      "outputs": [
        {
          "metadata": {
            "tags": null
          },
          "name": "stdout",
          "output_type": "stream",
          "text": [
            "Setting queue=True in a Colab notebook requires sharing enabled. Setting `share=True` (you can turn this off by setting `share=False` in `launch()` explicitly).\n",
            "\n",
            "Colab notebook detected. This cell will run indefinitely so that you can see errors and logs. To turn off, set debug=False in launch().\n",
            "Running on public URL: https://65fe4a638a1d5a3315.gradio.live\n",
            "\n",
            "This share link expires in 72 hours. For free permanent hosting and GPU upgrades, run `gradio deploy` from Terminal to deploy to Spaces (https://huggingface.co/spaces)\n"
          ]
        },
        {
          "data": {
            "text/html": [
              "<div><iframe src=\"https://65fe4a638a1d5a3315.gradio.live\" width=\"100%\" height=\"500\" allow=\"autoplay; camera; microphone; clipboard-read; clipboard-write;\" frameborder=\"0\" allowfullscreen></iframe></div>"
            ],
            "text/plain": [
              "<IPython.core.display.HTML object>"
            ]
          },
          "metadata": {},
          "output_type": "display_data"
        }
      ]
    }
  ]
}