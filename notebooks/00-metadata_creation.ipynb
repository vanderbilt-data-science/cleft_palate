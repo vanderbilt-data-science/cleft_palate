{
 "cells": [
  {
   "cell_type": "markdown",
   "metadata": {},
   "source": [
    "# Data Catalog Processing\n",
    "\n",
    "In this notebook I have preserved the steps used to create and preprocess the dataset metadata found in catalog.csv, train.csv, and test.csv."
   ]
  },
  {
   "cell_type": "code",
   "execution_count": 1,
   "metadata": {},
   "outputs": [],
   "source": [
    "# libraries\n",
    "\n",
    "import pandas as pd\n",
    "import os"
   ]
  },
  {
   "cell_type": "code",
   "execution_count": 6,
   "metadata": {},
   "outputs": [],
   "source": [
    "data_path = \"../data\"#PATH TO DATA FOLDER\n",
    "\n",
    "train_catalog = \"../data/public_samples/train.csv\"#PATH TO TRAIN.CSV\n",
    "test_catalog = \"../data/public_samples/test.csv\"#PATH TO TEXT.CSV"
   ]
  },
  {
   "cell_type": "markdown",
   "metadata": {},
   "source": [
    "## Adding File Path for .WAV files\n",
    "\n",
    "All of the original data was in .mp3 format, but we converted those to .wav files. This section adds the path for the .WAV files to the metadata catalogs. The converted WAV files can be found on [Google Drive](https://drive.google.com/drive/folders/1LtRm7rT9IzXIOpSvJQw7GReqS1Wd-j_I?usp=sharing)."
   ]
  },
  {
   "cell_type": "code",
   "execution_count": 7,
   "metadata": {},
   "outputs": [],
   "source": [
    "train_metadata = pd.read_csv(train_catalog)\n",
    "test_metadata = pd.read_csv(test_catalog)"
   ]
  },
  {
   "cell_type": "code",
   "execution_count": 8,
   "metadata": {},
   "outputs": [
    {
     "name": "stderr",
     "output_type": "stream",
     "text": [
      "C:\\Users\\useltom\\AppData\\Local\\Temp\\ipykernel_12060\\292972033.py:4: FutureWarning: The default value of regex will change from True to False in a future version.\n",
      "  train_metadata['WAV_filename'] = train_metadata['File_Name'].str.replace('.mp3', '.wav')\n"
     ]
    }
   ],
   "source": [
    "# add cols for wav data\n",
    "\n",
    "# Replace \".mp3\" with \".wav\" in the \"Filename\" column\n",
    "train_metadata['WAV_filename'] = train_metadata['File_Name'].str.replace('.mp3', '.wav')\n",
    "\n",
    "# Create \"WAV_folder\" column by concatenating \"_WAV\" to the \"folder\" column\n",
    "train_metadata['WAV_folder'] = train_metadata['folder'] + \"_WAV\""
   ]
  },
  {
   "cell_type": "code",
   "execution_count": 10,
   "metadata": {},
   "outputs": [
    {
     "name": "stderr",
     "output_type": "stream",
     "text": [
      "C:\\Users\\useltom\\AppData\\Local\\Temp\\ipykernel_12060\\3166376184.py:4: FutureWarning: The default value of regex will change from True to False in a future version.\n",
      "  test_metadata['WAV_filename'] = test_metadata['File_Name'].str.replace('.mp3', '.wav')\n"
     ]
    }
   ],
   "source": [
    "# add cols for wav data\n",
    "\n",
    "# Replace \".mp3\" with \".wav\" in the \"Filename\" column\n",
    "test_metadata['WAV_filename'] = test_metadata['File_Name'].str.replace('.mp3', '.wav')\n",
    "\n",
    "# Create \"WAV_folder\" column by concatenating \"_WAV\" to the \"folder\" column\n",
    "test_metadata['WAV_folder'] = test_metadata['folder'] + \"_WAV\""
   ]
  },
  {
   "cell_type": "markdown",
   "metadata": {},
   "source": [
    "## Saving the dataframe"
   ]
  },
  {
   "cell_type": "code",
   "execution_count": 11,
   "metadata": {},
   "outputs": [],
   "source": [
    "train_metadata.to_csv(train_catalog, index=False)\n",
    "test_metadata.to_csv(test_catalog, index=False)   "
   ]
  }
 ],
 "metadata": {
  "kernelspec": {
   "display_name": "Python 3",
   "language": "python",
   "name": "python3"
  },
  "language_info": {
   "codemirror_mode": {
    "name": "ipython",
    "version": 3
   },
   "file_extension": ".py",
   "mimetype": "text/x-python",
   "name": "python",
   "nbconvert_exporter": "python",
   "pygments_lexer": "ipython3",
   "version": "3.11.3"
  }
 },
 "nbformat": 4,
 "nbformat_minor": 2
}
