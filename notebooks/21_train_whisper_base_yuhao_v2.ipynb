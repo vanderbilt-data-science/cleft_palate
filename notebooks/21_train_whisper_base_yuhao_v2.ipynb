{
  "cells": [
    {
      "cell_type": "markdown",
      "metadata": {
        "id": "CyB0fe7yF4Mh"
      },
      "source": [
        "# Fine-tuning Whisper on Speech Pathology Dataset\n",
        "\n",
        "## Goal\n",
        "\n",
        "The goal of the Cleft Palate project (name TBD) at Vanderbilt DSI is to classify audio clips of patients' voices as containing hypernasality (a speech impediment) or not. The patients with hypernasality can then be recommended for speech pathology intervention. This is currently evaluated by human speech pathologists, which requires access to these medical providers. Our hope is to train a model that can classify this speech impediment for expedited patient access to a speech pathologist."
      ]
    },
    {
      "cell_type": "markdown",
      "metadata": {
        "id": "k-jy3au5F4Mi"
      },
      "source": [
        "## Model\n",
        "\n",
        "In this notebook we train the Whisper model with a Sequence Classification Head."
      ]
    },
    {
      "cell_type": "markdown",
      "metadata": {
        "id": "gZrXyRlPF4Mi"
      },
      "source": [
        "## Data\n",
        "\n",
        "The data in this notebook is publicly available voice recordings featuring hypernasality and control groups. In the future we hope to train our model on private patient data from Vanderbilt University Medical Center (VUMC)."
      ]
    },
    {
      "cell_type": "code",
      "execution_count": null,
      "metadata": {
        "id": "KifWdFjsF-B6",
        "colab": {
          "base_uri": "https://localhost:8080/"
        },
        "outputId": "13078aaf-0b30-41b7-df23-a28e963e8ffa"
      },
      "outputs": [
        {
          "output_type": "stream",
          "name": "stdout",
          "text": [
            "Requirement already satisfied: torch in /usr/local/lib/python3.10/dist-packages (2.3.1+cu121)\n",
            "Requirement already satisfied: filelock in /usr/local/lib/python3.10/dist-packages (from torch) (3.15.4)\n",
            "Requirement already satisfied: typing-extensions>=4.8.0 in /usr/local/lib/python3.10/dist-packages (from torch) (4.12.2)\n",
            "Requirement already satisfied: sympy in /usr/local/lib/python3.10/dist-packages (from torch) (1.13.1)\n",
            "Requirement already satisfied: networkx in /usr/local/lib/python3.10/dist-packages (from torch) (3.3)\n",
            "Requirement already satisfied: jinja2 in /usr/local/lib/python3.10/dist-packages (from torch) (3.1.4)\n",
            "Requirement already satisfied: fsspec in /usr/local/lib/python3.10/dist-packages (from torch) (2024.5.0)\n",
            "Requirement already satisfied: nvidia-cuda-nvrtc-cu12==12.1.105 in /usr/local/lib/python3.10/dist-packages (from torch) (12.1.105)\n",
            "Requirement already satisfied: nvidia-cuda-runtime-cu12==12.1.105 in /usr/local/lib/python3.10/dist-packages (from torch) (12.1.105)\n",
            "Requirement already satisfied: nvidia-cuda-cupti-cu12==12.1.105 in /usr/local/lib/python3.10/dist-packages (from torch) (12.1.105)\n",
            "Requirement already satisfied: nvidia-cudnn-cu12==8.9.2.26 in /usr/local/lib/python3.10/dist-packages (from torch) (8.9.2.26)\n",
            "Requirement already satisfied: nvidia-cublas-cu12==12.1.3.1 in /usr/local/lib/python3.10/dist-packages (from torch) (12.1.3.1)\n",
            "Requirement already satisfied: nvidia-cufft-cu12==11.0.2.54 in /usr/local/lib/python3.10/dist-packages (from torch) (11.0.2.54)\n",
            "Requirement already satisfied: nvidia-curand-cu12==10.3.2.106 in /usr/local/lib/python3.10/dist-packages (from torch) (10.3.2.106)\n",
            "Requirement already satisfied: nvidia-cusolver-cu12==11.4.5.107 in /usr/local/lib/python3.10/dist-packages (from torch) (11.4.5.107)\n",
            "Requirement already satisfied: nvidia-cusparse-cu12==12.1.0.106 in /usr/local/lib/python3.10/dist-packages (from torch) (12.1.0.106)\n",
            "Requirement already satisfied: nvidia-nccl-cu12==2.20.5 in /usr/local/lib/python3.10/dist-packages (from torch) (2.20.5)\n",
            "Requirement already satisfied: nvidia-nvtx-cu12==12.1.105 in /usr/local/lib/python3.10/dist-packages (from torch) (12.1.105)\n",
            "Requirement already satisfied: triton==2.3.1 in /usr/local/lib/python3.10/dist-packages (from torch) (2.3.1)\n",
            "Requirement already satisfied: nvidia-nvjitlink-cu12 in /usr/local/lib/python3.10/dist-packages (from nvidia-cusolver-cu12==11.4.5.107->torch) (12.5.82)\n",
            "Requirement already satisfied: MarkupSafe>=2.0 in /usr/local/lib/python3.10/dist-packages (from jinja2->torch) (2.1.5)\n",
            "Requirement already satisfied: mpmath<1.4,>=1.1.0 in /usr/local/lib/python3.10/dist-packages (from sympy->torch) (1.3.0)\n",
            "Requirement already satisfied: datasets in /usr/local/lib/python3.10/dist-packages (2.20.0)\n",
            "Requirement already satisfied: filelock in /usr/local/lib/python3.10/dist-packages (from datasets) (3.15.4)\n",
            "Requirement already satisfied: numpy>=1.17 in /usr/local/lib/python3.10/dist-packages (from datasets) (1.26.4)\n",
            "Requirement already satisfied: pyarrow>=15.0.0 in /usr/local/lib/python3.10/dist-packages (from datasets) (17.0.0)\n",
            "Requirement already satisfied: pyarrow-hotfix in /usr/local/lib/python3.10/dist-packages (from datasets) (0.6)\n",
            "Requirement already satisfied: dill<0.3.9,>=0.3.0 in /usr/local/lib/python3.10/dist-packages (from datasets) (0.3.8)\n",
            "Requirement already satisfied: pandas in /usr/local/lib/python3.10/dist-packages (from datasets) (2.1.4)\n",
            "Requirement already satisfied: requests>=2.32.2 in /usr/local/lib/python3.10/dist-packages (from datasets) (2.32.3)\n",
            "Requirement already satisfied: tqdm>=4.66.3 in /usr/local/lib/python3.10/dist-packages (from datasets) (4.66.4)\n",
            "Requirement already satisfied: xxhash in /usr/local/lib/python3.10/dist-packages (from datasets) (3.4.1)\n",
            "Requirement already satisfied: multiprocess in /usr/local/lib/python3.10/dist-packages (from datasets) (0.70.16)\n",
            "Requirement already satisfied: fsspec<=2024.5.0,>=2023.1.0 in /usr/local/lib/python3.10/dist-packages (from fsspec[http]<=2024.5.0,>=2023.1.0->datasets) (2024.5.0)\n",
            "Requirement already satisfied: aiohttp in /usr/local/lib/python3.10/dist-packages (from datasets) (3.9.5)\n",
            "Requirement already satisfied: huggingface-hub>=0.21.2 in /usr/local/lib/python3.10/dist-packages (from datasets) (0.23.5)\n",
            "Requirement already satisfied: packaging in /usr/local/lib/python3.10/dist-packages (from datasets) (24.1)\n",
            "Requirement already satisfied: pyyaml>=5.1 in /usr/local/lib/python3.10/dist-packages (from datasets) (6.0.1)\n",
            "Requirement already satisfied: aiosignal>=1.1.2 in /usr/local/lib/python3.10/dist-packages (from aiohttp->datasets) (1.3.1)\n",
            "Requirement already satisfied: attrs>=17.3.0 in /usr/local/lib/python3.10/dist-packages (from aiohttp->datasets) (23.2.0)\n",
            "Requirement already satisfied: frozenlist>=1.1.1 in /usr/local/lib/python3.10/dist-packages (from aiohttp->datasets) (1.4.1)\n",
            "Requirement already satisfied: multidict<7.0,>=4.5 in /usr/local/lib/python3.10/dist-packages (from aiohttp->datasets) (6.0.5)\n",
            "Requirement already satisfied: yarl<2.0,>=1.0 in /usr/local/lib/python3.10/dist-packages (from aiohttp->datasets) (1.9.4)\n",
            "Requirement already satisfied: async-timeout<5.0,>=4.0 in /usr/local/lib/python3.10/dist-packages (from aiohttp->datasets) (4.0.3)\n",
            "Requirement already satisfied: typing-extensions>=3.7.4.3 in /usr/local/lib/python3.10/dist-packages (from huggingface-hub>=0.21.2->datasets) (4.12.2)\n",
            "Requirement already satisfied: charset-normalizer<4,>=2 in /usr/local/lib/python3.10/dist-packages (from requests>=2.32.2->datasets) (3.3.2)\n",
            "Requirement already satisfied: idna<4,>=2.5 in /usr/local/lib/python3.10/dist-packages (from requests>=2.32.2->datasets) (3.7)\n",
            "Requirement already satisfied: urllib3<3,>=1.21.1 in /usr/local/lib/python3.10/dist-packages (from requests>=2.32.2->datasets) (2.0.7)\n",
            "Requirement already satisfied: certifi>=2017.4.17 in /usr/local/lib/python3.10/dist-packages (from requests>=2.32.2->datasets) (2024.7.4)\n",
            "Requirement already satisfied: python-dateutil>=2.8.2 in /usr/local/lib/python3.10/dist-packages (from pandas->datasets) (2.8.2)\n",
            "Requirement already satisfied: pytz>=2020.1 in /usr/local/lib/python3.10/dist-packages (from pandas->datasets) (2024.1)\n",
            "Requirement already satisfied: tzdata>=2022.1 in /usr/local/lib/python3.10/dist-packages (from pandas->datasets) (2024.1)\n",
            "Requirement already satisfied: six>=1.5 in /usr/local/lib/python3.10/dist-packages (from python-dateutil>=2.8.2->pandas->datasets) (1.16.0)\n",
            "Requirement already satisfied: librosa in /usr/local/lib/python3.10/dist-packages (0.10.2.post1)\n",
            "Requirement already satisfied: audioread>=2.1.9 in /usr/local/lib/python3.10/dist-packages (from librosa) (3.0.1)\n",
            "Requirement already satisfied: numpy!=1.22.0,!=1.22.1,!=1.22.2,>=1.20.3 in /usr/local/lib/python3.10/dist-packages (from librosa) (1.26.4)\n",
            "Requirement already satisfied: scipy>=1.2.0 in /usr/local/lib/python3.10/dist-packages (from librosa) (1.13.1)\n",
            "Requirement already satisfied: scikit-learn>=0.20.0 in /usr/local/lib/python3.10/dist-packages (from librosa) (1.3.2)\n",
            "Requirement already satisfied: joblib>=0.14 in /usr/local/lib/python3.10/dist-packages (from librosa) (1.4.2)\n",
            "Requirement already satisfied: decorator>=4.3.0 in /usr/local/lib/python3.10/dist-packages (from librosa) (4.4.2)\n",
            "Requirement already satisfied: numba>=0.51.0 in /usr/local/lib/python3.10/dist-packages (from librosa) (0.60.0)\n",
            "Requirement already satisfied: soundfile>=0.12.1 in /usr/local/lib/python3.10/dist-packages (from librosa) (0.12.1)\n",
            "Requirement already satisfied: pooch>=1.1 in /usr/local/lib/python3.10/dist-packages (from librosa) (1.8.2)\n",
            "Requirement already satisfied: soxr>=0.3.2 in /usr/local/lib/python3.10/dist-packages (from librosa) (0.4.0)\n",
            "Requirement already satisfied: typing-extensions>=4.1.1 in /usr/local/lib/python3.10/dist-packages (from librosa) (4.12.2)\n",
            "Requirement already satisfied: lazy-loader>=0.1 in /usr/local/lib/python3.10/dist-packages (from librosa) (0.4)\n",
            "Requirement already satisfied: msgpack>=1.0 in /usr/local/lib/python3.10/dist-packages (from librosa) (1.0.8)\n",
            "Requirement already satisfied: packaging in /usr/local/lib/python3.10/dist-packages (from lazy-loader>=0.1->librosa) (24.1)\n",
            "Requirement already satisfied: llvmlite<0.44,>=0.43.0dev0 in /usr/local/lib/python3.10/dist-packages (from numba>=0.51.0->librosa) (0.43.0)\n",
            "Requirement already satisfied: platformdirs>=2.5.0 in /usr/local/lib/python3.10/dist-packages (from pooch>=1.1->librosa) (4.2.2)\n",
            "Requirement already satisfied: requests>=2.19.0 in /usr/local/lib/python3.10/dist-packages (from pooch>=1.1->librosa) (2.32.3)\n",
            "Requirement already satisfied: threadpoolctl>=2.0.0 in /usr/local/lib/python3.10/dist-packages (from scikit-learn>=0.20.0->librosa) (3.5.0)\n",
            "Requirement already satisfied: cffi>=1.0 in /usr/local/lib/python3.10/dist-packages (from soundfile>=0.12.1->librosa) (1.16.0)\n",
            "Requirement already satisfied: pycparser in /usr/local/lib/python3.10/dist-packages (from cffi>=1.0->soundfile>=0.12.1->librosa) (2.22)\n",
            "Requirement already satisfied: charset-normalizer<4,>=2 in /usr/local/lib/python3.10/dist-packages (from requests>=2.19.0->pooch>=1.1->librosa) (3.3.2)\n",
            "Requirement already satisfied: idna<4,>=2.5 in /usr/local/lib/python3.10/dist-packages (from requests>=2.19.0->pooch>=1.1->librosa) (3.7)\n",
            "Requirement already satisfied: urllib3<3,>=1.21.1 in /usr/local/lib/python3.10/dist-packages (from requests>=2.19.0->pooch>=1.1->librosa) (2.0.7)\n",
            "Requirement already satisfied: certifi>=2017.4.17 in /usr/local/lib/python3.10/dist-packages (from requests>=2.19.0->pooch>=1.1->librosa) (2024.7.4)\n",
            "Requirement already satisfied: transformers in /usr/local/lib/python3.10/dist-packages (4.42.4)\n",
            "Requirement already satisfied: filelock in /usr/local/lib/python3.10/dist-packages (from transformers) (3.15.4)\n",
            "Requirement already satisfied: huggingface-hub<1.0,>=0.23.2 in /usr/local/lib/python3.10/dist-packages (from transformers) (0.23.5)\n",
            "Requirement already satisfied: numpy<2.0,>=1.17 in /usr/local/lib/python3.10/dist-packages (from transformers) (1.26.4)\n",
            "Requirement already satisfied: packaging>=20.0 in /usr/local/lib/python3.10/dist-packages (from transformers) (24.1)\n",
            "Requirement already satisfied: pyyaml>=5.1 in /usr/local/lib/python3.10/dist-packages (from transformers) (6.0.1)\n",
            "Requirement already satisfied: regex!=2019.12.17 in /usr/local/lib/python3.10/dist-packages (from transformers) (2024.5.15)\n",
            "Requirement already satisfied: requests in /usr/local/lib/python3.10/dist-packages (from transformers) (2.32.3)\n",
            "Requirement already satisfied: safetensors>=0.4.1 in /usr/local/lib/python3.10/dist-packages (from transformers) (0.4.3)\n",
            "Requirement already satisfied: tokenizers<0.20,>=0.19 in /usr/local/lib/python3.10/dist-packages (from transformers) (0.19.1)\n",
            "Requirement already satisfied: tqdm>=4.27 in /usr/local/lib/python3.10/dist-packages (from transformers) (4.66.4)\n",
            "Requirement already satisfied: fsspec>=2023.5.0 in /usr/local/lib/python3.10/dist-packages (from huggingface-hub<1.0,>=0.23.2->transformers) (2024.5.0)\n",
            "Requirement already satisfied: typing-extensions>=3.7.4.3 in /usr/local/lib/python3.10/dist-packages (from huggingface-hub<1.0,>=0.23.2->transformers) (4.12.2)\n",
            "Requirement already satisfied: charset-normalizer<4,>=2 in /usr/local/lib/python3.10/dist-packages (from requests->transformers) (3.3.2)\n",
            "Requirement already satisfied: idna<4,>=2.5 in /usr/local/lib/python3.10/dist-packages (from requests->transformers) (3.7)\n",
            "Requirement already satisfied: urllib3<3,>=1.21.1 in /usr/local/lib/python3.10/dist-packages (from requests->transformers) (2.0.7)\n",
            "Requirement already satisfied: certifi>=2017.4.17 in /usr/local/lib/python3.10/dist-packages (from requests->transformers) (2024.7.4)\n"
          ]
        }
      ],
      "source": [
        "# FOR GOOGLE DRIVE USE ONLY\n",
        "!pip install torch\n",
        "!pip install datasets\n",
        "!pip install librosa\n",
        "!pip install transformers"
      ]
    },
    {
      "cell_type": "code",
      "execution_count": null,
      "metadata": {
        "id": "0frbPwrsF4Mj"
      },
      "outputs": [],
      "source": [
        "# import libraries\n",
        "import datasets\n",
        "from datasets import load_dataset, DatasetDict,  Audio\n",
        "import pandas as pd\n",
        "import os\n",
        "import glob\n",
        "import librosa\n",
        "import io\n",
        "import numpy as np\n",
        "from sklearn.model_selection import train_test_split\n",
        "from sklearn.metrics import f1_score, classification_report, accuracy_score\n",
        "from transformers import WhisperModel, WhisperFeatureExtractor, AdamW\n",
        "import torch\n",
        "import torch.nn as nn\n",
        "import torch.utils.data\n",
        "from torch.utils.data import Dataset, DataLoader\n",
        "from datasets import load_dataset, load_from_disk"
      ]
    },
    {
      "cell_type": "code",
      "execution_count": null,
      "metadata": {
        "colab": {
          "base_uri": "https://localhost:8080/"
        },
        "id": "7_KbJHQxHJyp",
        "outputId": "f194ebd0-6692-4b65-902e-c372946f6ec1"
      },
      "outputs": [
        {
          "output_type": "stream",
          "name": "stdout",
          "text": [
            "Drive already mounted at /content/drive; to attempt to forcibly remount, call drive.mount(\"/content/drive\", force_remount=True).\n"
          ]
        }
      ],
      "source": [
        "# mount google drive\n",
        "\n",
        "from google.colab import drive\n",
        "drive.mount('/content/drive')\n"
      ]
    },
    {
      "cell_type": "markdown",
      "metadata": {
        "id": "xSk_DTreF4Ml"
      },
      "source": [
        "### Load PyTorch datasets\n",
        "\n",
        "If you have not already, run the `01-load-data.ipynb` notebook to create the files \"../data/train_dataset.pt\", \"../data/val_dataset.pt\", and \"../data/test_dataset.pt\". Then, load them using the cell below."
      ]
    },
    {
      "cell_type": "code",
      "execution_count": null,
      "metadata": {
        "id": "exgEfm5JT0qm"
      },
      "outputs": [],
      "source": [
        "# load data from disk\n",
        "train_audio_dataset = load_from_disk('/content/drive/MyDrive/cleft_palate/content/cleft_palate/data/public_samples/extracted_files/train_dataset')\n",
        "test_audio_dataset = load_from_disk('/content/drive/MyDrive/cleft_palate/content/cleft_palate/data/public_samples/extracted_files/test_dataset')\n",
        "val_audio_dataset = load_from_disk('/content/drive/MyDrive/cleft_palate/content/cleft_palate/data/public_samples/extracted_files/val_dataset')"
      ]
    },
    {
      "cell_type": "code",
      "execution_count": null,
      "metadata": {
        "id": "cC0SCQsZF4Mm"
      },
      "outputs": [],
      "source": [
        "model_checkpoint = \"openai/whisper-base\"\n",
        "\n",
        "feature_extractor = WhisperFeatureExtractor.from_pretrained(model_checkpoint)\n",
        "encoder = WhisperModel.from_pretrained(model_checkpoint)\n",
        "device = torch.device('cuda' if torch.cuda.is_available() else 'cpu')\n"
      ]
    },
    {
      "cell_type": "code",
      "execution_count": null,
      "metadata": {
        "id": "09pDF62uF4Mm"
      },
      "outputs": [],
      "source": [
        "\n",
        "class SpeechClassificationDataset(torch.utils.data.Dataset):\n",
        "    def __init__(self, audio_data,  text_processor):\n",
        "        self.audio_data = audio_data\n",
        "        self.text_processor = text_processor\n",
        "\n",
        "    def __len__(self):\n",
        "        return len(self.audio_data)\n",
        "\n",
        "    def __getitem__(self, index):\n",
        "\n",
        "      inputs = self.text_processor(self.audio_data[index][\"audio\"][\"array\"],\n",
        "                                   return_tensors=\"pt\",\n",
        "                                   sampling_rate=self.audio_data[index][\"audio\"][\"sampling_rate\"])\n",
        "      input_features = inputs.input_features\n",
        "      decoder_input_ids = torch.tensor([[1, 1]]) * encoder.config.decoder_start_token_id\n",
        "\n",
        "      labels = np.array(self.audio_data[index]['labels'])\n",
        "\n",
        "      return input_features, decoder_input_ids, torch.tensor(labels)\n"
      ]
    },
    {
      "cell_type": "code",
      "execution_count": null,
      "metadata": {
        "id": "5gw-7620F4Mm"
      },
      "outputs": [],
      "source": [
        "train_dataset = SpeechClassificationDataset(train_audio_dataset,  feature_extractor)\n",
        "test_dataset = SpeechClassificationDataset(test_audio_dataset,  feature_extractor)\n",
        "val_dataset = SpeechClassificationDataset(val_audio_dataset,  feature_extractor)\n",
        "\n",
        "batch_size = 8\n",
        "\n",
        "train_loader = DataLoader(train_dataset, batch_size=batch_size, shuffle=True)\n",
        "val_loader = DataLoader(val_dataset, batch_size=batch_size, shuffle=False)\n",
        "test_loader = DataLoader(test_dataset, batch_size=batch_size, shuffle=False)"
      ]
    },
    {
      "cell_type": "markdown",
      "metadata": {
        "id": "hzARqHUEF4Mm"
      },
      "source": [
        "## Training\n",
        "\n",
        "Training for Whisper model."
      ]
    },
    {
      "cell_type": "code",
      "execution_count": null,
      "metadata": {
        "id": "JVjXzUnbF4Mm"
      },
      "outputs": [],
      "source": [
        "\n",
        "class SpeechClassifier(nn.Module):\n",
        "    def __init__(self, num_labels, encoder):\n",
        "        super(SpeechClassifier, self).__init__()\n",
        "        self.encoder = encoder\n",
        "        self.classifier = nn.Sequential(\n",
        "            nn.Linear(self.encoder.config.hidden_size, 1024),\n",
        "            nn.BatchNorm1d(1024),\n",
        "            nn.ReLU(),\n",
        "            nn.Dropout(0.5),\n",
        "            nn.Linear(1024, 512),\n",
        "            nn.BatchNorm1d(512),\n",
        "            nn.ReLU(),\n",
        "            nn.Dropout(0.5),\n",
        "            nn.Linear(512, num_labels)\n",
        "        )\n",
        "\n",
        "    def forward(self, input_features, decoder_input_ids):\n",
        "        outputs = self.encoder(input_features, decoder_input_ids=decoder_input_ids)\n",
        "        pooled_output = outputs['last_hidden_state'][:, 0, :]\n",
        "        logits = self.classifier(pooled_output)\n",
        "        return logits\n",
        "\n"
      ]
    },
    {
      "cell_type": "code",
      "execution_count": null,
      "metadata": {
        "id": "VIkVorEXF4Mn"
      },
      "outputs": [],
      "source": [
        "num_labels = 2\n",
        "\n",
        "model = SpeechClassifier(num_labels, encoder).to(device)\n",
        "optimizer = AdamW(model.parameters(), lr=2e-5, betas=(0.9, 0.999), eps=1e-08, weight_decay=1e-4) # Using L2 regularization\n",
        "criterion = nn.CrossEntropyLoss()"
      ]
    },
    {
      "cell_type": "code",
      "source": [
        "#@title Method of earlystopping\n",
        "class EarlyStopping():\n",
        "    def __init__(self, tolerance=5, min_delta=0):\n",
        "        self.tolerance = tolerance\n",
        "        self.counter = 0\n",
        "        self.best_score = None\n",
        "        self.early_stop = False\n",
        "        self.val_loss_min = np.Inf\n",
        "        self.min_delta = min_delta\n",
        "\n",
        "    def __call__(self, val_loss, model):\n",
        "        score = -val_loss\n",
        "\n",
        "        if self.best_score is None:\n",
        "            self.best_score = score\n",
        "            self.save_checkpoint(val_loss, model)\n",
        "        elif score < self.best_score + self.min_delta:\n",
        "            self.counter += 1\n",
        "            if self.counter >= self.tolerance:\n",
        "                self.early_stop = True\n",
        "        else:\n",
        "            self.best_score = score\n",
        "            self.save_checkpoint(val_loss, model)\n",
        "            self.counter = 0\n",
        "\n",
        "    def save_checkpoint(self, val_loss, model):\n",
        "        torch.save(model.state_dict(), '/content/drive/MyDrive/cleft_palate/content/cleft_palate/model/whisper_base_model.pt')\n",
        "        self.val_loss_min = val_loss\n",
        "\n",
        "def train(model, train_loader, val_loader, optimizer, criterion, device, num_epochs):\n",
        "    early_stopping = EarlyStopping(tolerance=5)\n",
        "    train_losses = []\n",
        "    val_losses = []\n",
        "\n",
        "    for epoch in range(num_epochs):\n",
        "        model.train()\n",
        "        running_loss = 0.0\n",
        "\n",
        "        for i, batch in enumerate(train_loader):\n",
        "            input_features, decoder_input_ids, labels = batch\n",
        "            input_features = input_features.squeeze().to(device)\n",
        "            decoder_input_ids = decoder_input_ids.squeeze().to(device)\n",
        "            labels = labels.view(-1).type(torch.LongTensor).to(device)\n",
        "\n",
        "            optimizer.zero_grad()\n",
        "            logits = model(input_features, decoder_input_ids)\n",
        "            loss = criterion(logits, labels)\n",
        "            loss.backward()\n",
        "            optimizer.step()\n",
        "            running_loss += loss.item()\n",
        "\n",
        "            if (i+1) % 8 == 0:\n",
        "                print(f'Epoch {epoch+1}/{num_epochs}, Batch {i+1}/{len(train_loader)}, Train Loss: {loss.item():.4f}')\n",
        "\n",
        "        epoch_train_loss = running_loss / len(train_loader)\n",
        "        train_losses.append(epoch_train_loss)\n",
        "\n",
        "        val_loss, val_accuracy, val_f1, _, _ = evaluate(model, val_loader, device)\n",
        "        val_losses.append(val_loss)\n",
        "\n",
        "        print(\"========================================================================================\")\n",
        "        print(f'Epoch {epoch+1}/{num_epochs}, Val Loss: {val_loss:.4f}, Val Accuracy: {val_accuracy:.4f}, Val F1: {val_f1:.4f}')\n",
        "        print(\"========================================================================================\")\n",
        "\n",
        "        early_stopping(val_loss, model)\n",
        "\n",
        "        if early_stopping.early_stop:\n",
        "            print(\"Early stopping\")\n",
        "            break\n",
        "\n",
        "    return train_losses, val_losses"
      ],
      "metadata": {
        "id": "B4O0mgOMsIhq"
      },
      "execution_count": null,
      "outputs": []
    },
    {
      "cell_type": "code",
      "execution_count": null,
      "metadata": {
        "id": "Z7Q4-ze0F4Mn"
      },
      "outputs": [],
      "source": [
        "def evaluate(model, data_loader, device):\n",
        "    all_labels = []\n",
        "    all_preds = []\n",
        "    total_loss = 0.0\n",
        "\n",
        "    with torch.no_grad():\n",
        "        for i, batch in enumerate(data_loader):\n",
        "            input_features, decoder_input_ids, labels = batch\n",
        "            input_features = input_features.squeeze().to(device)\n",
        "            decoder_input_ids = decoder_input_ids.squeeze().to(device)\n",
        "            labels = labels.view(-1).type(torch.LongTensor).to(device)\n",
        "\n",
        "            logits = model(input_features, decoder_input_ids)\n",
        "            loss = criterion(logits, labels)\n",
        "            total_loss += loss.item()\n",
        "\n",
        "            _, preds = torch.max(logits, 1)\n",
        "            all_labels.append(labels.cpu().numpy())\n",
        "            all_preds.append(preds.cpu().numpy())\n",
        "\n",
        "    all_labels = np.concatenate(all_labels, axis=0)\n",
        "    all_preds = np.concatenate(all_preds, axis=0)\n",
        "    loss = total_loss / len(data_loader)\n",
        "    accuracy = accuracy_score(all_labels, all_preds)\n",
        "    f1 = f1_score(all_labels, all_preds, average='macro')\n",
        "    return loss, accuracy, f1, all_labels, all_preds"
      ]
    },
    {
      "cell_type": "code",
      "source": [],
      "metadata": {
        "id": "YdJpvhhwaJGc"
      },
      "execution_count": null,
      "outputs": []
    },
    {
      "cell_type": "code",
      "source": [
        "import torch\n",
        "import numpy as np\n",
        "from sklearn.model_selection import KFold\n",
        "from sklearn.metrics import accuracy_score, f1_score\n",
        "\n",
        "def cross_validate(model_class, dataset, k_folds=5, num_epochs=50, batch_size=8, device='cuda'):\n",
        "    kfold = KFold(n_splits=k_folds, shuffle=True)\n",
        "    fold_results = []\n",
        "    global train_losses, val_losses\n",
        "    best_model_state = None\n",
        "    best_val_f1 = 0.0\n",
        "\n",
        "    for fold, (train_ids, val_ids) in enumerate(kfold.split(dataset)):\n",
        "        print(f'Fold {fold+1}/{k_folds}')\n",
        "\n",
        "        # Convert numpy.int64 indices to Python int\n",
        "        train_ids = [int(idx) for idx in train_ids]\n",
        "        val_ids = [int(idx) for idx in val_ids]\n",
        "\n",
        "        # Train and evaluate\n",
        "        train_losses, val_losses = train(model, train_loader, val_loader, optimizer, criterion, device, num_epochs)\n",
        "\n",
        "        val_loss, val_accuracy, val_f1, _, _ = evaluate(model, val_loader, device)\n",
        "        fold_results.append({\n",
        "            'fold': fold+1,\n",
        "            'val_loss': val_loss,\n",
        "            'val_accuracy': val_accuracy,\n",
        "            'val_f1': val_f1\n",
        "        })\n",
        "\n",
        "        print(f'Fold {fold+1} - Loss: {val_loss:.4f}, Accuracy: {val_accuracy:.4f}, F1 Score: {val_f1:.4f}')\n",
        "\n",
        "        if val_f1 > best_val_f1:\n",
        "            best_val_f1 = val_f1\n",
        "            best_model_state = model.state_dict()\n",
        "            torch.save(best_model_state, f'/content/drive/MyDrive/cleft_palate/content/cleft_palate/model/whisper_base_best_model_fold_{fold+1}.pt')\n",
        "\n",
        "    if best_model_state is not None:\n",
        "        torch.save(best_model_state, '/content/drive/MyDrive/cleft_palate/content/cleft_palate/model/whisper_base_final_best_model.pt')\n",
        "\n",
        "    return fold_results"
      ],
      "metadata": {
        "id": "H1EQymkiaTFH"
      },
      "execution_count": null,
      "outputs": []
    },
    {
      "cell_type": "code",
      "source": [
        "results = cross_validate(SpeechClassifier, train_dataset, k_folds=5, num_epochs=50, batch_size=8, device=device)"
      ],
      "metadata": {
        "colab": {
          "base_uri": "https://localhost:8080/"
        },
        "id": "azeeGJ5OaTCd",
        "outputId": "9ba6066a-370e-4c34-ab8d-d6edc9c69475"
      },
      "execution_count": null,
      "outputs": [
        {
          "output_type": "stream",
          "name": "stdout",
          "text": [
            "Fold 1/5\n",
            "Epoch 1/50, Batch 8/13, Train Loss: 0.8507\n",
            "========================================================================================\n",
            "Epoch 1/50, Val Loss: 0.6584, Val Accuracy: 0.5778, Val F1: 0.5744\n",
            "========================================================================================\n",
            "Epoch 2/50, Batch 8/13, Train Loss: 0.4022\n",
            "========================================================================================\n",
            "Epoch 2/50, Val Loss: 0.5950, Val Accuracy: 0.6444, Val F1: 0.6429\n",
            "========================================================================================\n",
            "Epoch 3/50, Batch 8/13, Train Loss: 0.6284\n",
            "========================================================================================\n",
            "Epoch 3/50, Val Loss: 0.4863, Val Accuracy: 0.7333, Val F1: 0.7332\n",
            "========================================================================================\n",
            "Epoch 4/50, Batch 8/13, Train Loss: 0.3330\n",
            "========================================================================================\n",
            "Epoch 4/50, Val Loss: 0.4587, Val Accuracy: 0.7778, Val F1: 0.7777\n",
            "========================================================================================\n",
            "Epoch 5/50, Batch 8/13, Train Loss: 0.3145\n",
            "========================================================================================\n",
            "Epoch 5/50, Val Loss: 0.3960, Val Accuracy: 0.8000, Val F1: 0.7996\n",
            "========================================================================================\n",
            "Epoch 6/50, Batch 8/13, Train Loss: 0.1124\n",
            "========================================================================================\n",
            "Epoch 6/50, Val Loss: 0.4374, Val Accuracy: 0.7778, Val F1: 0.7777\n",
            "========================================================================================\n",
            "Epoch 7/50, Batch 8/13, Train Loss: 0.0513\n",
            "========================================================================================\n",
            "Epoch 7/50, Val Loss: 0.4439, Val Accuracy: 0.8222, Val F1: 0.8221\n",
            "========================================================================================\n",
            "Epoch 8/50, Batch 8/13, Train Loss: 0.1378\n",
            "========================================================================================\n",
            "Epoch 8/50, Val Loss: 0.5022, Val Accuracy: 0.8667, Val F1: 0.8666\n",
            "========================================================================================\n",
            "Epoch 9/50, Batch 8/13, Train Loss: 0.0880\n",
            "========================================================================================\n",
            "Epoch 9/50, Val Loss: 0.5697, Val Accuracy: 0.8444, Val F1: 0.8441\n",
            "========================================================================================\n",
            "Epoch 10/50, Batch 8/13, Train Loss: 0.0229\n",
            "========================================================================================\n",
            "Epoch 10/50, Val Loss: 0.4672, Val Accuracy: 0.8222, Val F1: 0.8221\n",
            "========================================================================================\n",
            "Early stopping\n",
            "Fold 1 - Loss: 0.4699, Accuracy: 0.8444, F1 Score: 0.8441\n",
            "Fold 2/5\n",
            "Epoch 1/50, Batch 8/13, Train Loss: 0.1339\n",
            "========================================================================================\n",
            "Epoch 1/50, Val Loss: 0.4968, Val Accuracy: 0.8444, Val F1: 0.8444\n",
            "========================================================================================\n",
            "Epoch 2/50, Batch 8/13, Train Loss: 0.0290\n",
            "========================================================================================\n",
            "Epoch 2/50, Val Loss: 0.4339, Val Accuracy: 0.8667, Val F1: 0.8666\n",
            "========================================================================================\n",
            "Epoch 3/50, Batch 8/13, Train Loss: 0.0234\n",
            "========================================================================================\n",
            "Epoch 3/50, Val Loss: 0.4722, Val Accuracy: 0.8667, Val F1: 0.8666\n",
            "========================================================================================\n",
            "Epoch 4/50, Batch 8/13, Train Loss: 0.0378\n",
            "========================================================================================\n",
            "Epoch 4/50, Val Loss: 0.5502, Val Accuracy: 0.8444, Val F1: 0.8432\n",
            "========================================================================================\n",
            "Epoch 5/50, Batch 8/13, Train Loss: 0.3037\n",
            "========================================================================================\n",
            "Epoch 5/50, Val Loss: 0.5704, Val Accuracy: 0.8000, Val F1: 0.7996\n",
            "========================================================================================\n",
            "Epoch 6/50, Batch 8/13, Train Loss: 0.0565\n",
            "========================================================================================\n",
            "Epoch 6/50, Val Loss: 0.6257, Val Accuracy: 0.8000, Val F1: 0.7996\n",
            "========================================================================================\n",
            "Epoch 7/50, Batch 8/13, Train Loss: 0.1017\n",
            "========================================================================================\n",
            "Epoch 7/50, Val Loss: 0.5417, Val Accuracy: 0.7778, Val F1: 0.7777\n",
            "========================================================================================\n",
            "Early stopping\n",
            "Fold 2 - Loss: 0.4890, Accuracy: 0.8222, F1 Score: 0.8221\n",
            "Fold 3/5\n",
            "Epoch 1/50, Batch 8/13, Train Loss: 0.0280\n",
            "========================================================================================\n",
            "Epoch 1/50, Val Loss: 0.6269, Val Accuracy: 0.8000, Val F1: 0.8000\n",
            "========================================================================================\n",
            "Epoch 2/50, Batch 8/13, Train Loss: 0.0633\n",
            "========================================================================================\n",
            "Epoch 2/50, Val Loss: 0.5713, Val Accuracy: 0.8222, Val F1: 0.8221\n",
            "========================================================================================\n",
            "Epoch 3/50, Batch 8/13, Train Loss: 0.0708\n",
            "========================================================================================\n",
            "Epoch 3/50, Val Loss: 0.6916, Val Accuracy: 0.8000, Val F1: 0.7996\n",
            "========================================================================================\n",
            "Epoch 4/50, Batch 8/13, Train Loss: 0.9253\n",
            "========================================================================================\n",
            "Epoch 4/50, Val Loss: 0.7576, Val Accuracy: 0.8000, Val F1: 0.7996\n",
            "========================================================================================\n",
            "Epoch 5/50, Batch 8/13, Train Loss: 0.0166\n",
            "========================================================================================\n",
            "Epoch 5/50, Val Loss: 0.7461, Val Accuracy: 0.8000, Val F1: 0.7996\n",
            "========================================================================================\n",
            "Epoch 6/50, Batch 8/13, Train Loss: 0.0315\n",
            "========================================================================================\n",
            "Epoch 6/50, Val Loss: 0.7556, Val Accuracy: 0.8000, Val F1: 0.7996\n",
            "========================================================================================\n",
            "Epoch 7/50, Batch 8/13, Train Loss: 0.0161\n",
            "========================================================================================\n",
            "Epoch 7/50, Val Loss: 0.8090, Val Accuracy: 0.8222, Val F1: 0.8221\n",
            "========================================================================================\n",
            "Early stopping\n",
            "Fold 3 - Loss: 0.7456, Accuracy: 0.8000, F1 Score: 0.8000\n",
            "Fold 4/5\n",
            "Epoch 1/50, Batch 8/13, Train Loss: 0.0134\n",
            "========================================================================================\n",
            "Epoch 1/50, Val Loss: 0.8157, Val Accuracy: 0.7778, Val F1: 0.7777\n",
            "========================================================================================\n",
            "Epoch 2/50, Batch 8/13, Train Loss: 0.0128\n",
            "========================================================================================\n",
            "Epoch 2/50, Val Loss: 0.8311, Val Accuracy: 0.7778, Val F1: 0.7777\n",
            "========================================================================================\n",
            "Epoch 3/50, Batch 8/13, Train Loss: 0.0153\n",
            "========================================================================================\n",
            "Epoch 3/50, Val Loss: 0.8184, Val Accuracy: 0.8222, Val F1: 0.8221\n",
            "========================================================================================\n",
            "Epoch 4/50, Batch 8/13, Train Loss: 0.0120\n",
            "========================================================================================\n",
            "Epoch 4/50, Val Loss: 0.8943, Val Accuracy: 0.7778, Val F1: 0.7777\n",
            "========================================================================================\n",
            "Epoch 5/50, Batch 8/13, Train Loss: 0.0147\n",
            "========================================================================================\n",
            "Epoch 5/50, Val Loss: 0.8486, Val Accuracy: 0.7556, Val F1: 0.7551\n",
            "========================================================================================\n",
            "Epoch 6/50, Batch 8/13, Train Loss: 0.0137\n",
            "========================================================================================\n",
            "Epoch 6/50, Val Loss: 0.9043, Val Accuracy: 0.7778, Val F1: 0.7777\n",
            "========================================================================================\n",
            "Early stopping\n",
            "Fold 4 - Loss: 0.7961, Accuracy: 0.8000, F1 Score: 0.7996\n",
            "Fold 5/5\n",
            "Epoch 1/50, Batch 8/13, Train Loss: 0.0528\n",
            "========================================================================================\n",
            "Epoch 1/50, Val Loss: 0.8890, Val Accuracy: 0.8222, Val F1: 0.8221\n",
            "========================================================================================\n",
            "Epoch 2/50, Batch 8/13, Train Loss: 0.0335\n",
            "========================================================================================\n",
            "Epoch 2/50, Val Loss: 0.8704, Val Accuracy: 0.8222, Val F1: 0.8221\n",
            "========================================================================================\n",
            "Epoch 3/50, Batch 8/13, Train Loss: 0.0075\n",
            "========================================================================================\n",
            "Epoch 3/50, Val Loss: 0.8358, Val Accuracy: 0.8222, Val F1: 0.8221\n",
            "========================================================================================\n",
            "Epoch 4/50, Batch 8/13, Train Loss: 0.0041\n",
            "========================================================================================\n",
            "Epoch 4/50, Val Loss: 0.9051, Val Accuracy: 0.8222, Val F1: 0.8221\n",
            "========================================================================================\n",
            "Epoch 5/50, Batch 8/13, Train Loss: 0.0076\n",
            "========================================================================================\n",
            "Epoch 5/50, Val Loss: 0.8991, Val Accuracy: 0.8222, Val F1: 0.8221\n",
            "========================================================================================\n",
            "Epoch 6/50, Batch 8/13, Train Loss: 0.0047\n",
            "========================================================================================\n",
            "Epoch 6/50, Val Loss: 0.9350, Val Accuracy: 0.8000, Val F1: 0.8000\n",
            "========================================================================================\n",
            "Epoch 7/50, Batch 8/13, Train Loss: 0.0030\n",
            "========================================================================================\n",
            "Epoch 7/50, Val Loss: 1.0281, Val Accuracy: 0.7778, Val F1: 0.7777\n",
            "========================================================================================\n",
            "Epoch 8/50, Batch 8/13, Train Loss: 0.0223\n",
            "========================================================================================\n",
            "Epoch 8/50, Val Loss: 0.9097, Val Accuracy: 0.8000, Val F1: 0.8000\n",
            "========================================================================================\n",
            "Early stopping\n",
            "Fold 5 - Loss: 0.9280, Accuracy: 0.8000, F1 Score: 0.8000\n"
          ]
        }
      ]
    },
    {
      "cell_type": "markdown",
      "metadata": {
        "id": "KjETS9sqYRD5"
      },
      "source": [
        "### Evaluation\n",
        "\n",
        "#### Validation Set\n",
        "\n",
        "Evaluate how our model performs on the validation set."
      ]
    },
    {
      "cell_type": "code",
      "execution_count": null,
      "metadata": {
        "id": "bILZRSn4JvlG"
      },
      "outputs": [],
      "source": [
        "import torch\n",
        "from sklearn.metrics import classification_report, accuracy_score\n",
        "import matplotlib.pyplot as plt\n",
        "\n",
        "best_fold = max(results, key=lambda x: x['val_accuracy'])\n",
        "\n",
        "#VALIDATION\n",
        "state_dict = torch.load('/content/drive/MyDrive/cleft_palate/content/cleft_palate/model/whisper_base_final_best_model.pt')\n",
        "\n",
        "# Create a new instance of the model and load the state dictionary\n",
        "num_labels = 2\n",
        "model = SpeechClassifier(num_labels, encoder).to(device)\n",
        "model.load_state_dict(state_dict)\n",
        "\n",
        "val_loss, val_accuracy, val_f1, all_labels, all_preds = evaluate(model, val_loader, device)"
      ]
    },
    {
      "cell_type": "code",
      "execution_count": null,
      "metadata": {
        "colab": {
          "base_uri": "https://localhost:8080/"
        },
        "id": "fyNUpLHeJ5p1",
        "outputId": "283fff46-f5c4-4d5e-927b-bad8517e0fc2"
      },
      "outputs": [
        {
          "output_type": "stream",
          "name": "stdout",
          "text": [
            "              precision    recall  f1-score   support\n",
            "\n",
            "           0       0.78      0.82      0.80        22\n",
            "           1       0.82      0.78      0.80        23\n",
            "\n",
            "    accuracy                           0.80        45\n",
            "   macro avg       0.80      0.80      0.80        45\n",
            "weighted avg       0.80      0.80      0.80        45\n",
            "\n",
            "Accuracy: 0.8000\n"
          ]
        }
      ],
      "source": [
        "#VALIDATION\n",
        "print(classification_report(all_labels, all_preds))\n",
        "print(f'Accuracy: {accuracy_score(all_labels, all_preds):.4f}')"
      ]
    },
    {
      "cell_type": "code",
      "source": [
        "epochs = range(1, len(train_losses) + 1)\n",
        "plt.plot(epochs, train_losses, 'b', label='Training loss')\n",
        "plt.plot(epochs, val_losses, 'r', label='Validation loss')\n",
        "plt.title('Training and validation loss')\n",
        "plt.xlabel('Epochs')\n",
        "plt.ylabel('Loss')\n",
        "plt.legend()\n",
        "plt.show()"
      ],
      "metadata": {
        "colab": {
          "base_uri": "https://localhost:8080/",
          "height": 472
        },
        "id": "iFPLgxoaosnZ",
        "outputId": "4e16118c-832e-41a1-c91b-14ab3c87887c"
      },
      "execution_count": null,
      "outputs": [
        {
          "output_type": "display_data",
          "data": {
            "text/plain": [
              "<Figure size 640x480 with 1 Axes>"
            ],
            "image/png": "[encoded data removed]"
          },
          "metadata": {}
        }
      ]
    }
  ],
  "metadata": {
    "accelerator": "GPU",
    "colab": {
      "gpuType": "L4",
      "machine_shape": "hm",
      "provenance": []
    },
    "kernelspec": {
      "display_name": "Python 3",
      "name": "python3"
    },
    "language_info": {
      "codemirror_mode": {
        "name": "ipython",
        "version": 3
      },
      "file_extension": ".py",
      "mimetype": "text/x-python",
      "name": "python",
      "nbconvert_exporter": "python",
      "pygments_lexer": "ipython3",
      "version": "3.11.3"
    }
  },
  "nbformat": 4,
  "nbformat_minor": 0
}