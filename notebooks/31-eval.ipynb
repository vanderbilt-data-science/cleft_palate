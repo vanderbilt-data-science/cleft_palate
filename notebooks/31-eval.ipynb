{
 "cells": [
  {
   "cell_type": "code",
   "execution_count": 1,
   "id": "fc97db35",
   "metadata": {},
   "outputs": [
    {
     "name": "stderr",
     "output_type": "stream",
     "text": [
      "/usr/local/lib/python3.10/dist-packages/tqdm/auto.py:21: TqdmWarning: IProgress not found. Please update jupyter and ipywidgets. See https://ipywidgets.readthedocs.io/en/stable/user_install.html\n",
      "  from .autonotebook import tqdm as notebook_tqdm\n"
     ]
    }
   ],
   "source": [
    "# import libraries\n",
    "import datasets\n",
    "from datasets import load_dataset, DatasetDict,  Audio\n",
    "import pandas as pd\n",
    "import os\n",
    "import glob\n",
    "import librosa\n",
    "import io\n",
    "import numpy as np\n",
    "from sklearn.model_selection import train_test_split\n",
    "from sklearn.metrics import f1_score, classification_report, accuracy_score\n",
    "from transformers import WhisperModel, WhisperFeatureExtractor, AdamW\n",
    "import torch\n",
    "import torch.nn as nn\n",
    "import torch.utils.data\n",
    "from torch.utils.data import Dataset, DataLoader\n",
    "from datasets import load_dataset, load_from_disk"
   ]
  },
  {
   "cell_type": "code",
   "execution_count": 2,
   "id": "89b94815",
   "metadata": {},
   "outputs": [],
   "source": [
    "# load data from disk\n",
    "train_audio_dataset = load_from_disk('../data/train_dataset')\n",
    "test_audio_dataset = load_from_disk('../data/test_dataset')\n",
    "val_audio_dataset = load_from_disk('../data/val_dataset')"
   ]
  },
  {
   "cell_type": "code",
   "execution_count": 4,
   "id": "5500171e",
   "metadata": {},
   "outputs": [],
   "source": [
    "model_checkpoint = \"openai/whisper-base\"\n",
    "\n",
    "feature_extractor = WhisperFeatureExtractor.from_pretrained(model_checkpoint, do_normalize=False)\n",
    "encoder = WhisperModel.from_pretrained(model_checkpoint)\n",
    "device = torch.device('cuda:7' if torch.cuda.is_available() else 'cpu')"
   ]
  },
  {
   "cell_type": "code",
   "execution_count": 5,
   "id": "e637791f",
   "metadata": {},
   "outputs": [],
   "source": [
    "\n",
    "class SpeechClassificationDataset(torch.utils.data.Dataset):\n",
    "    def __init__(self, audio_data,  text_processor):\n",
    "        self.audio_data = audio_data\n",
    "        self.text_processor = text_processor\n",
    "\n",
    "    def __len__(self):\n",
    "        return len(self.audio_data)\n",
    "\n",
    "    def __getitem__(self, index):\n",
    "\n",
    "      inputs = self.text_processor(self.audio_data[index][\"audio\"][\"array\"],\n",
    "                                   return_tensors=\"pt\",\n",
    "                                   sampling_rate=self.audio_data[index][\"audio\"][\"sampling_rate\"])\n",
    "      input_features = inputs.input_features\n",
    "      decoder_input_ids = torch.tensor([[1, 1]]) * encoder.config.decoder_start_token_id\n",
    "\n",
    "      labels = np.array(self.audio_data[index]['labels'])\n",
    "\n",
    "      return input_features, decoder_input_ids, torch.tensor(labels)\n"
   ]
  },
  {
   "cell_type": "code",
   "execution_count": 6,
   "id": "44c42526",
   "metadata": {},
   "outputs": [],
   "source": [
    "train_dataset = SpeechClassificationDataset(train_audio_dataset,  feature_extractor)\n",
    "test_dataset = SpeechClassificationDataset(test_audio_dataset,  feature_extractor)\n",
    "val_dataset = SpeechClassificationDataset(val_audio_dataset,  feature_extractor)\n",
    "\n",
    "batch_size = 8\n",
    "\n",
    "train_loader = DataLoader(train_dataset, batch_size=batch_size, shuffle=True)\n",
    "val_loader = DataLoader(val_dataset, batch_size=batch_size, shuffle=False)\n",
    "test_loader = DataLoader(test_dataset, batch_size=batch_size, shuffle=False)"
   ]
  },
  {
   "cell_type": "code",
   "execution_count": 9,
   "id": "cb8ccdb3",
   "metadata": {},
   "outputs": [],
   "source": [
    "\n",
    "class SpeechClassifier(nn.Module):\n",
    "    def __init__(self, num_labels, encoder):\n",
    "        super(SpeechClassifier, self).__init__()\n",
    "        self.encoder = encoder\n",
    "        self.classifier = nn.Sequential(\n",
    "            nn.Linear(self.encoder.config.hidden_size, 4096),\n",
    "            nn.ReLU(),\n",
    "            nn.Linear(4096, 2048),\n",
    "            nn.ReLU(),\n",
    "            nn.Linear(2048, 1024),\n",
    "            nn.ReLU(),\n",
    "            nn.Linear(1024, 512),\n",
    "            nn.ReLU(),\n",
    "            nn.Linear(512, num_labels)\n",
    "        )\n",
    "\n",
    "    def forward(self, input_features, decoder_input_ids):\n",
    "        outputs = self.encoder(input_features, decoder_input_ids=decoder_input_ids)\n",
    "        pooled_output = outputs['last_hidden_state'][:, 0, :]\n",
    "        logits = self.classifier(pooled_output)\n",
    "        return logits\n",
    "\n"
   ]
  },
  {
   "cell_type": "code",
   "execution_count": 7,
   "id": "49d4a5f0",
   "metadata": {},
   "outputs": [],
   "source": [
    "def evaluate(model, data_loader,  device):\n",
    "\n",
    "    all_labels = []\n",
    "    all_preds = []\n",
    "    total_loss = 0.0\n",
    "\n",
    "    with torch.no_grad():\n",
    "\n",
    "        for i, batch in enumerate(data_loader):\n",
    "\n",
    "          input_features, decoder_input_ids, labels = batch\n",
    "\n",
    "          input_features = input_features.squeeze()\n",
    "          input_features = input_features.to(device)\n",
    "\n",
    "          decoder_input_ids = decoder_input_ids.squeeze()\n",
    "          decoder_input_ids = decoder_input_ids.to(device)\n",
    "\n",
    "          labels = labels.view(-1)\n",
    "          labels = labels.type(torch.LongTensor)\n",
    "          labels = labels.to(device)\n",
    "\n",
    "          optimizer.zero_grad()\n",
    "\n",
    "          logits = model(input_features, decoder_input_ids)\n",
    "\n",
    "          loss = criterion(logits, labels)\n",
    "          total_loss += loss.item()\n",
    "\n",
    "          _, preds = torch.max(logits, 1)\n",
    "          all_labels.append(labels.cpu().numpy())\n",
    "          all_preds.append(preds.cpu().numpy())\n",
    "\n",
    "    all_labels = np.concatenate(all_labels, axis=0)\n",
    "    all_preds = np.concatenate(all_preds, axis=0)\n",
    "\n",
    "    loss = total_loss / len(data_loader)\n",
    "    accuracy = accuracy_score(all_labels, all_preds)\n",
    "    f1 = f1_score(all_labels, all_preds, average='macro')\n",
    "    return loss, accuracy, f1, all_labels, all_preds\n"
   ]
  },
  {
   "cell_type": "code",
   "execution_count": 12,
   "id": "8a2e039f",
   "metadata": {},
   "outputs": [],
   "source": [
    "model_checkpoint = \"openai/whisper-base\"\n",
    "\n",
    "feature_extractor = WhisperFeatureExtractor.from_pretrained(model_checkpoint)\n",
    "encoder = WhisperModel.from_pretrained(model_checkpoint)\n",
    "device = torch.device('cuda:7' if torch.cuda.is_available() else 'cpu')\n"
   ]
  },
  {
   "cell_type": "code",
   "execution_count": 20,
   "id": "26d87390",
   "metadata": {},
   "outputs": [
    {
     "name": "stderr",
     "output_type": "stream",
     "text": [
      "/usr/local/lib/python3.10/dist-packages/transformers/optimization.py:429: FutureWarning: This implementation of AdamW is deprecated and will be removed in a future version. Use the PyTorch implementation torch.optim.AdamW instead, or set `no_deprecation_warning=True` to disable this warning\n",
      "  warnings.warn(\n"
     ]
    }
   ],
   "source": [
    "num_labels = 2\n",
    "\n",
    "model = SpeechClassifier(num_labels, encoder).to(device)\n",
    "optimizer = AdamW(model.parameters(), lr=2e-5, betas=(0.99, 0.999), eps=1e-08)\n",
    "criterion = nn.CrossEntropyLoss()"
   ]
  },
  {
   "cell_type": "code",
   "execution_count": 16,
   "id": "40872058",
   "metadata": {},
   "outputs": [
    {
     "name": "stdout",
     "output_type": "stream",
     "text": [
      "              precision    recall  f1-score   support\n",
      "\n",
      "           0       0.82      0.78      0.80        18\n",
      "           1       0.80      0.84      0.82        19\n",
      "\n",
      "    accuracy                           0.81        37\n",
      "   macro avg       0.81      0.81      0.81        37\n",
      "weighted avg       0.81      0.81      0.81        37\n",
      "\n",
      "0.8108108108108109\n"
     ]
    }
   ],
   "source": [
    "#TEST\n",
    "# base\n",
    "state_dict = torch.load('whisper_best_model.pt')\n",
    "\n",
    "# Create a new instance of the model and load the state dictionary\n",
    "num_labels = 2\n",
    "model = SpeechClassifier(num_labels, encoder).to(device)\n",
    "model.load_state_dict(state_dict)\n",
    "\n",
    "_, _, _, all_labels, all_preds = evaluate(model, test_loader, device)\n",
    "\n",
    "#VALIDATION\n",
    "print(classification_report(all_labels, all_preds))\n",
    "print(accuracy_score(all_labels, all_preds))"
   ]
  },
  {
   "cell_type": "code",
   "execution_count": 18,
   "id": "b2cab5b1",
   "metadata": {},
   "outputs": [
    {
     "name": "stderr",
     "output_type": "stream",
     "text": [
      "/usr/local/lib/python3.10/dist-packages/transformers/optimization.py:429: FutureWarning: This implementation of AdamW is deprecated and will be removed in a future version. Use the PyTorch implementation torch.optim.AdamW instead, or set `no_deprecation_warning=True` to disable this warning\n",
      "  warnings.warn(\n"
     ]
    },
    {
     "name": "stdout",
     "output_type": "stream",
     "text": [
      "              precision    recall  f1-score   support\n",
      "\n",
      "           0       1.00      0.94      0.97        18\n",
      "           1       0.95      1.00      0.97        19\n",
      "\n",
      "    accuracy                           0.97        37\n",
      "   macro avg       0.97      0.97      0.97        37\n",
      "weighted avg       0.97      0.97      0.97        37\n",
      "\n",
      "0.972972972972973\n"
     ]
    }
   ],
   "source": [
    "#TEST\n",
    "# base\n",
    "num_labels = 2\n",
    "\n",
    "model = SpeechClassifier(num_labels, encoder).to(device)\n",
    "optimizer = AdamW(model.parameters(), lr=2e-5, betas=(0.95, 0.999), eps=1e-08, weight_decay=5e-4)\n",
    "criterion = nn.CrossEntropyLoss()\n",
    "state_dict = torch.load('whisper_best_model-tune.pt')\n",
    "\n",
    "# Create a new instance of the model and load the state dictionary\n",
    "num_labels = 2\n",
    "model = SpeechClassifier(num_labels, encoder).to(device)\n",
    "model.load_state_dict(state_dict)\n",
    "\n",
    "_, _, _, all_labels, all_preds = evaluate(model, val_loader, device)\n",
    "\n",
    "#VALIDATION\n",
    "print(classification_report(all_labels, all_preds))\n",
    "print(accuracy_score(all_labels, all_preds))"
   ]
  },
  {
   "cell_type": "code",
   "execution_count": null,
   "id": "f595d1e8",
   "metadata": {},
   "outputs": [],
   "source": []
  },
  {
   "cell_type": "code",
   "execution_count": 26,
   "id": "3d911094",
   "metadata": {},
   "outputs": [
    {
     "name": "stdout",
     "output_type": "stream",
     "text": [
      "              precision    recall  f1-score   support\n",
      "\n",
      "           0       0.90      1.00      0.95        18\n",
      "           1       1.00      0.89      0.94        19\n",
      "\n",
      "    accuracy                           0.95        37\n",
      "   macro avg       0.95      0.95      0.95        37\n",
      "weighted avg       0.95      0.95      0.95        37\n",
      "\n",
      "0.9459459459459459\n"
     ]
    }
   ],
   "source": [
    "#TEST\n",
    "# base\n",
    "model_checkpoint = \"openai/whisper-medium\"\n",
    "\n",
    "feature_extractor = WhisperFeatureExtractor.from_pretrained(model_checkpoint)\n",
    "encoder = WhisperModel.from_pretrained(model_checkpoint)\n",
    "device = torch.device('cuda:7' if torch.cuda.is_available() else 'cpu')\n",
    "\n",
    "model = SpeechClassifier(num_labels, encoder).to(device)\n",
    "optimizer = AdamW(model.parameters(), lr=2e-5, betas=(0.95, 0.999), eps=1e-08, weight_decay=5e-4)\n",
    "criterion = nn.CrossEntropyLoss()\n",
    "\n",
    "state_dict = torch.load('whisper_medium_best_model.pt')\n",
    "\n",
    "# Create a new instance of the model and load the state dictionary\n",
    "num_labels = 2\n",
    "model = SpeechClassifier(num_labels, encoder).to(device)\n",
    "model.load_state_dict(state_dict)\n",
    "\n",
    "_, _, _, all_labels, all_preds = evaluate(model, test_loader, device)\n",
    "#VALIDATION\n",
    "print(classification_report(all_labels, all_preds))\n",
    "print(accuracy_score(all_labels, all_preds))"
   ]
  },
  {
   "cell_type": "code",
   "execution_count": 27,
   "id": "49cd5b9c",
   "metadata": {},
   "outputs": [
    {
     "name": "stderr",
     "output_type": "stream",
     "text": [
      "/usr/local/lib/python3.10/dist-packages/transformers/optimization.py:429: FutureWarning: This implementation of AdamW is deprecated and will be removed in a future version. Use the PyTorch implementation torch.optim.AdamW instead, or set `no_deprecation_warning=True` to disable this warning\n",
      "  warnings.warn(\n"
     ]
    },
    {
     "name": "stdout",
     "output_type": "stream",
     "text": [
      "              precision    recall  f1-score   support\n",
      "\n",
      "           0       0.82      1.00      0.90        18\n",
      "           1       1.00      0.79      0.88        19\n",
      "\n",
      "    accuracy                           0.89        37\n",
      "   macro avg       0.91      0.89      0.89        37\n",
      "weighted avg       0.91      0.89      0.89        37\n",
      "\n",
      "0.8918918918918919\n"
     ]
    }
   ],
   "source": [
    "#TEST\n",
    "# base\n",
    "model_checkpoint = \"openai/whisper-large\"\n",
    "\n",
    "feature_extractor = WhisperFeatureExtractor.from_pretrained(model_checkpoint)\n",
    "encoder = WhisperModel.from_pretrained(model_checkpoint)\n",
    "device = torch.device('cuda:7' if torch.cuda.is_available() else 'cpu')\n",
    "\n",
    "model = SpeechClassifier(num_labels, encoder).to(device)\n",
    "optimizer = AdamW(model.parameters(), lr=2e-5, betas=(0.95, 0.999), eps=1e-08, weight_decay=5e-4)\n",
    "criterion = nn.CrossEntropyLoss()\n",
    "\n",
    "state_dict = torch.load('whisper_large_best_model.pt')\n",
    "\n",
    "# Create a new instance of the model and load the state dictionary\n",
    "num_labels = 2\n",
    "model = SpeechClassifier(num_labels, encoder).to(device)\n",
    "model.load_state_dict(state_dict)\n",
    "\n",
    "_, _, _, all_labels, all_preds = evaluate(model, test_loader, device)\n",
    "#VALIDATION\n",
    "print(classification_report(all_labels, all_preds))\n",
    "print(accuracy_score(all_labels, all_preds))"
   ]
  }
 ],
 "metadata": {
  "kernelspec": {
   "display_name": "Python 3 (ipykernel)",
   "language": "python",
   "name": "python3"
  },
  "language_info": {
   "codemirror_mode": {
    "name": "ipython",
    "version": 3
   },
   "file_extension": ".py",
   "mimetype": "text/x-python",
   "name": "python",
   "nbconvert_exporter": "python",
   "pygments_lexer": "ipython3",
   "version": "3.10.12"
  }
 },
 "nbformat": 4,
 "nbformat_minor": 5
}
