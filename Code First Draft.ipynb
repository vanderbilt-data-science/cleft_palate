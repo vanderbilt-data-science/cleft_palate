{
 "cells": [
  {
   "cell_type": "markdown",
   "metadata": {},
   "source": [
    "# Classic Wavenet implementation"
   ]
  },
  {
   "cell_type": "code",
   "execution_count": null,
   "metadata": {},
   "outputs": [],
   "source": [
    "from google.cloud import texttospeech\n",
    "\n",
    "client = texttospeech.TextToSpeechClient()\n",
    "\n",
    "input_text = texttospeech.SynthesisInput(text=\"Hello, world!\")\n",
    "\n",
    "voice = texttospeech.VoiceSelectionParams(\n",
    "    language_code=\"en-US\",\n",
    "    name=\"en-US-Wavenet-D\",\n",
    "    ssml_gender=texttospeech.SsmlVoiceGender.NEUTRAL\n",
    ")\n",
    "\n",
    "audio_config = texttospeech.AudioConfig(\n",
    "    audio_encoding=texttospeech.AudioEncoding.MP3\n",
    ")\n",
    "\n",
    "response = client.synthesize_speech(\n",
    "    input=input_text, voice=voice, audio_config=audio_config\n",
    ")\n",
    "\n",
    "with open(\"output.mp3\", \"wb\") as out:\n",
    "    out.write(response.audio_content)\n",
    "    print('Audio content written to file \"output.mp3\"')\n"
   ]
  },
  {
   "cell_type": "markdown",
   "metadata": {},
   "source": [
    "# Tacotron 2 for Voice cloning"
   ]
  },
  {
   "cell_type": "markdown",
   "metadata": {},
   "source": [
    "## Step 1: Extracting Speaker Embeddings + Creating Speaker Encoder"
   ]
  },
  {
   "cell_type": "code",
   "execution_count": null,
   "metadata": {},
   "outputs": [],
   "source": [
    "import torch\n",
    "from speaker_encoder import SpeakerEncoder\n",
    "\n",
    "# Load pre-trained speaker encoder\n",
    "speaker_encoder = SpeakerEncoder.load_model('path/to/speaker_encoder_checkpoint')\n",
    "\n",
    "# Extract speaker embedding from an audio sample\n",
    "speaker_audio = 'path/to/speaker_audio.wav'\n",
    "speaker_embedding = speaker_encoder.encode(speaker_audio)\n"
   ]
  },
  {
   "cell_type": "markdown",
   "metadata": {},
   "source": [
    "## Step 3: Training Tacotron 2"
   ]
  },
  {
   "cell_type": "code",
   "execution_count": 6,
   "metadata": {},
   "outputs": [
    {
     "name": "stdout",
     "output_type": "stream",
     "text": [
      "['__doc__', '__file__', '__loader__', '__name__', '__package__', '__path__', '__spec__']\n"
     ]
    },
    {
     "ename": "NameError",
     "evalue": "name 'Tacotron2' is not defined",
     "output_type": "error",
     "traceback": [
      "\u001b[0;31m---------------------------------------------------------------------------\u001b[0m",
      "\u001b[0;31mNameError\u001b[0m                                 Traceback (most recent call last)",
      "Cell \u001b[0;32mIn [6], line 3\u001b[0m\n\u001b[1;32m      1\u001b[0m \u001b[38;5;28;01mimport\u001b[39;00m \u001b[38;5;21;01mtacotron2\u001b[39;00m\n\u001b[1;32m      2\u001b[0m \u001b[38;5;28mprint\u001b[39m(\u001b[38;5;28mdir\u001b[39m(tacotron2))\n\u001b[0;32m----> 3\u001b[0m model \u001b[38;5;241m=\u001b[39m \u001b[43mTacotron2\u001b[49m()\n",
      "\u001b[0;31mNameError\u001b[0m: name 'Tacotron2' is not defined"
     ]
    }
   ],
   "source": [
    "import tacotron2\n",
    "print(dir(tacotron2))\n",
    "model = Tacotron2()"
   ]
  },
  {
   "cell_type": "code",
   "execution_count": 4,
   "metadata": {},
   "outputs": [
    {
     "ename": "NameError",
     "evalue": "name 'Tacotron2' is not defined",
     "output_type": "error",
     "traceback": [
      "\u001b[0;31m---------------------------------------------------------------------------\u001b[0m",
      "\u001b[0;31mNameError\u001b[0m                                 Traceback (most recent call last)",
      "Cell \u001b[0;32mIn [4], line 2\u001b[0m\n\u001b[1;32m      1\u001b[0m \u001b[38;5;66;03m# Assume `train_loader` provides batches of (text, mel-spectrogram, speaker_embedding) tuples\u001b[39;00m\n\u001b[0;32m----> 2\u001b[0m model \u001b[38;5;241m=\u001b[39m \u001b[43mTacotron2\u001b[49m()\n\u001b[1;32m      4\u001b[0m \u001b[38;5;28;01mfor\u001b[39;00m text, mel_spec, speaker_embedding \u001b[38;5;129;01min\u001b[39;00m speaker_load:\n\u001b[1;32m      5\u001b[0m     model\u001b[38;5;241m.\u001b[39mtrain_step(text, mel_spec, speaker_embedding)\n",
      "\u001b[0;31mNameError\u001b[0m: name 'Tacotron2' is not defined"
     ]
    }
   ],
   "source": [
    "\n",
    "\n",
    "# Assume `train_loader` provides batches of (text, mel-spectrogram, speaker_embedding) tuples\n",
    "model = Tacotron2()\n",
    "\n",
    "for text, mel_spec, speaker_embedding in speaker_load:\n",
    "    model.train_step(text, mel_spec, speaker_embedding)\n"
   ]
  },
  {
   "cell_type": "markdown",
   "metadata": {},
   "source": [
    "## Step 4: Speech Generation"
   ]
  },
  {
   "cell_type": "code",
   "execution_count": null,
   "metadata": {},
   "outputs": [],
   "source": [
    "# Load pre-trained Tacotron 2 and vocoder models\n",
    "tacotron2 = Tacotron2.load_model('path/to/tacotron2_checkpoint')\n",
    "vocoder = WaveGlow.load_model('path/to/waveglow_checkpoint')\n",
    "\n",
    "# Generate mel-spectrogram with Tacotron 2\n",
    "text = \"Hello, how are you?\"\n",
    "sequence = tacotron2.text_to_sequence(text)\n",
    "mel_outputs, mel_outputs_postnet, _, alignments = tacotron2.inference(sequence, speaker_embedding)\n",
    "\n",
    "# Convert mel-spectrogram to audio with the vocoder\n",
    "audio = vocoder.infer(mel_outputs_postnet)\n",
    "\n",
    "# Save the audio\n",
    "import librosa\n",
    "librosa.output.write_wav('output.wav', audio.cpu().numpy(), sr=22050)\n"
   ]
  }
 ],
 "metadata": {
  "kernelspec": {
   "display_name": "Python 3.9.13 64-bit",
   "language": "python",
   "name": "python3"
  },
  "language_info": {
   "codemirror_mode": {
    "name": "ipython",
    "version": 3
   },
   "file_extension": ".py",
   "mimetype": "text/x-python",
   "name": "python",
   "nbconvert_exporter": "python",
   "pygments_lexer": "ipython3",
   "version": "3.9.13"
  },
  "orig_nbformat": 4,
  "vscode": {
   "interpreter": {
    "hash": "aee8b7b246df8f9039afb4144a1f6fd8d2ca17a180786b69acc140d282b71a49"
   }
  }
 },
 "nbformat": 4,
 "nbformat_minor": 2
}
